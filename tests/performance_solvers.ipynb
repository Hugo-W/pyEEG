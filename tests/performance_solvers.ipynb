{
 "cells": [
  {
   "cell_type": "code",
   "execution_count": 1,
   "id": "6d046be7",
   "metadata": {},
   "outputs": [
    {
     "name": "stderr",
     "output_type": "stream",
     "text": [
      "INFO:pyeeg:Successfully loaded makeRateMap_c Python extension module.\n",
      "INFO:pyeeg:Successfully loaded gammatone_c Python extension module.\n",
      "c:\\Users\\hugwei\\Anaconda3\\envs\\sandbox\\Lib\\site-packages\\tqdm\\auto.py:21: TqdmWarning: IProgress not found. Please update jupyter and ipywidgets. See https://ipywidgets.readthedocs.io/en/stable/user_install.html\n",
      "  from .autonotebook import tqdm as notebook_tqdm\n"
     ]
    },
    {
     "ename": "ModuleNotFoundError",
     "evalue": "No module named 'pyeeg.solvers'",
     "output_type": "error",
     "traceback": [
      "\u001b[31m---------------------------------------------------------------------------\u001b[39m",
      "\u001b[31mModuleNotFoundError\u001b[39m                       Traceback (most recent call last)",
      "\u001b[36mCell\u001b[39m\u001b[36m \u001b[39m\u001b[32mIn[1]\u001b[39m\u001b[32m, line 1\u001b[39m\n\u001b[32m----> \u001b[39m\u001b[32m1\u001b[39m \u001b[38;5;28;01mfrom\u001b[39;00m\u001b[38;5;250m \u001b[39m\u001b[34;01mpyeeg\u001b[39;00m\u001b[34;01m.\u001b[39;00m\u001b[34;01msolvers\u001b[39;00m\u001b[38;5;250m \u001b[39m\u001b[38;5;28;01mimport\u001b[39;00m *\n\u001b[32m      2\u001b[39m \u001b[38;5;28;01mfrom\u001b[39;00m\u001b[38;5;250m \u001b[39m\u001b[34;01mpyeeg\u001b[39;00m\u001b[34;01m.\u001b[39;00m\u001b[34;01msolvers\u001b[39;00m\u001b[38;5;250m \u001b[39m\u001b[38;5;28;01mimport\u001b[39;00m _svd_regress, _lstsq_regress\n\u001b[32m      3\u001b[39m \u001b[38;5;28;01mfrom\u001b[39;00m\u001b[38;5;250m \u001b[39m\u001b[34;01mpyeeg\u001b[39;00m\u001b[34;01m.\u001b[39;00m\u001b[34;01msimulate\u001b[39;00m\u001b[38;5;250m \u001b[39m\u001b[38;5;28;01mimport\u001b[39;00m simulate_pulse_inputs, simulate_trf_output, dummy_trf_kernel\n",
      "\u001b[31mModuleNotFoundError\u001b[39m: No module named 'pyeeg.solvers'"
     ]
    }
   ],
   "source": [
    "from pyeeg.solvers import *\n",
    "from pyeeg.solvers import _svd_regress, _lstsq_regress\n",
    "from pyeeg.simulate import simulate_pulse_inputs, simulate_trf_output, dummy_trf_kernel\n",
    "from pyeeg.utils import lag_matrix, lag_matrix_\n",
    "import matplotlib.pyplot as plt"
   ]
  },
  {
   "cell_type": "code",
   "execution_count": 2,
   "id": "d06238e1",
   "metadata": {},
   "outputs": [
    {
     "name": "stdout",
     "output_type": "stream",
     "text": [
      "Keeping 5 components (out of 5)\n",
      "Variance explained: 1.0\n",
      "Singular values: [7.85436685e+00 8.42657940e-01 6.83365734e-01 1.20323210e-01\n",
      " 6.42334219e-04]\n"
     ]
    }
   ],
   "source": [
    "A = np.array([[4, 1], [1, 3]])\n",
    "b = np.array([1, 2])\n",
    "A = np.random.rand(5, 5)\n",
    "# A bit of multicolinearity in A, not rank deficient though, but towards ill-conditioning\n",
    "A[0] = A[2] * 0.1 + np.random.rand(5)\n",
    "A = A @ A.T\n",
    "b = np.random.rand(5)\n",
    "x0 = np.zeros_like(b)\n",
    "# Regularised solutions\n",
    "cg_solution = conjugate_gradient(A, b, x0, lambda_=.00001)\n",
    "svd_solution = svd_solver(A, b, lambda_=0.00001)\n",
    "assert np.allclose(cg_solution, svd_solution), \"Conjugate gradient and SVD solutions do not match.\"\n",
    "# Unregularised solutions\n",
    "pseudo_inverse_solution = np.linalg.pinv(A) @ b\n",
    "cg_solution = conjugate_gradient(A, b, x0, lambda_=0.0)\n",
    "svd_truncated_solution = svd_solver(A, b, lambda_=1-1e-8, truncated_svd=True, verbose=True)\n",
    "assert np.allclose(pseudo_inverse_solution, svd_truncated_solution), \"Pseudo inverse and SVD truncated solutions do not match.\"\n",
    "assert np.allclose(cg_solution, svd_truncated_solution), \"Conjugate gradient and SVD truncated solutions do not match.\""
   ]
  },
  {
   "cell_type": "code",
   "execution_count": 3,
   "id": "281c718a",
   "metadata": {},
   "outputs": [],
   "source": [
    "from pyeeg import TRFEstimator"
   ]
  },
  {
   "cell_type": "code",
   "execution_count": 4,
   "id": "8f2202a5",
   "metadata": {},
   "outputs": [
    {
     "name": "stderr",
     "output_type": "stream",
     "text": [
      "C:\\Users\\hugwei\\AppData\\Local\\Temp\\ipykernel_21680\\424680249.py:6: DeprecationWarning: The filling argument is deprecated and will be removed in future versions. See lag_matrix docstring for more info.\n",
      "  X = lag_matrix(x, lags, filling=0., drop_missing=False).copy()\n",
      "C:\\Users\\hugwei\\AppData\\Local\\Temp\\ipykernel_21680\\424680249.py:6: DeprecationWarning: The drop_missing argument is deprecated and will be removed in future versions. See lag_matrix docstring for more info.\n",
      "  X = lag_matrix(x, lags, filling=0., drop_missing=False).copy()\n"
     ]
    }
   ],
   "source": [
    "tker, ker = dummy_trf_kernel()\n",
    "t, x = simulate_pulse_inputs()\n",
    "y = simulate_trf_output(tker, ker, x).copy()\n",
    "srate = 100\n",
    "lags = np.round(tker * srate).astype(int)\n",
    "X = lag_matrix(x, lags, filling=0., drop_missing=False).copy()"
   ]
  },
  {
   "cell_type": "code",
   "execution_count": 7,
   "id": "6c4845d8",
   "metadata": {},
   "outputs": [
    {
     "data": {
      "text/plain": [
       "  C_CONTIGUOUS : True\n",
       "  F_CONTIGUOUS : True\n",
       "  OWNDATA : True\n",
       "  WRITEABLE : True\n",
       "  ALIGNED : True\n",
       "  WRITEBACKIFCOPY : False"
      ]
     },
     "execution_count": 7,
     "metadata": {},
     "output_type": "execute_result"
    }
   ],
   "source": [
    "y.flags"
   ]
  },
  {
   "cell_type": "code",
   "execution_count": null,
   "id": "4e0932b2",
   "metadata": {},
   "outputs": [
    {
     "ename": "",
     "evalue": "",
     "output_type": "error",
     "traceback": [
      "\u001b[1;31mThe Kernel crashed while executing code in the current cell or a previous cell. \n",
      "\u001b[1;31mPlease review the code in the cell(s) to identify a possible cause of the failure. \n",
      "\u001b[1;31mClick <a href='https://aka.ms/vscodeJupyterKernelCrash'>here</a> for more info. \n",
      "\u001b[1;31mView Jupyter <a href='command:jupyter.viewOutput'>log</a> for further details."
     ]
    }
   ],
   "source": [
    "X.T@y"
   ]
  },
  {
   "cell_type": "code",
   "execution_count": 6,
   "id": "52a3cc64",
   "metadata": {},
   "outputs": [
    {
     "ename": "",
     "evalue": "",
     "output_type": "error",
     "traceback": [
      "\u001b[1;31mThe Kernel crashed while executing code in the current cell or a previous cell. \n",
      "\u001b[1;31mPlease review the code in the cell(s) to identify a possible cause of the failure. \n",
      "\u001b[1;31mClick <a href='https://aka.ms/vscodeJupyterKernelCrash'>here</a> for more info. \n",
      "\u001b[1;31mView Jupyter <a href='command:jupyter.viewOutput'>log</a> for further details."
     ]
    }
   ],
   "source": [
    "XX, XY = X.T@X, X.T @ y\n"
   ]
  },
  {
   "cell_type": "code",
   "execution_count": null,
   "id": "b866afb9",
   "metadata": {},
   "outputs": [],
   "source": [
    "\n",
    "# Unregularised solutions\n",
    "pseudo_inverse_solution = np.linalg.pinv(XX) @ XY\n",
    "cg_solution = conjugate_gradient(XX, XY, np.zeros_like(XY), lambda_=0.0)\n",
    "svd_solution = svd_solver(XX, XY, lambda_=0., truncated_svd=False, verbose=False)\n",
    "# trf_solution = _svd_regress(X.copy(), y[:, None], alpha=0.)\n",
    "trf_solution = _lstsq_regress(XX, XY)\n",
    "# TRFEstimator(times=tker, srate=100).fit(X, y[:, None]).coef_.squeeze()"
   ]
  },
  {
   "cell_type": "code",
   "execution_count": 1,
   "id": "1cc9a66c",
   "metadata": {},
   "outputs": [
    {
     "ename": "NameError",
     "evalue": "name 'plt' is not defined",
     "output_type": "error",
     "traceback": [
      "\u001b[1;31m---------------------------------------------------------------------------\u001b[0m",
      "\u001b[1;31mNameError\u001b[0m                                 Traceback (most recent call last)",
      "Cell \u001b[1;32mIn[1], line 1\u001b[0m\n\u001b[1;32m----> 1\u001b[0m \u001b[43mplt\u001b[49m\u001b[38;5;241m.\u001b[39mplot(tker, ker)\n\u001b[0;32m      2\u001b[0m plt\u001b[38;5;241m.\u001b[39mplot(tker, cg_solution, label\u001b[38;5;241m=\u001b[39m\u001b[38;5;124m'\u001b[39m\u001b[38;5;124mCG\u001b[39m\u001b[38;5;124m'\u001b[39m)\n\u001b[0;32m      3\u001b[0m plt\u001b[38;5;241m.\u001b[39mplot(tker, pseudo_inverse_solution, label\u001b[38;5;241m=\u001b[39m\u001b[38;5;124m'\u001b[39m\u001b[38;5;124mCG\u001b[39m\u001b[38;5;124m'\u001b[39m)\n",
      "\u001b[1;31mNameError\u001b[0m: name 'plt' is not defined"
     ]
    }
   ],
   "source": [
    "plt.plot(tker, ker)\n",
    "plt.plot(tker, cg_solution, label='CG')\n",
    "plt.plot(tker, pseudo_inverse_solution, label='CG')\n",
    "plt.plot(tker, svd_solution, label='CG')\n",
    "plt.plot(tker, trf_solution, label='CG')\n",
    "plt.plot(tker, TRFEstimator(times=tker, srate=100).fit(x[:, None], y[:, None]).coef_.squeeze())\n",
    "plt.plot(tker, TRFEstimator(times=tker, srate=100, fit_intercept=False).fit(X[:, ::-1], y[:, None], lagged=True, drop=False).coef_.squeeze())"
   ]
  },
  {
   "cell_type": "code",
   "execution_count": 15,
   "id": "2efd74d8",
   "metadata": {},
   "outputs": [],
   "source": [
    "import numpy as np\n",
    "from pyeeg.utils import lag_matrix\n",
    "    \n",
    "def lag_matrix_np(x, lags, mode='valid', fill_value=0):\n",
    "    x = np.atleast_2d(np.asarray(x))\n",
    "    if x.shape[0] == 1:\n",
    "        x = x.T\n",
    "    if x.shape[1] > 1:\n",
    "        return np.concatenate([lag_matrix_np(x[:, i], lags, mode=mode, fill_value=fill_value) for i in range(x.shape[1])], axis=1)\n",
    "    x = x.squeeze()\n",
    "    n = len(x)\n",
    "    lags = -np.asarray(lags) #TODO: minus signs to match expected behavior from TRFEstimator: maybe change in future\n",
    "    min_lag, max_lag = lags.min(), lags.max()\n",
    "\n",
    "    # Always compute full matrix first\n",
    "    X_full = np.full((n, len(lags)), fill_value, dtype=x.dtype)\n",
    "\n",
    "    for i, lag in enumerate(lags):\n",
    "        if lag < 0:\n",
    "            X_full[-lag:, i] = x[:n + lag]\n",
    "        else:\n",
    "            X_full[:n - lag, i] = x[lag:]\n",
    "\n",
    "    if mode == 'full':\n",
    "        return X_full\n",
    "    elif mode == 'valid':\n",
    "        start = max(0, -min_lag)\n",
    "        end = n - max_lag\n",
    "        return X_full[start:end]\n",
    "    else:\n",
    "        raise ValueError(\"mode must be 'valid' or 'full'\")"
   ]
  },
  {
   "cell_type": "code",
   "execution_count": 21,
   "id": "1799a93d",
   "metadata": {},
   "outputs": [],
   "source": [
    "data = np.asarray([[1,2,3,4,5,6],[7,8,9,10,11,12]]).T\n",
    "out = lag_matrix_np(data, (-1, 0, 2), mode='full')"
   ]
  },
  {
   "cell_type": "code",
   "execution_count": 22,
   "id": "e89237ae",
   "metadata": {},
   "outputs": [
    {
     "data": {
      "text/plain": [
       "array([[ 2,  1,  0,  8,  7,  0],\n",
       "       [ 3,  2,  0,  9,  8,  0],\n",
       "       [ 4,  3,  1, 10,  9,  7],\n",
       "       [ 5,  4,  2, 11, 10,  8],\n",
       "       [ 6,  5,  3, 12, 11,  9],\n",
       "       [ 0,  6,  4,  0, 12, 10]])"
      ]
     },
     "execution_count": 22,
     "metadata": {},
     "output_type": "execute_result"
    }
   ],
   "source": [
    "out"
   ]
  },
  {
   "cell_type": "code",
   "execution_count": 250,
   "id": "b74c9f3b",
   "metadata": {},
   "outputs": [],
   "source": [
    "tker, ker = dummy_trf_kernel()\n",
    "t, x = simluate_pulse_inputs()\n",
    "y = simulate_trf_output(tker, ker, x)\n",
    "lags = np.round(tker * 100).astype(int)\n",
    "X = lag_matrix_np(x, lags, mode='full')\n",
    "# X = lag_matrix_np2(x, -lags, mode='full')\n",
    "# X = lag_matrix(x, lags, filling=0., drop_missing=False)"
   ]
  },
  {
   "cell_type": "code",
   "execution_count": 256,
   "id": "537e27d3",
   "metadata": {},
   "outputs": [
    {
     "ename": "",
     "evalue": "",
     "output_type": "error",
     "traceback": [
      "\u001b[1;31mThe Kernel crashed while executing code in the current cell or a previous cell. \n",
      "\u001b[1;31mPlease review the code in the cell(s) to identify a possible cause of the failure. \n",
      "\u001b[1;31mClick <a href='https://aka.ms/vscodeJupyterKernelCrash'>here</a> for more info. \n",
      "\u001b[1;31mView Jupyter <a href='command:jupyter.viewOutput'>log</a> for further details."
     ]
    }
   ],
   "source": [
    "svd_solver(X.T@X, X.T@y)"
   ]
  },
  {
   "cell_type": "code",
   "execution_count": 253,
   "id": "b36803b6",
   "metadata": {},
   "outputs": [
    {
     "data": {
      "text/plain": [
       "[<matplotlib.lines.Line2D at 0x20994476ba0>]"
      ]
     },
     "execution_count": 253,
     "metadata": {},
     "output_type": "execute_result"
    },
    {
     "data": {
      "image/png": "[encoded data removed]",
      "text/plain": [
       "<Figure size 640x480 with 1 Axes>"
      ]
     },
     "metadata": {},
     "output_type": "display_data"
    }
   ],
   "source": [
    "plt.plot(tker, np.linalg.lstsq(X, y[:, None], rcond=None)[0])\n",
    "plt.plot(tker, ker, 'r--')"
   ]
  },
  {
   "cell_type": "code",
   "execution_count": 223,
   "id": "a8f617f0",
   "metadata": {},
   "outputs": [
    {
     "name": "stderr",
     "output_type": "stream",
     "text": [
      "INFO:pyeeg:Lagging matrix...\n",
      "INFO:pyeeg:Computing coefficients..\n",
      "INFO:pyeeg:Computing statistics...\n",
      "INFO:pyeeg:Lagging matrix...\n",
      "INFO:pyeeg:Computing coefficients..\n",
      "INFO:pyeeg:Computing statistics...\n"
     ]
    },
    {
     "data": {
      "text/plain": [
       "[<matplotlib.lines.Line2D at 0x20995ad74d0>]"
      ]
     },
     "execution_count": 223,
     "metadata": {},
     "output_type": "execute_result"
    },
    {
     "data": {
      "image/png": "[encoded data removed]",
      "text/plain": [
       "<Figure size 640x480 with 1 Axes>"
      ]
     },
     "metadata": {},
     "output_type": "display_data"
    }
   ],
   "source": [
    "trf = TRFEstimator(times=tker, srate=100)\n",
    "trf.fit(X, y[:, None], lagged=True, drop=False)\n",
    "fig = trf.plot();\n",
    "trf.fit(x[:, None], y[:, None], lagged=False, drop=False)\n",
    "trf.plot(ax=fig.gca());\n",
    "ax = fig.gca()\n",
    "ax.plot(tker, ker)"
   ]
  },
  {
   "cell_type": "code",
   "execution_count": 159,
   "id": "741fbc7c",
   "metadata": {},
   "outputs": [
    {
     "data": {
      "text/plain": [
       "[<matplotlib.lines.Line2D at 0x2099351b530>]"
      ]
     },
     "execution_count": 159,
     "metadata": {},
     "output_type": "execute_result"
    },
    {
     "data": {
      "image/png": "[encoded data removed]",
      "text/plain": [
       "<Figure size 640x480 with 1 Axes>"
      ]
     },
     "metadata": {},
     "output_type": "display_data"
    }
   ],
   "source": [
    "plt.plot(b2)\n",
    "plt.plot(b)"
   ]
  },
  {
   "cell_type": "code",
   "execution_count": 158,
   "id": "ce1de320",
   "metadata": {},
   "outputs": [],
   "source": [
    "b = np.linalg.inv(X.T@X + 0.0001*np.eye(70)) @ X.T @ y\n",
    "b2 = np.linalg.pinv(X) @ y\n",
    "assert np.allclose(b, b2, atol=1e-4), \"Lagged matrix regression coefficients do not match.\""
   ]
  },
  {
   "cell_type": "code",
   "execution_count": 31,
   "id": "fdbf3254",
   "metadata": {},
   "outputs": [
    {
     "name": "stdout",
     "output_type": "stream",
     "text": [
      "[[2 0 0]\n",
      " [3 1 0]\n",
      " [4 2 1]\n",
      " [5 3 2]\n",
      " [6 4 3]\n",
      " [7 5 4]\n",
      " [0 6 5]\n",
      " [0 7 6]]\n"
     ]
    }
   ],
   "source": [
    "x = np.arange(8)\n",
    "X_full = lag_matrix_np(x, lags[::-1], mode='full')\n",
    "X_full_old = lag_matrix(x, lags, drop_missing=False, filling=0)\n",
    "print(X_full)"
   ]
  },
  {
   "cell_type": "code",
   "execution_count": 46,
   "id": "a3e977b5",
   "metadata": {},
   "outputs": [],
   "source": [
    "K = np.array([1., 0.5, 0.2, -0.1])"
   ]
  },
  {
   "cell_type": "code",
   "execution_count": 52,
   "id": "f3d7566b",
   "metadata": {},
   "outputs": [],
   "source": [
    "Y = X_full_test @ K"
   ]
  },
  {
   "cell_type": "code",
   "execution_count": 60,
   "id": "b5b6e232",
   "metadata": {},
   "outputs": [
    {
     "data": {
      "text/plain": [
       "array([[2, 1, 0, 0],\n",
       "       [3, 2, 1, 0],\n",
       "       [4, 3, 2, 1],\n",
       "       [5, 4, 3, 2],\n",
       "       [0, 5, 4, 3]])"
      ]
     },
     "execution_count": 60,
     "metadata": {},
     "output_type": "execute_result"
    }
   ],
   "source": [
    "X_full"
   ]
  },
  {
   "cell_type": "code",
   "execution_count": 63,
   "id": "fd99e9b7",
   "metadata": {},
   "outputs": [],
   "source": [
    "x = np.array([1, 2, 3, 4, 5])\n",
    "lags = np.array([-1, 0, 1, 2])\n",
    "# Test lag_matrix_np function\n",
    "X_valid = lag_matrix_np(x, -lags, mode='valid')\n",
    "X_full = lag_matrix_np(x, -lags, mode='full')\n",
    "# Test lag_matrix function\n",
    "X_valid_test = lag_matrix(x, lags, drop_missing=True)\n",
    "X_full_test = lag_matrix(x, lags, drop_missing=False, filling=0)\n",
    "\n",
    "# Check if the results are the same\n",
    "assert np.array_equal(X_valid, X_valid_test), \"Valid mode results do not match.\"\n",
    "assert np.array_equal(X_full, X_full_test), \"Full mode results do not match.\""
   ]
  },
  {
   "cell_type": "markdown",
   "id": "ada16dc4",
   "metadata": {},
   "source": [
    "### Performance test"
   ]
  },
  {
   "cell_type": "code",
   "execution_count": 17,
   "id": "8689eb9f",
   "metadata": {},
   "outputs": [
    {
     "name": "stdout",
     "output_type": "stream",
     "text": [
      "9.94 μs ± 149 ns per loop (mean ± std. dev. of 7 runs, 100,000 loops each)\n",
      "11 μs ± 340 ns per loop (mean ± std. dev. of 7 runs, 100,000 loops each)\n",
      "1.14 ms ± 30.7 μs per loop (mean ± std. dev. of 7 runs, 1,000 loops each)\n",
      "771 μs ± 22.8 μs per loop (mean ± std. dev. of 7 runs, 1,000 loops each)\n"
     ]
    }
   ],
   "source": [
    "# Test lag_matrix_np function\n",
    "%timeit X_valid = lag_matrix_np(x, lags, mode='valid')\n",
    "%timeit X_full = lag_matrix_np(x, lags, mode='full')\n",
    "# Test lag_matrix function\n",
    "%timeit X_valid_test = lag_matrix(x, lags, drop_missing=True)\n",
    "%timeit X_full_test = lag_matrix(x, lags, drop_missing=False, filling=0)"
   ]
  },
  {
   "cell_type": "code",
   "execution_count": 18,
   "id": "09dcd8e1",
   "metadata": {},
   "outputs": [
    {
     "name": "stdout",
     "output_type": "stream",
     "text": [
      "8.14 ms ± 195 μs per loop (mean ± std. dev. of 7 runs, 100 loops each)\n",
      "8.93 ms ± 204 μs per loop (mean ± std. dev. of 7 runs, 100 loops each)\n",
      "60.3 ms ± 454 μs per loop (mean ± std. dev. of 7 runs, 10 loops each)\n",
      "41.3 ms ± 279 μs per loop (mean ± std. dev. of 7 runs, 10 loops each)\n"
     ]
    }
   ],
   "source": [
    "# Large array test\n",
    "x = np.random.rand(10000)\n",
    "lags = np.arange(-100, 101, 1)\n",
    "# Test lag_matrix_np function\n",
    "%timeit X_valid = lag_matrix_np(x, lags, mode='valid')\n",
    "%timeit X_full = lag_matrix_np(x, lags, mode='full')\n",
    "# Test lag_matrix function\n",
    "%timeit X_valid_test = lag_matrix(x, lags, drop_missing=True)\n",
    "%timeit X_full_test = lag_matrix(x, lags, drop_missing=False, filling=0)"
   ]
  },
  {
   "cell_type": "markdown",
   "id": "4aceb8c6",
   "metadata": {},
   "source": [
    "## Example simulation TRF"
   ]
  },
  {
   "cell_type": "code",
   "execution_count": null,
   "id": "ecb27d5d",
   "metadata": {},
   "outputs": [],
   "source": [
    "from pyeeg.simulate import dummy_trf_kernel, simulate_pulse_inputs, simulate_trf_output\n",
    "from pyeeg import TRFEstimator\n",
    "from pyeeg.utils import lag_matrix\n",
    "import matplotlib.pyplot as plt\n",
    "import numpy as np"
   ]
  },
  {
   "cell_type": "code",
   "execution_count": 22,
   "id": "75454de4",
   "metadata": {},
   "outputs": [
    {
     "ename": "NameError",
     "evalue": "name 'simulate_pulse_inputs' is not defined",
     "output_type": "error",
     "traceback": [
      "\u001b[1;31m---------------------------------------------------------------------------\u001b[0m",
      "\u001b[1;31mNameError\u001b[0m                                 Traceback (most recent call last)",
      "Cell \u001b[1;32mIn[22], line 4\u001b[0m\n\u001b[0;32m      1\u001b[0m tker, ker \u001b[38;5;241m=\u001b[39m dummy_trf_kernel(kernel_type\u001b[38;5;241m=\u001b[39m\u001b[38;5;124m'\u001b[39m\u001b[38;5;124mbipolar\u001b[39m\u001b[38;5;124m'\u001b[39m)\n\u001b[0;32m      2\u001b[0m \u001b[38;5;66;03m# ker = np.diff(np.r_[ker[0], ker])\u001b[39;00m\n\u001b[1;32m----> 4\u001b[0m t, x \u001b[38;5;241m=\u001b[39m \u001b[43msimulate_pulse_inputs\u001b[49m()\n\u001b[0;32m      5\u001b[0m y \u001b[38;5;241m=\u001b[39m simulate_trf_output(tker, ker, x)\n\u001b[0;32m      7\u001b[0m trf \u001b[38;5;241m=\u001b[39m TRFEstimator(tmin\u001b[38;5;241m=\u001b[39m\u001b[38;5;241m-\u001b[39m\u001b[38;5;241m0.2\u001b[39m, tmax\u001b[38;5;241m=\u001b[39m\u001b[38;5;241m0.4\u001b[39m, srate\u001b[38;5;241m=\u001b[39m\u001b[38;5;241m100\u001b[39m)\n",
      "\u001b[1;31mNameError\u001b[0m: name 'simulate_pulse_inputs' is not defined"
     ]
    }
   ],
   "source": [
    "tker, ker = dummy_trf_kernel(kernel_type='bipolar')\n",
    "# ker = np.diff(np.r_[ker[0], ker])\n",
    "\n",
    "t, x = simulate_pulse_inputs()\n",
    "y = simulate_trf_output(tker, ker, x)\n",
    "\n",
    "trf = TRFEstimator(tmin=-0.2, tmax=0.4, srate=100)\n",
    "trf.fill_lags()\n",
    "lags = trf.lags\n",
    "x_lagged = lag_matrix(x, lags[::-1], drop_missing=True)\n",
    "# x_lagged = lag_matrix_np(x, lags, mode='valid')\n",
    "trf.fit(x_lagged, y[:, None], lagged=True)\n",
    "\n",
    "\n",
    "f, ax = plt.subplots(1, 2, figsize=(12, 4))\n",
    "ax[0].plot(tker, ker, label='True kernel')\n",
    "trf.plot(ax=ax[0], plot_kws=dict(label='TRF estimate', ls='--'))\n",
    "ax[0].legend()\n",
    "ax[0].set_xlabel('Time lag (s)')\n",
    "ax[1].plot(t, y, label='output', c='C3')\n",
    "ax[1].plot(t, x, label='input', c='C2')\n",
    "ax[1].legend()\n",
    "ax[1].set_xlabel('Time (s)')\n",
    "ax[1].set_xlim([0, 3])"
   ]
  }
 ],
 "metadata": {
  "kernelspec": {
   "display_name": "sandbox",
   "language": "python",
   "name": "python3"
  },
  "language_info": {
   "codemirror_mode": {
    "name": "ipython",
    "version": 3
   },
   "file_extension": ".py",
   "mimetype": "text/x-python",
   "name": "python",
   "nbconvert_exporter": "python",
   "pygments_lexer": "ipython3",
   "version": "3.12.10"
  }
 },
 "nbformat": 4,
 "nbformat_minor": 5
}
