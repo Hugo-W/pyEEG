{
 "cells": [
  {
   "cell_type": "markdown",
   "metadata": {},
   "source": [
    "# TRF Tutorial\n",
    "\n",
    "In this notebook we show how to import word onset as a word-level feature and compute TRF from them."
   ]
  },
  {
   "cell_type": "code",
   "execution_count": 1,
   "metadata": {},
   "outputs": [
    {
     "name": "stderr",
     "output_type": "stream",
     "text": [
      "CRITICAL:pyeeg.io:Can't import Gensim (is it installed?) Will not load word vectors.\n"
     ]
    }
   ],
   "source": [
    "import os\n",
    "from scipy.io import loadmat\n",
    "from pyeeg.io import eeglab2mne\n",
    "\n",
    "subj_id = 3 # id of participant (3 is subject P04)\n",
    "story_id = 1 # id of stories (1 is AUNP02)"
   ]
  },
  {
   "cell_type": "markdown",
   "metadata": {},
   "source": [
    "## Single subject, single story"
   ]
  },
  {
   "cell_type": "markdown",
   "metadata": {},
   "source": [
    "### Import EEG"
   ]
  },
  {
   "cell_type": "code",
   "execution_count": 2,
   "metadata": {},
   "outputs": [],
   "source": [
    "%gui qt\n",
    "\n",
    "from PyQt5.QtWidgets import QFileDialog\n",
    "\n",
    "def gui_fname(dir=None):\n",
    "    \"\"\"Select a directory.\"\"\"\n",
    "    if dir is None: dir ='./'\n",
    "    fname = QFileDialog.getExistingDirectory(None, \"Select directory...\", dir)\n",
    "    return fname"
   ]
  },
  {
   "cell_type": "code",
   "execution_count": 3,
   "metadata": {},
   "outputs": [],
   "source": [
    "try:\n",
    "    experiment_path = '/media/hw2512/SeagateExpansionDrive/EEG_data/Katerina_experiment'\n",
    "    os.listdir('/media/hw2512/SeagateExpansionDrive/EEG_data/Katerina_experiment')\n",
    "except:\n",
    "    experiment_path = gui_fname()"
   ]
  },
  {
   "cell_type": "code",
   "execution_count": 4,
   "metadata": {},
   "outputs": [
    {
     "name": "stderr",
     "output_type": "stream",
     "text": [
      "/home/hugo/Work/EEG/pyEEG/pyeeg/io.py:173: DeprecationWarning: stim_channel (default True in 0.17) will change to False in 0.18 and be removed in 0.19, set it to False in 0.17 to avoid this warning\n",
      "  raw = mne.io.read_raw_eeglab(input_fname=fname, montage=montage_mne, event_id=event_id, preload=True)\n",
      "/home/hugo/anaconda2/envs/py36/lib/python3.6/site-packages/h5py/_hl/dataset.py:313: H5pyDeprecationWarning: dataset.value has been deprecated. Use dataset[()] instead.\n",
      "  \"Use dataset[()] instead.\", H5pyDeprecationWarning)\n"
     ]
    },
    {
     "name": "stdout",
     "output_type": "stream",
     "text": [
      "Used Annotations descriptions: ['boundary', 'story_onset']\n",
      "Setting up band-pass filter from 1 - 15 Hz\n",
      "l_trans_bandwidth chosen to be 1.0 Hz\n",
      "h_trans_bandwidth chosen to be 3.8 Hz\n",
      "Filter length of 413 samples (3.304 sec) selected\n"
     ]
    },
    {
     "name": "stderr",
     "output_type": "stream",
     "text": [
      "/home/hugo/anaconda2/envs/py36/lib/python3.6/site-packages/mne/annotations.py:315: RuntimeWarning: invalid value encountered in less\n",
      "  out_of_bounds = (absolute_onset > tmax) | (absolute_offset < tmin)\n",
      "/home/hugo/anaconda2/envs/py36/lib/python3.6/site-packages/mne/annotations.py:324: RuntimeWarning: invalid value encountered in greater\n",
      "  clip_right_elem = (absolute_offset > tmax) & ~out_of_bounds\n",
      "/home/hugo/Work/EEG/pyEEG/pyeeg/io.py:173: RuntimeWarning: 1 events will be dropped because they occur on the same time sample as another event. `mne.io.Raw` objects store events on an event channel, which cannot represent two events on the same sample. Please use `read_annotations_eeglab` and create events using `events_from_annotations` to extract the original event structure. Then, you can e.g. subset the extracted events for constructing epochs.\n",
      "  raw = mne.io.read_raw_eeglab(input_fname=fname, montage=montage_mne, event_id=event_id, preload=True)\n",
      "[Parallel(n_jobs=2)]: Using backend LokyBackend with 2 concurrent workers.\n",
      "[Parallel(n_jobs=2)]: Done  18 tasks      | elapsed:    0.6s\n",
      "[Parallel(n_jobs=2)]: Done  64 out of  64 | elapsed:    1.2s finished\n"
     ]
    }
   ],
   "source": [
    "eeg_path = os.path.join(experiment_path, \"Processed/Fs-125/interp_bad/BP-0.3-65/Blink_pruned/\")\n",
    "list_subjects = os.listdir(eeg_path)\n",
    "eeg_fname = [f for f in os.listdir(os.path.join(eeg_path, list_subjects[subj_id])) if f.endswith('.set')][0]\n",
    "\n",
    "event_id = dict(boundary=-1, story_onset=1)\n",
    "raw = eeglab2mne(os.path.join(eeg_path, list_subjects[subj_id], eeg_fname), load_ica=False, event_id=event_id)\n",
    "raw.pick_types(eeg=True)\n",
    "\n",
    "# Filtering the EEG\n",
    "raw = raw.filter(1, 15, n_jobs=2)"
   ]
  },
  {
   "cell_type": "markdown",
   "metadata": {},
   "source": [
    "### Import Word-level features\n",
    "\n",
    "We will load _surprisal_ feature and fit a TRF model on both _word onsets_ and _surprisal_ word features."
   ]
  },
  {
   "cell_type": "code",
   "execution_count": 25,
   "metadata": {},
   "outputs": [],
   "source": [
    "# Import all paths\n",
    "from pyeeg.io import WordLevelFeatures\n",
    "stim_path = os.path.join(experiment_path, 'story_parts')\n",
    "env_path = os.path.join(stim_path, 'alignement_data/')\n",
    "wordfreq_path = os.path.join(stim_path, 'word_frequencies/')\n",
    "surprisal_path = os.path.join(stim_path, 'surprisal/')\n",
    "list_wordfreq_files = [item for item in os.listdir(wordfreq_path) if item.endswith('timed.csv')]\n",
    "list_surprisal_files = [item for item in os.listdir(surprisal_path) if item.endswith('3.txt')]\n",
    "list_stories = [item.strip('_word_freq_timed.csv') for item in list_wordfreq_files]\n",
    "list_env_files = [os.path.join(env_path, s, s + '_125Hz.Env') for s in list_stories]\n",
    "\n",
    "# Sort them all in case:\n",
    "for l in [list_env_files, list_stories, list_surprisal_files, list_wordfreq_files]:\n",
    "    l.sort()\n",
    "\n",
    "onset_path = './all_katerina_onsets.mat'\n",
    "onsets = loadmat(onset_path)['onsets']\n",
    "\n",
    "# Loading word onset and duration for AUNP02:\n",
    "wo_path = os.path.join(wordfreq_path, list_wordfreq_files[story_id])\n",
    "duration_path = os.path.join(env_path, list_env_files[story_id])\n",
    "surp_path = os.path.join(surprisal_path, list_surprisal_files[story_id])"
   ]
  },
  {
   "cell_type": "code",
   "execution_count": 26,
   "metadata": {},
   "outputs": [
    {
     "name": "stderr",
     "output_type": "stream",
     "text": [
      "INFO:pyeeg.io:Adding feature surprisal\n"
     ]
    }
   ],
   "source": [
    "# Create word-level feature object:\n",
    "wf = WordLevelFeatures(path_praat_env=duration_path, path_wordonsets=wo_path, path_surprisal=surp_path)\n",
    "\n",
    "# Creating feature matrix\n",
    "x = wf.align_word_features(srate=raw.info['sfreq'], features=('surprisal',))\n",
    "\n",
    "# Getting EEG data\n",
    "y = raw.get_data()\n",
    "\n",
    "# Croping data with indices that match current story for this participant\n",
    "indices = wf.samples_from_onset(onsets[subj_id, story_id], srate=raw.info['sfreq'])\n",
    "y = y[:, indices].T"
   ]
  },
  {
   "cell_type": "markdown",
   "metadata": {},
   "source": [
    "## Run TRF modelling\n",
    "\n",
    "The TRFEstimator class allows to use any arbitrary set of lags. The lagged time series design matrix\n",
    "will be generated when fitting the class instance to aligned EEG and feature data."
   ]
  },
  {
   "cell_type": "code",
   "execution_count": 27,
   "metadata": {},
   "outputs": [
    {
     "name": "stderr",
     "output_type": "stream",
     "text": [
      "INFO:pyeeg.models:Will use lags spanning form tmin to tmax.\n",
      "To use individual lags, use the `times` argument...\n"
     ]
    }
   ],
   "source": [
    "from pyeeg.models import TRFEstimator\n",
    "\n",
    "# TRF instance\n",
    "reg_param = 0. # Ridge parameter\n",
    "trf = TRFEstimator(tmin=-0.6, tmax=0.8, srate=raw.info['sfreq'], alpha=reg_param)\n",
    "\n",
    "# Fit our model\n",
    "trf.fit(x, y, feat_names=[\"Word Onsets\", \"Surprisal\"])"
   ]
  },
  {
   "cell_type": "code",
   "execution_count": 32,
   "metadata": {},
   "outputs": [
    {
     "data": {
      "image/png": "[encoded data removed]",
      "text/plain": [
       "<Figure size 1008x432 with 2 Axes>"
      ]
     },
     "metadata": {},
     "output_type": "display_data"
    }
   ],
   "source": [
    "# Plot model:\n",
    "trf.plot_single_feature(feat_id=[0,1], figsize=(14,6))"
   ]
  },
  {
   "cell_type": "markdown",
   "metadata": {},
   "source": [
    "## Average several models\n",
    "\n",
    "Let's loop the computation over all subjects and all stories to compute and grand average TRF."
   ]
  },
  {
   "cell_type": "code",
   "execution_count": 35,
   "metadata": {},
   "outputs": [
    {
     "name": "stdout",
     "output_type": "stream",
     "text": [
      "============================== Processing subject P01_bis====================\n"
     ]
    },
    {
     "name": "stderr",
     "output_type": "stream",
     "text": [
      "/home/hugo/Work/EEG/pyEEG/pyeeg/io.py:173: DeprecationWarning: stim_channel (default True in 0.17) will change to False in 0.18 and be removed in 0.19, set it to False in 0.17 to avoid this warning\n",
      "  raw = mne.io.read_raw_eeglab(input_fname=fname, montage=montage_mne, event_id=event_id, preload=True)\n",
      "/home/hugo/anaconda2/envs/py36/lib/python3.6/site-packages/h5py/_hl/dataset.py:313: H5pyDeprecationWarning: dataset.value has been deprecated. Use dataset[()] instead.\n",
      "  \"Use dataset[()] instead.\", H5pyDeprecationWarning)\n"
     ]
    },
    {
     "name": "stdout",
     "output_type": "stream",
     "text": [
      "Used Annotations descriptions: ['boundary', 'story_onset']\n",
      "Setting up band-pass filter from 1 - 15 Hz\n",
      "l_trans_bandwidth chosen to be 1.0 Hz\n",
      "h_trans_bandwidth chosen to be 3.8 Hz\n",
      "Filter length of 413 samples (3.304 sec) selected\n"
     ]
    },
    {
     "name": "stderr",
     "output_type": "stream",
     "text": [
      "/home/hugo/anaconda2/envs/py36/lib/python3.6/site-packages/mne/annotations.py:315: RuntimeWarning: invalid value encountered in less\n",
      "  out_of_bounds = (absolute_onset > tmax) | (absolute_offset < tmin)\n",
      "/home/hugo/anaconda2/envs/py36/lib/python3.6/site-packages/mne/annotations.py:324: RuntimeWarning: invalid value encountered in greater\n",
      "  clip_right_elem = (absolute_offset > tmax) & ~out_of_bounds\n",
      "[Parallel(n_jobs=2)]: Using backend LokyBackend with 2 concurrent workers.\n",
      "[Parallel(n_jobs=2)]: Done  64 out of  64 | elapsed:    0.8s finished\n",
      "INFO:pyeeg.io:Adding feature surprisal\n",
      "INFO:pyeeg.models:Will use lags spanning form tmin to tmax.\n",
      "To use individual lags, use the `times` argument...\n"
     ]
    },
    {
     "name": "stdout",
     "output_type": "stream",
     "text": [
      "\t\t\t\t... AUNP01\n"
     ]
    },
    {
     "name": "stderr",
     "output_type": "stream",
     "text": [
      "INFO:pyeeg.io:Adding feature surprisal\n",
      "INFO:pyeeg.models:Will use lags spanning form tmin to tmax.\n",
      "To use individual lags, use the `times` argument...\n"
     ]
    },
    {
     "name": "stdout",
     "output_type": "stream",
     "text": [
      "\t\t\t\t... AUNP02\n",
      "\t\t\t\t... AUNP03\n"
     ]
    },
    {
     "name": "stderr",
     "output_type": "stream",
     "text": [
      "INFO:pyeeg.io:Adding feature surprisal\n",
      "INFO:pyeeg.models:Will use lags spanning form tmin to tmax.\n",
      "To use individual lags, use the `times` argument...\n",
      "INFO:pyeeg.io:Adding feature surprisal\n",
      "INFO:pyeeg.models:Will use lags spanning form tmin to tmax.\n",
      "To use individual lags, use the `times` argument...\n"
     ]
    },
    {
     "name": "stdout",
     "output_type": "stream",
     "text": [
      "\t\t\t\t... AUNP04\n"
     ]
    },
    {
     "name": "stderr",
     "output_type": "stream",
     "text": [
      "INFO:pyeeg.io:Adding feature surprisal\n",
      "INFO:pyeeg.models:Will use lags spanning form tmin to tmax.\n",
      "To use individual lags, use the `times` argument...\n"
     ]
    },
    {
     "name": "stdout",
     "output_type": "stream",
     "text": [
      "\t\t\t\t... AUNP05\n"
     ]
    },
    {
     "name": "stderr",
     "output_type": "stream",
     "text": [
      "INFO:pyeeg.io:Adding feature surprisal\n",
      "INFO:pyeeg.models:Will use lags spanning form tmin to tmax.\n",
      "To use individual lags, use the `times` argument...\n"
     ]
    },
    {
     "name": "stdout",
     "output_type": "stream",
     "text": [
      "\t\t\t\t... AUNP06\n"
     ]
    },
    {
     "name": "stderr",
     "output_type": "stream",
     "text": [
      "INFO:pyeeg.io:Adding feature surprisal\n",
      "INFO:pyeeg.models:Will use lags spanning form tmin to tmax.\n",
      "To use individual lags, use the `times` argument...\n"
     ]
    },
    {
     "name": "stdout",
     "output_type": "stream",
     "text": [
      "\t\t\t\t... AUNP07\n"
     ]
    },
    {
     "name": "stderr",
     "output_type": "stream",
     "text": [
      "INFO:pyeeg.io:Adding feature surprisal\n",
      "INFO:pyeeg.models:Will use lags spanning form tmin to tmax.\n",
      "To use individual lags, use the `times` argument...\n"
     ]
    },
    {
     "name": "stdout",
     "output_type": "stream",
     "text": [
      "\t\t\t\t... AUNP08\n"
     ]
    },
    {
     "name": "stderr",
     "output_type": "stream",
     "text": [
      "INFO:pyeeg.io:Adding feature surprisal\n",
      "INFO:pyeeg.models:Will use lags spanning form tmin to tmax.\n",
      "To use individual lags, use the `times` argument...\n"
     ]
    },
    {
     "name": "stdout",
     "output_type": "stream",
     "text": [
      "\t\t\t\t... BROP01\n"
     ]
    },
    {
     "name": "stderr",
     "output_type": "stream",
     "text": [
      "INFO:pyeeg.io:Adding feature surprisal\n",
      "INFO:pyeeg.models:Will use lags spanning form tmin to tmax.\n",
      "To use individual lags, use the `times` argument...\n"
     ]
    },
    {
     "name": "stdout",
     "output_type": "stream",
     "text": [
      "\t\t\t\t... BROP02\n"
     ]
    },
    {
     "name": "stderr",
     "output_type": "stream",
     "text": [
      "INFO:pyeeg.io:Adding feature surprisal\n",
      "INFO:pyeeg.models:Will use lags spanning form tmin to tmax.\n",
      "To use individual lags, use the `times` argument...\n"
     ]
    },
    {
     "name": "stdout",
     "output_type": "stream",
     "text": [
      "\t\t\t\t... BROP03\n"
     ]
    },
    {
     "name": "stderr",
     "output_type": "stream",
     "text": [
      "INFO:pyeeg.io:Adding feature surprisal\n",
      "INFO:pyeeg.models:Will use lags spanning form tmin to tmax.\n",
      "To use individual lags, use the `times` argument...\n"
     ]
    },
    {
     "name": "stdout",
     "output_type": "stream",
     "text": [
      "\t\t\t\t... FLOP01\n"
     ]
    },
    {
     "name": "stderr",
     "output_type": "stream",
     "text": [
      "INFO:pyeeg.io:Adding feature surprisal\n",
      "INFO:pyeeg.models:Will use lags spanning form tmin to tmax.\n",
      "To use individual lags, use the `times` argument...\n"
     ]
    },
    {
     "name": "stdout",
     "output_type": "stream",
     "text": [
      "\t\t\t\t... FLOP02\n"
     ]
    },
    {
     "name": "stderr",
     "output_type": "stream",
     "text": [
      "INFO:pyeeg.io:Adding feature surprisal\n",
      "INFO:pyeeg.models:Will use lags spanning form tmin to tmax.\n",
      "To use individual lags, use the `times` argument...\n"
     ]
    },
    {
     "name": "stdout",
     "output_type": "stream",
     "text": [
      "\t\t\t\t... FLOP03\n"
     ]
    },
    {
     "name": "stderr",
     "output_type": "stream",
     "text": [
      "INFO:pyeeg.io:Adding feature surprisal\n",
      "INFO:pyeeg.models:Will use lags spanning form tmin to tmax.\n",
      "To use individual lags, use the `times` argument...\n"
     ]
    },
    {
     "name": "stdout",
     "output_type": "stream",
     "text": [
      "\t\t\t\t... FLOP04\n",
      "============================== Processing subject P02_11072016====================\n"
     ]
    },
    {
     "name": "stderr",
     "output_type": "stream",
     "text": [
      "/home/hugo/Work/EEG/pyEEG/pyeeg/io.py:173: DeprecationWarning: stim_channel (default True in 0.17) will change to False in 0.18 and be removed in 0.19, set it to False in 0.17 to avoid this warning\n",
      "  raw = mne.io.read_raw_eeglab(input_fname=fname, montage=montage_mne, event_id=event_id, preload=True)\n"
     ]
    },
    {
     "name": "stdout",
     "output_type": "stream",
     "text": [
      "Used Annotations descriptions: ['boundary', 'story_onset']\n",
      "Setting up band-pass filter from 1 - 15 Hz\n",
      "l_trans_bandwidth chosen to be 1.0 Hz\n",
      "h_trans_bandwidth chosen to be 3.8 Hz\n",
      "Filter length of 413 samples (3.304 sec) selected\n"
     ]
    },
    {
     "name": "stderr",
     "output_type": "stream",
     "text": [
      "/home/hugo/Work/EEG/pyEEG/pyeeg/io.py:173: RuntimeWarning: 1 events will be dropped because they occur on the same time sample as another event. `mne.io.Raw` objects store events on an event channel, which cannot represent two events on the same sample. Please use `read_annotations_eeglab` and create events using `events_from_annotations` to extract the original event structure. Then, you can e.g. subset the extracted events for constructing epochs.\n",
      "  raw = mne.io.read_raw_eeglab(input_fname=fname, montage=montage_mne, event_id=event_id, preload=True)\n",
      "[Parallel(n_jobs=2)]: Using backend LokyBackend with 2 concurrent workers.\n",
      "[Parallel(n_jobs=2)]: Done  64 out of  64 | elapsed:    0.8s finished\n",
      "INFO:pyeeg.io:Adding feature surprisal\n",
      "INFO:pyeeg.models:Will use lags spanning form tmin to tmax.\n",
      "To use individual lags, use the `times` argument...\n"
     ]
    },
    {
     "name": "stdout",
     "output_type": "stream",
     "text": [
      "\t\t\t\t... AUNP01\n"
     ]
    },
    {
     "name": "stderr",
     "output_type": "stream",
     "text": [
      "INFO:pyeeg.io:Adding feature surprisal\n",
      "INFO:pyeeg.models:Will use lags spanning form tmin to tmax.\n",
      "To use individual lags, use the `times` argument...\n"
     ]
    },
    {
     "name": "stdout",
     "output_type": "stream",
     "text": [
      "\t\t\t\t... AUNP02\n"
     ]
    },
    {
     "name": "stderr",
     "output_type": "stream",
     "text": [
      "INFO:pyeeg.io:Adding feature surprisal\n",
      "INFO:pyeeg.models:Will use lags spanning form tmin to tmax.\n",
      "To use individual lags, use the `times` argument...\n"
     ]
    },
    {
     "name": "stdout",
     "output_type": "stream",
     "text": [
      "\t\t\t\t... AUNP03\n"
     ]
    },
    {
     "name": "stderr",
     "output_type": "stream",
     "text": [
      "INFO:pyeeg.io:Adding feature surprisal\n",
      "INFO:pyeeg.models:Will use lags spanning form tmin to tmax.\n",
      "To use individual lags, use the `times` argument...\n"
     ]
    },
    {
     "name": "stdout",
     "output_type": "stream",
     "text": [
      "\t\t\t\t... AUNP04\n"
     ]
    },
    {
     "name": "stderr",
     "output_type": "stream",
     "text": [
      "INFO:pyeeg.io:Adding feature surprisal\n",
      "INFO:pyeeg.models:Will use lags spanning form tmin to tmax.\n",
      "To use individual lags, use the `times` argument...\n"
     ]
    },
    {
     "name": "stdout",
     "output_type": "stream",
     "text": [
      "\t\t\t\t... AUNP05\n"
     ]
    },
    {
     "name": "stderr",
     "output_type": "stream",
     "text": [
      "INFO:pyeeg.io:Adding feature surprisal\n",
      "INFO:pyeeg.models:Will use lags spanning form tmin to tmax.\n",
      "To use individual lags, use the `times` argument...\n"
     ]
    },
    {
     "name": "stdout",
     "output_type": "stream",
     "text": [
      "\t\t\t\t... AUNP06\n"
     ]
    },
    {
     "name": "stderr",
     "output_type": "stream",
     "text": [
      "INFO:pyeeg.io:Adding feature surprisal\n",
      "INFO:pyeeg.models:Will use lags spanning form tmin to tmax.\n",
      "To use individual lags, use the `times` argument...\n"
     ]
    },
    {
     "name": "stdout",
     "output_type": "stream",
     "text": [
      "\t\t\t\t... AUNP07\n"
     ]
    },
    {
     "name": "stderr",
     "output_type": "stream",
     "text": [
      "INFO:pyeeg.io:Adding feature surprisal\n",
      "INFO:pyeeg.models:Will use lags spanning form tmin to tmax.\n",
      "To use individual lags, use the `times` argument...\n"
     ]
    },
    {
     "name": "stdout",
     "output_type": "stream",
     "text": [
      "\t\t\t\t... AUNP08\n"
     ]
    },
    {
     "name": "stderr",
     "output_type": "stream",
     "text": [
      "INFO:pyeeg.io:Adding feature surprisal\n",
      "INFO:pyeeg.models:Will use lags spanning form tmin to tmax.\n",
      "To use individual lags, use the `times` argument...\n"
     ]
    },
    {
     "name": "stdout",
     "output_type": "stream",
     "text": [
      "\t\t\t\t... BROP01\n"
     ]
    },
    {
     "name": "stderr",
     "output_type": "stream",
     "text": [
      "INFO:pyeeg.io:Adding feature surprisal\n",
      "INFO:pyeeg.models:Will use lags spanning form tmin to tmax.\n",
      "To use individual lags, use the `times` argument...\n"
     ]
    },
    {
     "name": "stdout",
     "output_type": "stream",
     "text": [
      "\t\t\t\t... BROP02\n"
     ]
    },
    {
     "name": "stderr",
     "output_type": "stream",
     "text": [
      "INFO:pyeeg.io:Adding feature surprisal\n",
      "INFO:pyeeg.models:Will use lags spanning form tmin to tmax.\n",
      "To use individual lags, use the `times` argument...\n"
     ]
    },
    {
     "name": "stdout",
     "output_type": "stream",
     "text": [
      "\t\t\t\t... BROP03\n"
     ]
    },
    {
     "name": "stderr",
     "output_type": "stream",
     "text": [
      "INFO:pyeeg.io:Adding feature surprisal\n",
      "INFO:pyeeg.models:Will use lags spanning form tmin to tmax.\n",
      "To use individual lags, use the `times` argument...\n"
     ]
    },
    {
     "name": "stdout",
     "output_type": "stream",
     "text": [
      "\t\t\t\t... FLOP01\n"
     ]
    },
    {
     "name": "stderr",
     "output_type": "stream",
     "text": [
      "INFO:pyeeg.io:Adding feature surprisal\n",
      "INFO:pyeeg.models:Will use lags spanning form tmin to tmax.\n",
      "To use individual lags, use the `times` argument...\n"
     ]
    },
    {
     "name": "stdout",
     "output_type": "stream",
     "text": [
      "\t\t\t\t... FLOP02\n"
     ]
    },
    {
     "name": "stderr",
     "output_type": "stream",
     "text": [
      "INFO:pyeeg.io:Adding feature surprisal\n",
      "INFO:pyeeg.models:Will use lags spanning form tmin to tmax.\n",
      "To use individual lags, use the `times` argument...\n"
     ]
    },
    {
     "name": "stdout",
     "output_type": "stream",
     "text": [
      "\t\t\t\t... FLOP03\n"
     ]
    },
    {
     "name": "stderr",
     "output_type": "stream",
     "text": [
      "INFO:pyeeg.io:Adding feature surprisal\n",
      "INFO:pyeeg.models:Will use lags spanning form tmin to tmax.\n",
      "To use individual lags, use the `times` argument...\n"
     ]
    },
    {
     "name": "stdout",
     "output_type": "stream",
     "text": [
      "\t\t\t\t... FLOP04\n",
      "============================== Processing subject P03_12072016====================\n"
     ]
    },
    {
     "name": "stderr",
     "output_type": "stream",
     "text": [
      "/home/hugo/Work/EEG/pyEEG/pyeeg/io.py:173: DeprecationWarning: stim_channel (default True in 0.17) will change to False in 0.18 and be removed in 0.19, set it to False in 0.17 to avoid this warning\n",
      "  raw = mne.io.read_raw_eeglab(input_fname=fname, montage=montage_mne, event_id=event_id, preload=True)\n"
     ]
    },
    {
     "name": "stdout",
     "output_type": "stream",
     "text": [
      "Used Annotations descriptions: ['boundary', 'story_onset']\n",
      "Setting up band-pass filter from 1 - 15 Hz\n",
      "l_trans_bandwidth chosen to be 1.0 Hz\n",
      "h_trans_bandwidth chosen to be 3.8 Hz\n",
      "Filter length of 413 samples (3.304 sec) selected\n"
     ]
    },
    {
     "name": "stderr",
     "output_type": "stream",
     "text": [
      "[Parallel(n_jobs=2)]: Using backend LokyBackend with 2 concurrent workers.\n",
      "[Parallel(n_jobs=2)]: Done  64 out of  64 | elapsed:    0.8s finished\n",
      "INFO:pyeeg.io:Adding feature surprisal\n",
      "INFO:pyeeg.models:Will use lags spanning form tmin to tmax.\n",
      "To use individual lags, use the `times` argument...\n"
     ]
    },
    {
     "name": "stdout",
     "output_type": "stream",
     "text": [
      "\t\t\t\t... AUNP01\n"
     ]
    },
    {
     "name": "stderr",
     "output_type": "stream",
     "text": [
      "INFO:pyeeg.io:Adding feature surprisal\n",
      "INFO:pyeeg.models:Will use lags spanning form tmin to tmax.\n",
      "To use individual lags, use the `times` argument...\n"
     ]
    },
    {
     "name": "stdout",
     "output_type": "stream",
     "text": [
      "\t\t\t\t... AUNP02\n"
     ]
    },
    {
     "name": "stderr",
     "output_type": "stream",
     "text": [
      "INFO:pyeeg.io:Adding feature surprisal\n",
      "INFO:pyeeg.models:Will use lags spanning form tmin to tmax.\n",
      "To use individual lags, use the `times` argument...\n"
     ]
    },
    {
     "name": "stdout",
     "output_type": "stream",
     "text": [
      "\t\t\t\t... AUNP03\n"
     ]
    },
    {
     "name": "stderr",
     "output_type": "stream",
     "text": [
      "INFO:pyeeg.io:Adding feature surprisal\n",
      "INFO:pyeeg.models:Will use lags spanning form tmin to tmax.\n",
      "To use individual lags, use the `times` argument...\n"
     ]
    },
    {
     "name": "stdout",
     "output_type": "stream",
     "text": [
      "\t\t\t\t... AUNP04\n"
     ]
    },
    {
     "name": "stderr",
     "output_type": "stream",
     "text": [
      "INFO:pyeeg.io:Adding feature surprisal\n",
      "INFO:pyeeg.models:Will use lags spanning form tmin to tmax.\n",
      "To use individual lags, use the `times` argument...\n"
     ]
    },
    {
     "name": "stdout",
     "output_type": "stream",
     "text": [
      "\t\t\t\t... AUNP05\n"
     ]
    },
    {
     "name": "stderr",
     "output_type": "stream",
     "text": [
      "INFO:pyeeg.io:Adding feature surprisal\n",
      "INFO:pyeeg.models:Will use lags spanning form tmin to tmax.\n",
      "To use individual lags, use the `times` argument...\n"
     ]
    },
    {
     "name": "stdout",
     "output_type": "stream",
     "text": [
      "\t\t\t\t... AUNP06\n"
     ]
    },
    {
     "name": "stderr",
     "output_type": "stream",
     "text": [
      "INFO:pyeeg.io:Adding feature surprisal\n",
      "INFO:pyeeg.models:Will use lags spanning form tmin to tmax.\n",
      "To use individual lags, use the `times` argument...\n"
     ]
    },
    {
     "name": "stdout",
     "output_type": "stream",
     "text": [
      "\t\t\t\t... AUNP07\n"
     ]
    },
    {
     "name": "stderr",
     "output_type": "stream",
     "text": [
      "INFO:pyeeg.io:Adding feature surprisal\n",
      "INFO:pyeeg.models:Will use lags spanning form tmin to tmax.\n",
      "To use individual lags, use the `times` argument...\n"
     ]
    },
    {
     "name": "stdout",
     "output_type": "stream",
     "text": [
      "\t\t\t\t... AUNP08\n"
     ]
    },
    {
     "name": "stderr",
     "output_type": "stream",
     "text": [
      "INFO:pyeeg.io:Adding feature surprisal\n",
      "INFO:pyeeg.models:Will use lags spanning form tmin to tmax.\n",
      "To use individual lags, use the `times` argument...\n"
     ]
    },
    {
     "name": "stdout",
     "output_type": "stream",
     "text": [
      "\t\t\t\t... BROP01\n"
     ]
    },
    {
     "name": "stderr",
     "output_type": "stream",
     "text": [
      "INFO:pyeeg.io:Adding feature surprisal\n",
      "INFO:pyeeg.models:Will use lags spanning form tmin to tmax.\n",
      "To use individual lags, use the `times` argument...\n"
     ]
    },
    {
     "name": "stdout",
     "output_type": "stream",
     "text": [
      "\t\t\t\t... BROP02\n"
     ]
    },
    {
     "name": "stderr",
     "output_type": "stream",
     "text": [
      "INFO:pyeeg.io:Adding feature surprisal\n",
      "INFO:pyeeg.models:Will use lags spanning form tmin to tmax.\n",
      "To use individual lags, use the `times` argument...\n"
     ]
    },
    {
     "name": "stdout",
     "output_type": "stream",
     "text": [
      "\t\t\t\t... BROP03\n"
     ]
    },
    {
     "name": "stderr",
     "output_type": "stream",
     "text": [
      "INFO:pyeeg.io:Adding feature surprisal\n",
      "INFO:pyeeg.models:Will use lags spanning form tmin to tmax.\n",
      "To use individual lags, use the `times` argument...\n"
     ]
    },
    {
     "name": "stdout",
     "output_type": "stream",
     "text": [
      "\t\t\t\t... FLOP01\n"
     ]
    },
    {
     "name": "stderr",
     "output_type": "stream",
     "text": [
      "INFO:pyeeg.io:Adding feature surprisal\n",
      "INFO:pyeeg.models:Will use lags spanning form tmin to tmax.\n",
      "To use individual lags, use the `times` argument...\n"
     ]
    },
    {
     "name": "stdout",
     "output_type": "stream",
     "text": [
      "\t\t\t\t... FLOP02\n"
     ]
    },
    {
     "name": "stderr",
     "output_type": "stream",
     "text": [
      "INFO:pyeeg.io:Adding feature surprisal\n",
      "INFO:pyeeg.models:Will use lags spanning form tmin to tmax.\n",
      "To use individual lags, use the `times` argument...\n"
     ]
    },
    {
     "name": "stdout",
     "output_type": "stream",
     "text": [
      "\t\t\t\t... FLOP03\n"
     ]
    },
    {
     "name": "stderr",
     "output_type": "stream",
     "text": [
      "INFO:pyeeg.io:Adding feature surprisal\n",
      "INFO:pyeeg.models:Will use lags spanning form tmin to tmax.\n",
      "To use individual lags, use the `times` argument...\n"
     ]
    },
    {
     "name": "stdout",
     "output_type": "stream",
     "text": [
      "\t\t\t\t... FLOP04\n",
      "============================== Processing subject P04_13072016====================\n"
     ]
    },
    {
     "name": "stderr",
     "output_type": "stream",
     "text": [
      "/home/hugo/Work/EEG/pyEEG/pyeeg/io.py:173: DeprecationWarning: stim_channel (default True in 0.17) will change to False in 0.18 and be removed in 0.19, set it to False in 0.17 to avoid this warning\n",
      "  raw = mne.io.read_raw_eeglab(input_fname=fname, montage=montage_mne, event_id=event_id, preload=True)\n"
     ]
    },
    {
     "name": "stdout",
     "output_type": "stream",
     "text": [
      "Used Annotations descriptions: ['boundary', 'story_onset']\n",
      "Setting up band-pass filter from 1 - 15 Hz\n",
      "l_trans_bandwidth chosen to be 1.0 Hz\n",
      "h_trans_bandwidth chosen to be 3.8 Hz\n",
      "Filter length of 413 samples (3.304 sec) selected\n"
     ]
    },
    {
     "name": "stderr",
     "output_type": "stream",
     "text": [
      "/home/hugo/Work/EEG/pyEEG/pyeeg/io.py:173: RuntimeWarning: 1 events will be dropped because they occur on the same time sample as another event. `mne.io.Raw` objects store events on an event channel, which cannot represent two events on the same sample. Please use `read_annotations_eeglab` and create events using `events_from_annotations` to extract the original event structure. Then, you can e.g. subset the extracted events for constructing epochs.\n",
      "  raw = mne.io.read_raw_eeglab(input_fname=fname, montage=montage_mne, event_id=event_id, preload=True)\n",
      "[Parallel(n_jobs=2)]: Using backend LokyBackend with 2 concurrent workers.\n",
      "[Parallel(n_jobs=2)]: Done  64 out of  64 | elapsed:    0.8s finished\n",
      "INFO:pyeeg.io:Adding feature surprisal\n",
      "INFO:pyeeg.models:Will use lags spanning form tmin to tmax.\n",
      "To use individual lags, use the `times` argument...\n"
     ]
    },
    {
     "name": "stdout",
     "output_type": "stream",
     "text": [
      "\t\t\t\t... AUNP01\n"
     ]
    },
    {
     "name": "stderr",
     "output_type": "stream",
     "text": [
      "INFO:pyeeg.io:Adding feature surprisal\n",
      "INFO:pyeeg.models:Will use lags spanning form tmin to tmax.\n",
      "To use individual lags, use the `times` argument...\n"
     ]
    },
    {
     "name": "stdout",
     "output_type": "stream",
     "text": [
      "\t\t\t\t... AUNP02\n"
     ]
    },
    {
     "name": "stderr",
     "output_type": "stream",
     "text": [
      "INFO:pyeeg.io:Adding feature surprisal\n",
      "INFO:pyeeg.models:Will use lags spanning form tmin to tmax.\n",
      "To use individual lags, use the `times` argument...\n"
     ]
    },
    {
     "name": "stdout",
     "output_type": "stream",
     "text": [
      "\t\t\t\t... AUNP03\n"
     ]
    },
    {
     "name": "stderr",
     "output_type": "stream",
     "text": [
      "INFO:pyeeg.io:Adding feature surprisal\n",
      "INFO:pyeeg.models:Will use lags spanning form tmin to tmax.\n",
      "To use individual lags, use the `times` argument...\n"
     ]
    },
    {
     "name": "stdout",
     "output_type": "stream",
     "text": [
      "\t\t\t\t... AUNP04\n"
     ]
    },
    {
     "name": "stderr",
     "output_type": "stream",
     "text": [
      "INFO:pyeeg.io:Adding feature surprisal\n",
      "INFO:pyeeg.models:Will use lags spanning form tmin to tmax.\n",
      "To use individual lags, use the `times` argument...\n"
     ]
    },
    {
     "name": "stdout",
     "output_type": "stream",
     "text": [
      "\t\t\t\t... AUNP05\n"
     ]
    },
    {
     "name": "stderr",
     "output_type": "stream",
     "text": [
      "INFO:pyeeg.io:Adding feature surprisal\n",
      "INFO:pyeeg.models:Will use lags spanning form tmin to tmax.\n",
      "To use individual lags, use the `times` argument...\n"
     ]
    },
    {
     "name": "stdout",
     "output_type": "stream",
     "text": [
      "\t\t\t\t... AUNP06\n"
     ]
    },
    {
     "name": "stderr",
     "output_type": "stream",
     "text": [
      "INFO:pyeeg.io:Adding feature surprisal\n",
      "INFO:pyeeg.models:Will use lags spanning form tmin to tmax.\n",
      "To use individual lags, use the `times` argument...\n"
     ]
    },
    {
     "name": "stdout",
     "output_type": "stream",
     "text": [
      "\t\t\t\t... AUNP07\n"
     ]
    },
    {
     "name": "stderr",
     "output_type": "stream",
     "text": [
      "INFO:pyeeg.io:Adding feature surprisal\n",
      "INFO:pyeeg.models:Will use lags spanning form tmin to tmax.\n",
      "To use individual lags, use the `times` argument...\n"
     ]
    },
    {
     "name": "stdout",
     "output_type": "stream",
     "text": [
      "\t\t\t\t... AUNP08\n"
     ]
    },
    {
     "name": "stderr",
     "output_type": "stream",
     "text": [
      "INFO:pyeeg.io:Adding feature surprisal\n",
      "INFO:pyeeg.models:Will use lags spanning form tmin to tmax.\n",
      "To use individual lags, use the `times` argument...\n"
     ]
    },
    {
     "name": "stdout",
     "output_type": "stream",
     "text": [
      "\t\t\t\t... BROP01\n"
     ]
    },
    {
     "name": "stderr",
     "output_type": "stream",
     "text": [
      "INFO:pyeeg.io:Adding feature surprisal\n",
      "INFO:pyeeg.models:Will use lags spanning form tmin to tmax.\n",
      "To use individual lags, use the `times` argument...\n"
     ]
    },
    {
     "name": "stdout",
     "output_type": "stream",
     "text": [
      "\t\t\t\t... BROP02\n"
     ]
    },
    {
     "name": "stderr",
     "output_type": "stream",
     "text": [
      "INFO:pyeeg.io:Adding feature surprisal\n",
      "INFO:pyeeg.models:Will use lags spanning form tmin to tmax.\n",
      "To use individual lags, use the `times` argument...\n"
     ]
    },
    {
     "name": "stdout",
     "output_type": "stream",
     "text": [
      "\t\t\t\t... BROP03\n"
     ]
    },
    {
     "name": "stderr",
     "output_type": "stream",
     "text": [
      "INFO:pyeeg.io:Adding feature surprisal\n",
      "INFO:pyeeg.models:Will use lags spanning form tmin to tmax.\n",
      "To use individual lags, use the `times` argument...\n"
     ]
    },
    {
     "name": "stdout",
     "output_type": "stream",
     "text": [
      "\t\t\t\t... FLOP01\n"
     ]
    },
    {
     "name": "stderr",
     "output_type": "stream",
     "text": [
      "INFO:pyeeg.io:Adding feature surprisal\n",
      "INFO:pyeeg.models:Will use lags spanning form tmin to tmax.\n",
      "To use individual lags, use the `times` argument...\n"
     ]
    },
    {
     "name": "stdout",
     "output_type": "stream",
     "text": [
      "\t\t\t\t... FLOP02\n"
     ]
    },
    {
     "name": "stderr",
     "output_type": "stream",
     "text": [
      "INFO:pyeeg.io:Adding feature surprisal\n",
      "INFO:pyeeg.models:Will use lags spanning form tmin to tmax.\n",
      "To use individual lags, use the `times` argument...\n"
     ]
    },
    {
     "name": "stdout",
     "output_type": "stream",
     "text": [
      "\t\t\t\t... FLOP03\n"
     ]
    },
    {
     "name": "stderr",
     "output_type": "stream",
     "text": [
      "INFO:pyeeg.io:Adding feature surprisal\n",
      "INFO:pyeeg.models:Will use lags spanning form tmin to tmax.\n",
      "To use individual lags, use the `times` argument...\n"
     ]
    },
    {
     "name": "stdout",
     "output_type": "stream",
     "text": [
      "\t\t\t\t... FLOP04\n",
      "============================== Processing subject P05_14072016====================\n"
     ]
    },
    {
     "name": "stderr",
     "output_type": "stream",
     "text": [
      "/home/hugo/Work/EEG/pyEEG/pyeeg/io.py:173: DeprecationWarning: stim_channel (default True in 0.17) will change to False in 0.18 and be removed in 0.19, set it to False in 0.17 to avoid this warning\n",
      "  raw = mne.io.read_raw_eeglab(input_fname=fname, montage=montage_mne, event_id=event_id, preload=True)\n"
     ]
    },
    {
     "name": "stdout",
     "output_type": "stream",
     "text": [
      "Used Annotations descriptions: ['boundary', 'story_onset']\n",
      "Setting up band-pass filter from 1 - 15 Hz\n",
      "l_trans_bandwidth chosen to be 1.0 Hz\n",
      "h_trans_bandwidth chosen to be 3.8 Hz\n",
      "Filter length of 413 samples (3.304 sec) selected\n"
     ]
    },
    {
     "name": "stderr",
     "output_type": "stream",
     "text": [
      "/home/hugo/Work/EEG/pyEEG/pyeeg/io.py:173: RuntimeWarning: 1 events will be dropped because they occur on the same time sample as another event. `mne.io.Raw` objects store events on an event channel, which cannot represent two events on the same sample. Please use `read_annotations_eeglab` and create events using `events_from_annotations` to extract the original event structure. Then, you can e.g. subset the extracted events for constructing epochs.\n",
      "  raw = mne.io.read_raw_eeglab(input_fname=fname, montage=montage_mne, event_id=event_id, preload=True)\n",
      "[Parallel(n_jobs=2)]: Using backend LokyBackend with 2 concurrent workers.\n",
      "[Parallel(n_jobs=2)]: Done  64 out of  64 | elapsed:    0.8s finished\n",
      "INFO:pyeeg.io:Adding feature surprisal\n",
      "INFO:pyeeg.models:Will use lags spanning form tmin to tmax.\n",
      "To use individual lags, use the `times` argument...\n"
     ]
    },
    {
     "name": "stdout",
     "output_type": "stream",
     "text": [
      "\t\t\t\t... AUNP01\n"
     ]
    },
    {
     "name": "stderr",
     "output_type": "stream",
     "text": [
      "INFO:pyeeg.io:Adding feature surprisal\n",
      "INFO:pyeeg.models:Will use lags spanning form tmin to tmax.\n",
      "To use individual lags, use the `times` argument...\n"
     ]
    },
    {
     "name": "stdout",
     "output_type": "stream",
     "text": [
      "\t\t\t\t... AUNP02\n"
     ]
    },
    {
     "name": "stderr",
     "output_type": "stream",
     "text": [
      "INFO:pyeeg.io:Adding feature surprisal\n",
      "INFO:pyeeg.models:Will use lags spanning form tmin to tmax.\n",
      "To use individual lags, use the `times` argument...\n"
     ]
    },
    {
     "name": "stdout",
     "output_type": "stream",
     "text": [
      "\t\t\t\t... AUNP03\n"
     ]
    },
    {
     "name": "stderr",
     "output_type": "stream",
     "text": [
      "INFO:pyeeg.io:Adding feature surprisal\n",
      "INFO:pyeeg.models:Will use lags spanning form tmin to tmax.\n",
      "To use individual lags, use the `times` argument...\n"
     ]
    },
    {
     "name": "stdout",
     "output_type": "stream",
     "text": [
      "\t\t\t\t... AUNP04\n"
     ]
    },
    {
     "name": "stderr",
     "output_type": "stream",
     "text": [
      "INFO:pyeeg.io:Adding feature surprisal\n",
      "INFO:pyeeg.models:Will use lags spanning form tmin to tmax.\n",
      "To use individual lags, use the `times` argument...\n"
     ]
    },
    {
     "name": "stdout",
     "output_type": "stream",
     "text": [
      "\t\t\t\t... AUNP05\n"
     ]
    },
    {
     "name": "stderr",
     "output_type": "stream",
     "text": [
      "INFO:pyeeg.io:Adding feature surprisal\n",
      "INFO:pyeeg.models:Will use lags spanning form tmin to tmax.\n",
      "To use individual lags, use the `times` argument...\n"
     ]
    },
    {
     "name": "stdout",
     "output_type": "stream",
     "text": [
      "\t\t\t\t... AUNP06\n"
     ]
    },
    {
     "name": "stderr",
     "output_type": "stream",
     "text": [
      "INFO:pyeeg.io:Adding feature surprisal\n",
      "INFO:pyeeg.models:Will use lags spanning form tmin to tmax.\n",
      "To use individual lags, use the `times` argument...\n"
     ]
    },
    {
     "name": "stdout",
     "output_type": "stream",
     "text": [
      "\t\t\t\t... AUNP07\n"
     ]
    },
    {
     "name": "stderr",
     "output_type": "stream",
     "text": [
      "INFO:pyeeg.io:Adding feature surprisal\n",
      "INFO:pyeeg.models:Will use lags spanning form tmin to tmax.\n",
      "To use individual lags, use the `times` argument...\n"
     ]
    },
    {
     "name": "stdout",
     "output_type": "stream",
     "text": [
      "\t\t\t\t... AUNP08\n"
     ]
    },
    {
     "name": "stderr",
     "output_type": "stream",
     "text": [
      "INFO:pyeeg.io:Adding feature surprisal\n",
      "INFO:pyeeg.models:Will use lags spanning form tmin to tmax.\n",
      "To use individual lags, use the `times` argument...\n"
     ]
    },
    {
     "name": "stdout",
     "output_type": "stream",
     "text": [
      "\t\t\t\t... BROP01\n"
     ]
    },
    {
     "name": "stderr",
     "output_type": "stream",
     "text": [
      "INFO:pyeeg.io:Adding feature surprisal\n",
      "INFO:pyeeg.models:Will use lags spanning form tmin to tmax.\n",
      "To use individual lags, use the `times` argument...\n"
     ]
    },
    {
     "name": "stdout",
     "output_type": "stream",
     "text": [
      "\t\t\t\t... BROP02\n"
     ]
    },
    {
     "name": "stderr",
     "output_type": "stream",
     "text": [
      "INFO:pyeeg.io:Adding feature surprisal\n",
      "INFO:pyeeg.models:Will use lags spanning form tmin to tmax.\n",
      "To use individual lags, use the `times` argument...\n"
     ]
    },
    {
     "name": "stdout",
     "output_type": "stream",
     "text": [
      "\t\t\t\t... BROP03\n"
     ]
    },
    {
     "name": "stderr",
     "output_type": "stream",
     "text": [
      "INFO:pyeeg.io:Adding feature surprisal\n",
      "INFO:pyeeg.models:Will use lags spanning form tmin to tmax.\n",
      "To use individual lags, use the `times` argument...\n"
     ]
    },
    {
     "name": "stdout",
     "output_type": "stream",
     "text": [
      "\t\t\t\t... FLOP01\n"
     ]
    },
    {
     "name": "stderr",
     "output_type": "stream",
     "text": [
      "INFO:pyeeg.io:Adding feature surprisal\n",
      "INFO:pyeeg.models:Will use lags spanning form tmin to tmax.\n",
      "To use individual lags, use the `times` argument...\n"
     ]
    },
    {
     "name": "stdout",
     "output_type": "stream",
     "text": [
      "\t\t\t\t... FLOP02\n"
     ]
    },
    {
     "name": "stderr",
     "output_type": "stream",
     "text": [
      "INFO:pyeeg.io:Adding feature surprisal\n",
      "INFO:pyeeg.models:Will use lags spanning form tmin to tmax.\n",
      "To use individual lags, use the `times` argument...\n"
     ]
    },
    {
     "name": "stdout",
     "output_type": "stream",
     "text": [
      "\t\t\t\t... FLOP03\n"
     ]
    },
    {
     "name": "stderr",
     "output_type": "stream",
     "text": [
      "INFO:pyeeg.io:Adding feature surprisal\n",
      "INFO:pyeeg.models:Will use lags spanning form tmin to tmax.\n",
      "To use individual lags, use the `times` argument...\n"
     ]
    },
    {
     "name": "stdout",
     "output_type": "stream",
     "text": [
      "\t\t\t\t... FLOP04\n",
      "============================== Processing subject P06_18072016====================\n"
     ]
    },
    {
     "name": "stderr",
     "output_type": "stream",
     "text": [
      "/home/hugo/Work/EEG/pyEEG/pyeeg/io.py:173: DeprecationWarning: stim_channel (default True in 0.17) will change to False in 0.18 and be removed in 0.19, set it to False in 0.17 to avoid this warning\n",
      "  raw = mne.io.read_raw_eeglab(input_fname=fname, montage=montage_mne, event_id=event_id, preload=True)\n"
     ]
    },
    {
     "name": "stdout",
     "output_type": "stream",
     "text": [
      "Used Annotations descriptions: ['boundary', 'story_onset']\n",
      "Setting up band-pass filter from 1 - 15 Hz\n",
      "l_trans_bandwidth chosen to be 1.0 Hz\n",
      "h_trans_bandwidth chosen to be 3.8 Hz\n",
      "Filter length of 413 samples (3.304 sec) selected\n"
     ]
    },
    {
     "name": "stderr",
     "output_type": "stream",
     "text": [
      "[Parallel(n_jobs=2)]: Using backend LokyBackend with 2 concurrent workers.\n",
      "[Parallel(n_jobs=2)]: Done  64 out of  64 | elapsed:    0.8s finished\n",
      "INFO:pyeeg.io:Adding feature surprisal\n",
      "INFO:pyeeg.models:Will use lags spanning form tmin to tmax.\n",
      "To use individual lags, use the `times` argument...\n"
     ]
    },
    {
     "name": "stdout",
     "output_type": "stream",
     "text": [
      "\t\t\t\t... AUNP01\n"
     ]
    },
    {
     "name": "stderr",
     "output_type": "stream",
     "text": [
      "INFO:pyeeg.io:Adding feature surprisal\n",
      "INFO:pyeeg.models:Will use lags spanning form tmin to tmax.\n",
      "To use individual lags, use the `times` argument...\n"
     ]
    },
    {
     "name": "stdout",
     "output_type": "stream",
     "text": [
      "\t\t\t\t... AUNP02\n"
     ]
    },
    {
     "name": "stderr",
     "output_type": "stream",
     "text": [
      "INFO:pyeeg.io:Adding feature surprisal\n",
      "INFO:pyeeg.models:Will use lags spanning form tmin to tmax.\n",
      "To use individual lags, use the `times` argument...\n"
     ]
    },
    {
     "name": "stdout",
     "output_type": "stream",
     "text": [
      "\t\t\t\t... AUNP03\n"
     ]
    },
    {
     "name": "stderr",
     "output_type": "stream",
     "text": [
      "INFO:pyeeg.io:Adding feature surprisal\n",
      "INFO:pyeeg.models:Will use lags spanning form tmin to tmax.\n",
      "To use individual lags, use the `times` argument...\n"
     ]
    },
    {
     "name": "stdout",
     "output_type": "stream",
     "text": [
      "\t\t\t\t... AUNP04\n"
     ]
    },
    {
     "name": "stderr",
     "output_type": "stream",
     "text": [
      "INFO:pyeeg.io:Adding feature surprisal\n",
      "INFO:pyeeg.models:Will use lags spanning form tmin to tmax.\n",
      "To use individual lags, use the `times` argument...\n"
     ]
    },
    {
     "name": "stdout",
     "output_type": "stream",
     "text": [
      "\t\t\t\t... AUNP05\n"
     ]
    },
    {
     "name": "stderr",
     "output_type": "stream",
     "text": [
      "INFO:pyeeg.io:Adding feature surprisal\n",
      "INFO:pyeeg.models:Will use lags spanning form tmin to tmax.\n",
      "To use individual lags, use the `times` argument...\n"
     ]
    },
    {
     "name": "stdout",
     "output_type": "stream",
     "text": [
      "\t\t\t\t... AUNP06\n"
     ]
    },
    {
     "name": "stderr",
     "output_type": "stream",
     "text": [
      "INFO:pyeeg.io:Adding feature surprisal\n",
      "INFO:pyeeg.models:Will use lags spanning form tmin to tmax.\n",
      "To use individual lags, use the `times` argument...\n"
     ]
    },
    {
     "name": "stdout",
     "output_type": "stream",
     "text": [
      "\t\t\t\t... AUNP07\n"
     ]
    },
    {
     "name": "stderr",
     "output_type": "stream",
     "text": [
      "INFO:pyeeg.io:Adding feature surprisal\n",
      "INFO:pyeeg.models:Will use lags spanning form tmin to tmax.\n",
      "To use individual lags, use the `times` argument...\n"
     ]
    },
    {
     "name": "stdout",
     "output_type": "stream",
     "text": [
      "\t\t\t\t... AUNP08\n"
     ]
    },
    {
     "name": "stderr",
     "output_type": "stream",
     "text": [
      "INFO:pyeeg.io:Adding feature surprisal\n",
      "INFO:pyeeg.models:Will use lags spanning form tmin to tmax.\n",
      "To use individual lags, use the `times` argument...\n"
     ]
    },
    {
     "name": "stdout",
     "output_type": "stream",
     "text": [
      "\t\t\t\t... BROP01\n"
     ]
    },
    {
     "name": "stderr",
     "output_type": "stream",
     "text": [
      "INFO:pyeeg.io:Adding feature surprisal\n",
      "INFO:pyeeg.models:Will use lags spanning form tmin to tmax.\n",
      "To use individual lags, use the `times` argument...\n"
     ]
    },
    {
     "name": "stdout",
     "output_type": "stream",
     "text": [
      "\t\t\t\t... BROP02\n"
     ]
    },
    {
     "name": "stderr",
     "output_type": "stream",
     "text": [
      "INFO:pyeeg.io:Adding feature surprisal\n",
      "INFO:pyeeg.models:Will use lags spanning form tmin to tmax.\n",
      "To use individual lags, use the `times` argument...\n"
     ]
    },
    {
     "name": "stdout",
     "output_type": "stream",
     "text": [
      "\t\t\t\t... BROP03\n"
     ]
    },
    {
     "name": "stderr",
     "output_type": "stream",
     "text": [
      "INFO:pyeeg.io:Adding feature surprisal\n",
      "INFO:pyeeg.models:Will use lags spanning form tmin to tmax.\n",
      "To use individual lags, use the `times` argument...\n"
     ]
    },
    {
     "name": "stdout",
     "output_type": "stream",
     "text": [
      "\t\t\t\t... FLOP01\n"
     ]
    },
    {
     "name": "stderr",
     "output_type": "stream",
     "text": [
      "INFO:pyeeg.io:Adding feature surprisal\n",
      "INFO:pyeeg.models:Will use lags spanning form tmin to tmax.\n",
      "To use individual lags, use the `times` argument...\n"
     ]
    },
    {
     "name": "stdout",
     "output_type": "stream",
     "text": [
      "\t\t\t\t... FLOP02\n"
     ]
    },
    {
     "name": "stderr",
     "output_type": "stream",
     "text": [
      "INFO:pyeeg.io:Adding feature surprisal\n",
      "INFO:pyeeg.models:Will use lags spanning form tmin to tmax.\n",
      "To use individual lags, use the `times` argument...\n"
     ]
    },
    {
     "name": "stdout",
     "output_type": "stream",
     "text": [
      "\t\t\t\t... FLOP03\n"
     ]
    },
    {
     "name": "stderr",
     "output_type": "stream",
     "text": [
      "INFO:pyeeg.io:Adding feature surprisal\n",
      "INFO:pyeeg.models:Will use lags spanning form tmin to tmax.\n",
      "To use individual lags, use the `times` argument...\n"
     ]
    },
    {
     "name": "stdout",
     "output_type": "stream",
     "text": [
      "\t\t\t\t... FLOP04\n",
      "============================== Processing subject P07_19072016====================\n"
     ]
    },
    {
     "name": "stderr",
     "output_type": "stream",
     "text": [
      "/home/hugo/Work/EEG/pyEEG/pyeeg/io.py:173: DeprecationWarning: stim_channel (default True in 0.17) will change to False in 0.18 and be removed in 0.19, set it to False in 0.17 to avoid this warning\n",
      "  raw = mne.io.read_raw_eeglab(input_fname=fname, montage=montage_mne, event_id=event_id, preload=True)\n"
     ]
    },
    {
     "name": "stdout",
     "output_type": "stream",
     "text": [
      "Used Annotations descriptions: ['boundary', 'story_onset']\n",
      "Setting up band-pass filter from 1 - 15 Hz\n",
      "l_trans_bandwidth chosen to be 1.0 Hz\n",
      "h_trans_bandwidth chosen to be 3.8 Hz\n",
      "Filter length of 413 samples (3.304 sec) selected\n"
     ]
    },
    {
     "name": "stderr",
     "output_type": "stream",
     "text": [
      "[Parallel(n_jobs=2)]: Using backend LokyBackend with 2 concurrent workers.\n",
      "[Parallel(n_jobs=2)]: Done  64 out of  64 | elapsed:    0.7s finished\n",
      "INFO:pyeeg.io:Adding feature surprisal\n",
      "INFO:pyeeg.models:Will use lags spanning form tmin to tmax.\n",
      "To use individual lags, use the `times` argument...\n"
     ]
    },
    {
     "name": "stdout",
     "output_type": "stream",
     "text": [
      "\t\t\t\t... AUNP01\n"
     ]
    },
    {
     "name": "stderr",
     "output_type": "stream",
     "text": [
      "INFO:pyeeg.io:Adding feature surprisal\n",
      "INFO:pyeeg.models:Will use lags spanning form tmin to tmax.\n",
      "To use individual lags, use the `times` argument...\n"
     ]
    },
    {
     "name": "stdout",
     "output_type": "stream",
     "text": [
      "\t\t\t\t... AUNP02\n"
     ]
    },
    {
     "name": "stderr",
     "output_type": "stream",
     "text": [
      "INFO:pyeeg.io:Adding feature surprisal\n",
      "INFO:pyeeg.models:Will use lags spanning form tmin to tmax.\n",
      "To use individual lags, use the `times` argument...\n"
     ]
    },
    {
     "name": "stdout",
     "output_type": "stream",
     "text": [
      "\t\t\t\t... AUNP03\n"
     ]
    },
    {
     "name": "stderr",
     "output_type": "stream",
     "text": [
      "INFO:pyeeg.io:Adding feature surprisal\n",
      "INFO:pyeeg.models:Will use lags spanning form tmin to tmax.\n",
      "To use individual lags, use the `times` argument...\n"
     ]
    },
    {
     "name": "stdout",
     "output_type": "stream",
     "text": [
      "\t\t\t\t... AUNP04\n"
     ]
    },
    {
     "name": "stderr",
     "output_type": "stream",
     "text": [
      "INFO:pyeeg.io:Adding feature surprisal\n",
      "INFO:pyeeg.models:Will use lags spanning form tmin to tmax.\n",
      "To use individual lags, use the `times` argument...\n"
     ]
    },
    {
     "name": "stdout",
     "output_type": "stream",
     "text": [
      "\t\t\t\t... AUNP05\n"
     ]
    },
    {
     "name": "stderr",
     "output_type": "stream",
     "text": [
      "INFO:pyeeg.io:Adding feature surprisal\n",
      "INFO:pyeeg.models:Will use lags spanning form tmin to tmax.\n",
      "To use individual lags, use the `times` argument...\n"
     ]
    },
    {
     "name": "stdout",
     "output_type": "stream",
     "text": [
      "\t\t\t\t... AUNP06\n"
     ]
    },
    {
     "name": "stderr",
     "output_type": "stream",
     "text": [
      "INFO:pyeeg.io:Adding feature surprisal\n",
      "INFO:pyeeg.models:Will use lags spanning form tmin to tmax.\n",
      "To use individual lags, use the `times` argument...\n"
     ]
    },
    {
     "name": "stdout",
     "output_type": "stream",
     "text": [
      "\t\t\t\t... AUNP07\n"
     ]
    },
    {
     "name": "stderr",
     "output_type": "stream",
     "text": [
      "INFO:pyeeg.io:Adding feature surprisal\n",
      "INFO:pyeeg.models:Will use lags spanning form tmin to tmax.\n",
      "To use individual lags, use the `times` argument...\n"
     ]
    },
    {
     "name": "stdout",
     "output_type": "stream",
     "text": [
      "\t\t\t\t... AUNP08\n"
     ]
    },
    {
     "name": "stderr",
     "output_type": "stream",
     "text": [
      "INFO:pyeeg.io:Adding feature surprisal\n",
      "INFO:pyeeg.models:Will use lags spanning form tmin to tmax.\n",
      "To use individual lags, use the `times` argument...\n"
     ]
    },
    {
     "name": "stdout",
     "output_type": "stream",
     "text": [
      "\t\t\t\t... BROP01\n"
     ]
    },
    {
     "name": "stderr",
     "output_type": "stream",
     "text": [
      "INFO:pyeeg.io:Adding feature surprisal\n",
      "INFO:pyeeg.models:Will use lags spanning form tmin to tmax.\n",
      "To use individual lags, use the `times` argument...\n"
     ]
    },
    {
     "name": "stdout",
     "output_type": "stream",
     "text": [
      "\t\t\t\t... BROP02\n"
     ]
    },
    {
     "name": "stderr",
     "output_type": "stream",
     "text": [
      "INFO:pyeeg.io:Adding feature surprisal\n",
      "INFO:pyeeg.models:Will use lags spanning form tmin to tmax.\n",
      "To use individual lags, use the `times` argument...\n"
     ]
    },
    {
     "name": "stdout",
     "output_type": "stream",
     "text": [
      "\t\t\t\t... BROP03\n"
     ]
    },
    {
     "name": "stderr",
     "output_type": "stream",
     "text": [
      "INFO:pyeeg.io:Adding feature surprisal\n",
      "INFO:pyeeg.models:Will use lags spanning form tmin to tmax.\n",
      "To use individual lags, use the `times` argument...\n"
     ]
    },
    {
     "name": "stdout",
     "output_type": "stream",
     "text": [
      "\t\t\t\t... FLOP01\n"
     ]
    },
    {
     "name": "stderr",
     "output_type": "stream",
     "text": [
      "INFO:pyeeg.io:Adding feature surprisal\n",
      "INFO:pyeeg.models:Will use lags spanning form tmin to tmax.\n",
      "To use individual lags, use the `times` argument...\n"
     ]
    },
    {
     "name": "stdout",
     "output_type": "stream",
     "text": [
      "\t\t\t\t... FLOP02\n"
     ]
    },
    {
     "name": "stderr",
     "output_type": "stream",
     "text": [
      "INFO:pyeeg.io:Adding feature surprisal\n",
      "INFO:pyeeg.models:Will use lags spanning form tmin to tmax.\n",
      "To use individual lags, use the `times` argument...\n"
     ]
    },
    {
     "name": "stdout",
     "output_type": "stream",
     "text": [
      "\t\t\t\t... FLOP03\n"
     ]
    },
    {
     "name": "stderr",
     "output_type": "stream",
     "text": [
      "INFO:pyeeg.io:Adding feature surprisal\n",
      "INFO:pyeeg.models:Will use lags spanning form tmin to tmax.\n",
      "To use individual lags, use the `times` argument...\n"
     ]
    },
    {
     "name": "stdout",
     "output_type": "stream",
     "text": [
      "\t\t\t\t... FLOP04\n",
      "============================== Processing subject P08_21072016====================\n"
     ]
    },
    {
     "name": "stderr",
     "output_type": "stream",
     "text": [
      "/home/hugo/Work/EEG/pyEEG/pyeeg/io.py:173: DeprecationWarning: stim_channel (default True in 0.17) will change to False in 0.18 and be removed in 0.19, set it to False in 0.17 to avoid this warning\n",
      "  raw = mne.io.read_raw_eeglab(input_fname=fname, montage=montage_mne, event_id=event_id, preload=True)\n"
     ]
    },
    {
     "name": "stdout",
     "output_type": "stream",
     "text": [
      "Used Annotations descriptions: ['boundary', 'story_onset']\n",
      "Setting up band-pass filter from 1 - 15 Hz\n",
      "l_trans_bandwidth chosen to be 1.0 Hz\n",
      "h_trans_bandwidth chosen to be 3.8 Hz\n",
      "Filter length of 413 samples (3.304 sec) selected\n"
     ]
    },
    {
     "name": "stderr",
     "output_type": "stream",
     "text": [
      "/home/hugo/Work/EEG/pyEEG/pyeeg/io.py:173: RuntimeWarning: 1 events will be dropped because they occur on the same time sample as another event. `mne.io.Raw` objects store events on an event channel, which cannot represent two events on the same sample. Please use `read_annotations_eeglab` and create events using `events_from_annotations` to extract the original event structure. Then, you can e.g. subset the extracted events for constructing epochs.\n",
      "  raw = mne.io.read_raw_eeglab(input_fname=fname, montage=montage_mne, event_id=event_id, preload=True)\n",
      "[Parallel(n_jobs=2)]: Using backend LokyBackend with 2 concurrent workers.\n",
      "[Parallel(n_jobs=2)]: Done  64 out of  64 | elapsed:    0.7s finished\n",
      "INFO:pyeeg.io:Adding feature surprisal\n",
      "INFO:pyeeg.models:Will use lags spanning form tmin to tmax.\n",
      "To use individual lags, use the `times` argument...\n"
     ]
    },
    {
     "name": "stdout",
     "output_type": "stream",
     "text": [
      "\t\t\t\t... AUNP01\n"
     ]
    },
    {
     "name": "stderr",
     "output_type": "stream",
     "text": [
      "INFO:pyeeg.io:Adding feature surprisal\n",
      "INFO:pyeeg.models:Will use lags spanning form tmin to tmax.\n",
      "To use individual lags, use the `times` argument...\n"
     ]
    },
    {
     "name": "stdout",
     "output_type": "stream",
     "text": [
      "\t\t\t\t... AUNP02\n"
     ]
    },
    {
     "name": "stderr",
     "output_type": "stream",
     "text": [
      "INFO:pyeeg.io:Adding feature surprisal\n",
      "INFO:pyeeg.models:Will use lags spanning form tmin to tmax.\n",
      "To use individual lags, use the `times` argument...\n"
     ]
    },
    {
     "name": "stdout",
     "output_type": "stream",
     "text": [
      "\t\t\t\t... AUNP03\n"
     ]
    },
    {
     "name": "stderr",
     "output_type": "stream",
     "text": [
      "INFO:pyeeg.io:Adding feature surprisal\n",
      "INFO:pyeeg.models:Will use lags spanning form tmin to tmax.\n",
      "To use individual lags, use the `times` argument...\n"
     ]
    },
    {
     "name": "stdout",
     "output_type": "stream",
     "text": [
      "\t\t\t\t... AUNP04\n"
     ]
    },
    {
     "name": "stderr",
     "output_type": "stream",
     "text": [
      "INFO:pyeeg.io:Adding feature surprisal\n",
      "INFO:pyeeg.models:Will use lags spanning form tmin to tmax.\n",
      "To use individual lags, use the `times` argument...\n"
     ]
    },
    {
     "name": "stdout",
     "output_type": "stream",
     "text": [
      "\t\t\t\t... AUNP05\n"
     ]
    },
    {
     "name": "stderr",
     "output_type": "stream",
     "text": [
      "INFO:pyeeg.io:Adding feature surprisal\n",
      "INFO:pyeeg.models:Will use lags spanning form tmin to tmax.\n",
      "To use individual lags, use the `times` argument...\n"
     ]
    },
    {
     "name": "stdout",
     "output_type": "stream",
     "text": [
      "\t\t\t\t... AUNP06\n"
     ]
    },
    {
     "name": "stderr",
     "output_type": "stream",
     "text": [
      "INFO:pyeeg.io:Adding feature surprisal\n",
      "INFO:pyeeg.models:Will use lags spanning form tmin to tmax.\n",
      "To use individual lags, use the `times` argument...\n"
     ]
    },
    {
     "name": "stdout",
     "output_type": "stream",
     "text": [
      "\t\t\t\t... AUNP07\n"
     ]
    },
    {
     "name": "stderr",
     "output_type": "stream",
     "text": [
      "INFO:pyeeg.io:Adding feature surprisal\n",
      "INFO:pyeeg.models:Will use lags spanning form tmin to tmax.\n",
      "To use individual lags, use the `times` argument...\n"
     ]
    },
    {
     "name": "stdout",
     "output_type": "stream",
     "text": [
      "\t\t\t\t... AUNP08\n"
     ]
    },
    {
     "name": "stderr",
     "output_type": "stream",
     "text": [
      "INFO:pyeeg.io:Adding feature surprisal\n",
      "INFO:pyeeg.models:Will use lags spanning form tmin to tmax.\n",
      "To use individual lags, use the `times` argument...\n"
     ]
    },
    {
     "name": "stdout",
     "output_type": "stream",
     "text": [
      "\t\t\t\t... BROP01\n"
     ]
    },
    {
     "name": "stderr",
     "output_type": "stream",
     "text": [
      "INFO:pyeeg.io:Adding feature surprisal\n",
      "INFO:pyeeg.models:Will use lags spanning form tmin to tmax.\n",
      "To use individual lags, use the `times` argument...\n"
     ]
    },
    {
     "name": "stdout",
     "output_type": "stream",
     "text": [
      "\t\t\t\t... BROP02\n"
     ]
    },
    {
     "name": "stderr",
     "output_type": "stream",
     "text": [
      "INFO:pyeeg.io:Adding feature surprisal\n",
      "INFO:pyeeg.models:Will use lags spanning form tmin to tmax.\n",
      "To use individual lags, use the `times` argument...\n"
     ]
    },
    {
     "name": "stdout",
     "output_type": "stream",
     "text": [
      "\t\t\t\t... BROP03\n"
     ]
    },
    {
     "name": "stderr",
     "output_type": "stream",
     "text": [
      "INFO:pyeeg.io:Adding feature surprisal\n",
      "INFO:pyeeg.models:Will use lags spanning form tmin to tmax.\n",
      "To use individual lags, use the `times` argument...\n"
     ]
    },
    {
     "name": "stdout",
     "output_type": "stream",
     "text": [
      "\t\t\t\t... FLOP01\n"
     ]
    },
    {
     "name": "stderr",
     "output_type": "stream",
     "text": [
      "INFO:pyeeg.io:Adding feature surprisal\n",
      "INFO:pyeeg.models:Will use lags spanning form tmin to tmax.\n",
      "To use individual lags, use the `times` argument...\n"
     ]
    },
    {
     "name": "stdout",
     "output_type": "stream",
     "text": [
      "\t\t\t\t... FLOP02\n"
     ]
    },
    {
     "name": "stderr",
     "output_type": "stream",
     "text": [
      "INFO:pyeeg.io:Adding feature surprisal\n",
      "INFO:pyeeg.models:Will use lags spanning form tmin to tmax.\n",
      "To use individual lags, use the `times` argument...\n"
     ]
    },
    {
     "name": "stdout",
     "output_type": "stream",
     "text": [
      "\t\t\t\t... FLOP03\n"
     ]
    },
    {
     "name": "stderr",
     "output_type": "stream",
     "text": [
      "INFO:pyeeg.io:Adding feature surprisal\n",
      "INFO:pyeeg.models:Will use lags spanning form tmin to tmax.\n",
      "To use individual lags, use the `times` argument...\n"
     ]
    },
    {
     "name": "stdout",
     "output_type": "stream",
     "text": [
      "\t\t\t\t... FLOP04\n",
      "============================== Processing subject P09_22072016====================\n"
     ]
    },
    {
     "name": "stderr",
     "output_type": "stream",
     "text": [
      "/home/hugo/Work/EEG/pyEEG/pyeeg/io.py:173: DeprecationWarning: stim_channel (default True in 0.17) will change to False in 0.18 and be removed in 0.19, set it to False in 0.17 to avoid this warning\n",
      "  raw = mne.io.read_raw_eeglab(input_fname=fname, montage=montage_mne, event_id=event_id, preload=True)\n"
     ]
    },
    {
     "name": "stdout",
     "output_type": "stream",
     "text": [
      "Used Annotations descriptions: ['boundary', 'story_onset', 'S  4', 'S  8', 'S  3', 'S  2', 'S  1']\n",
      "Setting up band-pass filter from 1 - 15 Hz\n",
      "l_trans_bandwidth chosen to be 1.0 Hz\n",
      "h_trans_bandwidth chosen to be 3.8 Hz\n",
      "Filter length of 413 samples (3.304 sec) selected\n"
     ]
    },
    {
     "name": "stderr",
     "output_type": "stream",
     "text": [
      "/home/hugo/Work/EEG/pyEEG/pyeeg/io.py:173: RuntimeWarning: 1 events will be dropped because they occur on the same time sample as another event. `mne.io.Raw` objects store events on an event channel, which cannot represent two events on the same sample. Please use `read_annotations_eeglab` and create events using `events_from_annotations` to extract the original event structure. Then, you can e.g. subset the extracted events for constructing epochs.\n",
      "  raw = mne.io.read_raw_eeglab(input_fname=fname, montage=montage_mne, event_id=event_id, preload=True)\n",
      "[Parallel(n_jobs=2)]: Using backend LokyBackend with 2 concurrent workers.\n",
      "[Parallel(n_jobs=2)]: Done  64 out of  64 | elapsed:    1.0s finished\n",
      "INFO:pyeeg.io:Adding feature surprisal\n",
      "INFO:pyeeg.models:Will use lags spanning form tmin to tmax.\n",
      "To use individual lags, use the `times` argument...\n"
     ]
    },
    {
     "name": "stdout",
     "output_type": "stream",
     "text": [
      "\t\t\t\t... AUNP01\n"
     ]
    },
    {
     "name": "stderr",
     "output_type": "stream",
     "text": [
      "INFO:pyeeg.io:Adding feature surprisal\n",
      "INFO:pyeeg.models:Will use lags spanning form tmin to tmax.\n",
      "To use individual lags, use the `times` argument...\n"
     ]
    },
    {
     "name": "stdout",
     "output_type": "stream",
     "text": [
      "\t\t\t\t... AUNP02\n"
     ]
    },
    {
     "name": "stderr",
     "output_type": "stream",
     "text": [
      "INFO:pyeeg.io:Adding feature surprisal\n",
      "INFO:pyeeg.models:Will use lags spanning form tmin to tmax.\n",
      "To use individual lags, use the `times` argument...\n"
     ]
    },
    {
     "name": "stdout",
     "output_type": "stream",
     "text": [
      "\t\t\t\t... AUNP03\n"
     ]
    },
    {
     "name": "stderr",
     "output_type": "stream",
     "text": [
      "INFO:pyeeg.io:Adding feature surprisal\n",
      "INFO:pyeeg.models:Will use lags spanning form tmin to tmax.\n",
      "To use individual lags, use the `times` argument...\n"
     ]
    },
    {
     "name": "stdout",
     "output_type": "stream",
     "text": [
      "\t\t\t\t... AUNP04\n"
     ]
    },
    {
     "name": "stderr",
     "output_type": "stream",
     "text": [
      "INFO:pyeeg.io:Adding feature surprisal\n",
      "INFO:pyeeg.models:Will use lags spanning form tmin to tmax.\n",
      "To use individual lags, use the `times` argument...\n"
     ]
    },
    {
     "name": "stdout",
     "output_type": "stream",
     "text": [
      "\t\t\t\t... AUNP05\n"
     ]
    },
    {
     "name": "stderr",
     "output_type": "stream",
     "text": [
      "INFO:pyeeg.io:Adding feature surprisal\n",
      "INFO:pyeeg.models:Will use lags spanning form tmin to tmax.\n",
      "To use individual lags, use the `times` argument...\n"
     ]
    },
    {
     "name": "stdout",
     "output_type": "stream",
     "text": [
      "\t\t\t\t... AUNP06\n"
     ]
    },
    {
     "name": "stderr",
     "output_type": "stream",
     "text": [
      "INFO:pyeeg.io:Adding feature surprisal\n",
      "INFO:pyeeg.models:Will use lags spanning form tmin to tmax.\n",
      "To use individual lags, use the `times` argument...\n"
     ]
    },
    {
     "name": "stdout",
     "output_type": "stream",
     "text": [
      "\t\t\t\t... AUNP07\n"
     ]
    },
    {
     "name": "stderr",
     "output_type": "stream",
     "text": [
      "INFO:pyeeg.io:Adding feature surprisal\n",
      "INFO:pyeeg.models:Will use lags spanning form tmin to tmax.\n",
      "To use individual lags, use the `times` argument...\n"
     ]
    },
    {
     "name": "stdout",
     "output_type": "stream",
     "text": [
      "\t\t\t\t... AUNP08\n"
     ]
    },
    {
     "name": "stderr",
     "output_type": "stream",
     "text": [
      "INFO:pyeeg.io:Adding feature surprisal\n",
      "INFO:pyeeg.models:Will use lags spanning form tmin to tmax.\n",
      "To use individual lags, use the `times` argument...\n"
     ]
    },
    {
     "name": "stdout",
     "output_type": "stream",
     "text": [
      "\t\t\t\t... BROP01\n"
     ]
    },
    {
     "name": "stderr",
     "output_type": "stream",
     "text": [
      "INFO:pyeeg.io:Adding feature surprisal\n",
      "INFO:pyeeg.models:Will use lags spanning form tmin to tmax.\n",
      "To use individual lags, use the `times` argument...\n"
     ]
    },
    {
     "name": "stdout",
     "output_type": "stream",
     "text": [
      "\t\t\t\t... BROP02\n"
     ]
    },
    {
     "name": "stderr",
     "output_type": "stream",
     "text": [
      "INFO:pyeeg.io:Adding feature surprisal\n",
      "INFO:pyeeg.models:Will use lags spanning form tmin to tmax.\n",
      "To use individual lags, use the `times` argument...\n"
     ]
    },
    {
     "name": "stdout",
     "output_type": "stream",
     "text": [
      "\t\t\t\t... BROP03\n"
     ]
    },
    {
     "name": "stderr",
     "output_type": "stream",
     "text": [
      "INFO:pyeeg.io:Adding feature surprisal\n",
      "INFO:pyeeg.models:Will use lags spanning form tmin to tmax.\n",
      "To use individual lags, use the `times` argument...\n"
     ]
    },
    {
     "name": "stdout",
     "output_type": "stream",
     "text": [
      "\t\t\t\t... FLOP01\n"
     ]
    },
    {
     "name": "stderr",
     "output_type": "stream",
     "text": [
      "INFO:pyeeg.io:Adding feature surprisal\n",
      "INFO:pyeeg.models:Will use lags spanning form tmin to tmax.\n",
      "To use individual lags, use the `times` argument...\n"
     ]
    },
    {
     "name": "stdout",
     "output_type": "stream",
     "text": [
      "\t\t\t\t... FLOP02\n"
     ]
    },
    {
     "name": "stderr",
     "output_type": "stream",
     "text": [
      "INFO:pyeeg.io:Adding feature surprisal\n",
      "INFO:pyeeg.models:Will use lags spanning form tmin to tmax.\n",
      "To use individual lags, use the `times` argument...\n"
     ]
    },
    {
     "name": "stdout",
     "output_type": "stream",
     "text": [
      "\t\t\t\t... FLOP03\n"
     ]
    },
    {
     "name": "stderr",
     "output_type": "stream",
     "text": [
      "INFO:pyeeg.io:Adding feature surprisal\n",
      "INFO:pyeeg.models:Will use lags spanning form tmin to tmax.\n",
      "To use individual lags, use the `times` argument...\n"
     ]
    },
    {
     "name": "stdout",
     "output_type": "stream",
     "text": [
      "\t\t\t\t... FLOP04\n",
      "============================== Processing subject P10_14092016====================\n"
     ]
    },
    {
     "name": "stderr",
     "output_type": "stream",
     "text": [
      "/home/hugo/Work/EEG/pyEEG/pyeeg/io.py:173: DeprecationWarning: stim_channel (default True in 0.17) will change to False in 0.18 and be removed in 0.19, set it to False in 0.17 to avoid this warning\n",
      "  raw = mne.io.read_raw_eeglab(input_fname=fname, montage=montage_mne, event_id=event_id, preload=True)\n"
     ]
    },
    {
     "name": "stdout",
     "output_type": "stream",
     "text": [
      "Used Annotations descriptions: ['boundary', 'S  4', 'story_onset', 'S  8', 'S  3', 'S  2', 'S  1']\n",
      "Setting up band-pass filter from 1 - 15 Hz\n",
      "l_trans_bandwidth chosen to be 1.0 Hz\n",
      "h_trans_bandwidth chosen to be 3.8 Hz\n",
      "Filter length of 413 samples (3.304 sec) selected\n"
     ]
    },
    {
     "name": "stderr",
     "output_type": "stream",
     "text": [
      "[Parallel(n_jobs=2)]: Using backend LokyBackend with 2 concurrent workers.\n",
      "[Parallel(n_jobs=2)]: Done  64 out of  64 | elapsed:    0.8s finished\n",
      "INFO:pyeeg.io:Adding feature surprisal\n",
      "INFO:pyeeg.models:Will use lags spanning form tmin to tmax.\n",
      "To use individual lags, use the `times` argument...\n"
     ]
    },
    {
     "name": "stdout",
     "output_type": "stream",
     "text": [
      "\t\t\t\t... AUNP01\n"
     ]
    },
    {
     "name": "stderr",
     "output_type": "stream",
     "text": [
      "INFO:pyeeg.io:Adding feature surprisal\n",
      "INFO:pyeeg.models:Will use lags spanning form tmin to tmax.\n",
      "To use individual lags, use the `times` argument...\n"
     ]
    },
    {
     "name": "stdout",
     "output_type": "stream",
     "text": [
      "\t\t\t\t... AUNP02\n"
     ]
    },
    {
     "name": "stderr",
     "output_type": "stream",
     "text": [
      "INFO:pyeeg.io:Adding feature surprisal\n",
      "INFO:pyeeg.models:Will use lags spanning form tmin to tmax.\n",
      "To use individual lags, use the `times` argument...\n"
     ]
    },
    {
     "name": "stdout",
     "output_type": "stream",
     "text": [
      "\t\t\t\t... AUNP03\n"
     ]
    },
    {
     "name": "stderr",
     "output_type": "stream",
     "text": [
      "INFO:pyeeg.io:Adding feature surprisal\n",
      "INFO:pyeeg.models:Will use lags spanning form tmin to tmax.\n",
      "To use individual lags, use the `times` argument...\n"
     ]
    },
    {
     "name": "stdout",
     "output_type": "stream",
     "text": [
      "\t\t\t\t... AUNP04\n"
     ]
    },
    {
     "name": "stderr",
     "output_type": "stream",
     "text": [
      "INFO:pyeeg.io:Adding feature surprisal\n",
      "INFO:pyeeg.models:Will use lags spanning form tmin to tmax.\n",
      "To use individual lags, use the `times` argument...\n"
     ]
    },
    {
     "name": "stdout",
     "output_type": "stream",
     "text": [
      "\t\t\t\t... AUNP05\n"
     ]
    },
    {
     "name": "stderr",
     "output_type": "stream",
     "text": [
      "INFO:pyeeg.io:Adding feature surprisal\n",
      "INFO:pyeeg.models:Will use lags spanning form tmin to tmax.\n",
      "To use individual lags, use the `times` argument...\n"
     ]
    },
    {
     "name": "stdout",
     "output_type": "stream",
     "text": [
      "\t\t\t\t... AUNP06\n"
     ]
    },
    {
     "name": "stderr",
     "output_type": "stream",
     "text": [
      "INFO:pyeeg.io:Adding feature surprisal\n",
      "INFO:pyeeg.models:Will use lags spanning form tmin to tmax.\n",
      "To use individual lags, use the `times` argument...\n"
     ]
    },
    {
     "name": "stdout",
     "output_type": "stream",
     "text": [
      "\t\t\t\t... AUNP07\n"
     ]
    },
    {
     "name": "stderr",
     "output_type": "stream",
     "text": [
      "INFO:pyeeg.io:Adding feature surprisal\n",
      "INFO:pyeeg.models:Will use lags spanning form tmin to tmax.\n",
      "To use individual lags, use the `times` argument...\n"
     ]
    },
    {
     "name": "stdout",
     "output_type": "stream",
     "text": [
      "\t\t\t\t... AUNP08\n"
     ]
    },
    {
     "name": "stderr",
     "output_type": "stream",
     "text": [
      "INFO:pyeeg.io:Adding feature surprisal\n",
      "INFO:pyeeg.models:Will use lags spanning form tmin to tmax.\n",
      "To use individual lags, use the `times` argument...\n"
     ]
    },
    {
     "name": "stdout",
     "output_type": "stream",
     "text": [
      "\t\t\t\t... BROP01\n"
     ]
    },
    {
     "name": "stderr",
     "output_type": "stream",
     "text": [
      "INFO:pyeeg.io:Adding feature surprisal\n",
      "INFO:pyeeg.models:Will use lags spanning form tmin to tmax.\n",
      "To use individual lags, use the `times` argument...\n"
     ]
    },
    {
     "name": "stdout",
     "output_type": "stream",
     "text": [
      "\t\t\t\t... BROP02\n"
     ]
    },
    {
     "name": "stderr",
     "output_type": "stream",
     "text": [
      "INFO:pyeeg.io:Adding feature surprisal\n",
      "INFO:pyeeg.models:Will use lags spanning form tmin to tmax.\n",
      "To use individual lags, use the `times` argument...\n"
     ]
    },
    {
     "name": "stdout",
     "output_type": "stream",
     "text": [
      "\t\t\t\t... BROP03\n"
     ]
    },
    {
     "name": "stderr",
     "output_type": "stream",
     "text": [
      "INFO:pyeeg.io:Adding feature surprisal\n",
      "INFO:pyeeg.models:Will use lags spanning form tmin to tmax.\n",
      "To use individual lags, use the `times` argument...\n"
     ]
    },
    {
     "name": "stdout",
     "output_type": "stream",
     "text": [
      "\t\t\t\t... FLOP01\n"
     ]
    },
    {
     "name": "stderr",
     "output_type": "stream",
     "text": [
      "INFO:pyeeg.io:Adding feature surprisal\n",
      "INFO:pyeeg.models:Will use lags spanning form tmin to tmax.\n",
      "To use individual lags, use the `times` argument...\n"
     ]
    },
    {
     "name": "stdout",
     "output_type": "stream",
     "text": [
      "\t\t\t\t... FLOP02\n"
     ]
    },
    {
     "name": "stderr",
     "output_type": "stream",
     "text": [
      "INFO:pyeeg.io:Adding feature surprisal\n",
      "INFO:pyeeg.models:Will use lags spanning form tmin to tmax.\n",
      "To use individual lags, use the `times` argument...\n"
     ]
    },
    {
     "name": "stdout",
     "output_type": "stream",
     "text": [
      "\t\t\t\t... FLOP03\n"
     ]
    },
    {
     "name": "stderr",
     "output_type": "stream",
     "text": [
      "INFO:pyeeg.io:Adding feature surprisal\n",
      "INFO:pyeeg.models:Will use lags spanning form tmin to tmax.\n",
      "To use individual lags, use the `times` argument...\n"
     ]
    },
    {
     "name": "stdout",
     "output_type": "stream",
     "text": [
      "\t\t\t\t... FLOP04\n",
      "============================== Processing subject P12_01092016====================\n"
     ]
    },
    {
     "name": "stderr",
     "output_type": "stream",
     "text": [
      "/home/hugo/Work/EEG/pyEEG/pyeeg/io.py:173: DeprecationWarning: stim_channel (default True in 0.17) will change to False in 0.18 and be removed in 0.19, set it to False in 0.17 to avoid this warning\n",
      "  raw = mne.io.read_raw_eeglab(input_fname=fname, montage=montage_mne, event_id=event_id, preload=True)\n"
     ]
    },
    {
     "name": "stdout",
     "output_type": "stream",
     "text": [
      "Used Annotations descriptions: ['boundary', 'S  4', 'S  8', 'S  3', 'story_onset', 'S  1', 'S  2']\n",
      "Setting up band-pass filter from 1 - 15 Hz\n",
      "l_trans_bandwidth chosen to be 1.0 Hz\n",
      "h_trans_bandwidth chosen to be 3.8 Hz\n",
      "Filter length of 413 samples (3.304 sec) selected\n"
     ]
    },
    {
     "name": "stderr",
     "output_type": "stream",
     "text": [
      "[Parallel(n_jobs=2)]: Using backend LokyBackend with 2 concurrent workers.\n",
      "[Parallel(n_jobs=2)]: Done  64 out of  64 | elapsed:    0.9s finished\n",
      "INFO:pyeeg.io:Adding feature surprisal\n",
      "INFO:pyeeg.models:Will use lags spanning form tmin to tmax.\n",
      "To use individual lags, use the `times` argument...\n"
     ]
    },
    {
     "name": "stdout",
     "output_type": "stream",
     "text": [
      "\t\t\t\t... AUNP01\n"
     ]
    },
    {
     "name": "stderr",
     "output_type": "stream",
     "text": [
      "INFO:pyeeg.io:Adding feature surprisal\n",
      "INFO:pyeeg.models:Will use lags spanning form tmin to tmax.\n",
      "To use individual lags, use the `times` argument...\n"
     ]
    },
    {
     "name": "stdout",
     "output_type": "stream",
     "text": [
      "\t\t\t\t... AUNP02\n"
     ]
    },
    {
     "name": "stderr",
     "output_type": "stream",
     "text": [
      "INFO:pyeeg.io:Adding feature surprisal\n",
      "INFO:pyeeg.models:Will use lags spanning form tmin to tmax.\n",
      "To use individual lags, use the `times` argument...\n"
     ]
    },
    {
     "name": "stdout",
     "output_type": "stream",
     "text": [
      "\t\t\t\t... AUNP03\n"
     ]
    },
    {
     "name": "stderr",
     "output_type": "stream",
     "text": [
      "INFO:pyeeg.io:Adding feature surprisal\n",
      "INFO:pyeeg.models:Will use lags spanning form tmin to tmax.\n",
      "To use individual lags, use the `times` argument...\n"
     ]
    },
    {
     "name": "stdout",
     "output_type": "stream",
     "text": [
      "\t\t\t\t... AUNP04\n"
     ]
    },
    {
     "name": "stderr",
     "output_type": "stream",
     "text": [
      "INFO:pyeeg.io:Adding feature surprisal\n",
      "INFO:pyeeg.models:Will use lags spanning form tmin to tmax.\n",
      "To use individual lags, use the `times` argument...\n"
     ]
    },
    {
     "name": "stdout",
     "output_type": "stream",
     "text": [
      "\t\t\t\t... AUNP05\n"
     ]
    },
    {
     "name": "stderr",
     "output_type": "stream",
     "text": [
      "INFO:pyeeg.io:Adding feature surprisal\n",
      "INFO:pyeeg.models:Will use lags spanning form tmin to tmax.\n",
      "To use individual lags, use the `times` argument...\n"
     ]
    },
    {
     "name": "stdout",
     "output_type": "stream",
     "text": [
      "\t\t\t\t... AUNP06\n"
     ]
    },
    {
     "name": "stderr",
     "output_type": "stream",
     "text": [
      "INFO:pyeeg.io:Adding feature surprisal\n",
      "INFO:pyeeg.models:Will use lags spanning form tmin to tmax.\n",
      "To use individual lags, use the `times` argument...\n"
     ]
    },
    {
     "name": "stdout",
     "output_type": "stream",
     "text": [
      "\t\t\t\t... AUNP07\n"
     ]
    },
    {
     "name": "stderr",
     "output_type": "stream",
     "text": [
      "INFO:pyeeg.io:Adding feature surprisal\n",
      "INFO:pyeeg.models:Will use lags spanning form tmin to tmax.\n",
      "To use individual lags, use the `times` argument...\n"
     ]
    },
    {
     "name": "stdout",
     "output_type": "stream",
     "text": [
      "\t\t\t\t... AUNP08\n"
     ]
    },
    {
     "name": "stderr",
     "output_type": "stream",
     "text": [
      "INFO:pyeeg.io:Adding feature surprisal\n",
      "INFO:pyeeg.models:Will use lags spanning form tmin to tmax.\n",
      "To use individual lags, use the `times` argument...\n"
     ]
    },
    {
     "name": "stdout",
     "output_type": "stream",
     "text": [
      "\t\t\t\t... BROP01\n"
     ]
    },
    {
     "name": "stderr",
     "output_type": "stream",
     "text": [
      "INFO:pyeeg.io:Adding feature surprisal\n",
      "INFO:pyeeg.models:Will use lags spanning form tmin to tmax.\n",
      "To use individual lags, use the `times` argument...\n"
     ]
    },
    {
     "name": "stdout",
     "output_type": "stream",
     "text": [
      "\t\t\t\t... BROP02\n"
     ]
    },
    {
     "name": "stderr",
     "output_type": "stream",
     "text": [
      "INFO:pyeeg.io:Adding feature surprisal\n",
      "INFO:pyeeg.models:Will use lags spanning form tmin to tmax.\n",
      "To use individual lags, use the `times` argument...\n"
     ]
    },
    {
     "name": "stdout",
     "output_type": "stream",
     "text": [
      "\t\t\t\t... BROP03\n"
     ]
    },
    {
     "name": "stderr",
     "output_type": "stream",
     "text": [
      "INFO:pyeeg.io:Adding feature surprisal\n",
      "INFO:pyeeg.models:Will use lags spanning form tmin to tmax.\n",
      "To use individual lags, use the `times` argument...\n"
     ]
    },
    {
     "name": "stdout",
     "output_type": "stream",
     "text": [
      "\t\t\t\t... FLOP01\n"
     ]
    },
    {
     "name": "stderr",
     "output_type": "stream",
     "text": [
      "INFO:pyeeg.io:Adding feature surprisal\n",
      "INFO:pyeeg.models:Will use lags spanning form tmin to tmax.\n",
      "To use individual lags, use the `times` argument...\n"
     ]
    },
    {
     "name": "stdout",
     "output_type": "stream",
     "text": [
      "\t\t\t\t... FLOP02\n"
     ]
    },
    {
     "name": "stderr",
     "output_type": "stream",
     "text": [
      "INFO:pyeeg.io:Adding feature surprisal\n",
      "INFO:pyeeg.models:Will use lags spanning form tmin to tmax.\n",
      "To use individual lags, use the `times` argument...\n"
     ]
    },
    {
     "name": "stdout",
     "output_type": "stream",
     "text": [
      "\t\t\t\t... FLOP03\n"
     ]
    },
    {
     "name": "stderr",
     "output_type": "stream",
     "text": [
      "INFO:pyeeg.io:Adding feature surprisal\n",
      "INFO:pyeeg.models:Will use lags spanning form tmin to tmax.\n",
      "To use individual lags, use the `times` argument...\n"
     ]
    },
    {
     "name": "stdout",
     "output_type": "stream",
     "text": [
      "\t\t\t\t... FLOP04\n",
      "============================== Processing subject P13_08092016====================\n"
     ]
    },
    {
     "name": "stderr",
     "output_type": "stream",
     "text": [
      "/home/hugo/Work/EEG/pyEEG/pyeeg/io.py:173: DeprecationWarning: stim_channel (default True in 0.17) will change to False in 0.18 and be removed in 0.19, set it to False in 0.17 to avoid this warning\n",
      "  raw = mne.io.read_raw_eeglab(input_fname=fname, montage=montage_mne, event_id=event_id, preload=True)\n"
     ]
    },
    {
     "name": "stdout",
     "output_type": "stream",
     "text": [
      "Used Annotations descriptions: ['boundary', 'S  4', 'story_onset', 'S  8', 'S  3', 'S  2', 'S  1']\n",
      "Setting up band-pass filter from 1 - 15 Hz\n",
      "l_trans_bandwidth chosen to be 1.0 Hz\n",
      "h_trans_bandwidth chosen to be 3.8 Hz\n",
      "Filter length of 413 samples (3.304 sec) selected\n"
     ]
    },
    {
     "name": "stderr",
     "output_type": "stream",
     "text": [
      "[Parallel(n_jobs=2)]: Using backend LokyBackend with 2 concurrent workers.\n",
      "[Parallel(n_jobs=2)]: Done  64 out of  64 | elapsed:    0.9s finished\n",
      "INFO:pyeeg.io:Adding feature surprisal\n",
      "INFO:pyeeg.models:Will use lags spanning form tmin to tmax.\n",
      "To use individual lags, use the `times` argument...\n"
     ]
    },
    {
     "name": "stdout",
     "output_type": "stream",
     "text": [
      "\t\t\t\t... AUNP01\n"
     ]
    },
    {
     "name": "stderr",
     "output_type": "stream",
     "text": [
      "INFO:pyeeg.io:Adding feature surprisal\n",
      "INFO:pyeeg.models:Will use lags spanning form tmin to tmax.\n",
      "To use individual lags, use the `times` argument...\n"
     ]
    },
    {
     "name": "stdout",
     "output_type": "stream",
     "text": [
      "\t\t\t\t... AUNP02\n"
     ]
    },
    {
     "name": "stderr",
     "output_type": "stream",
     "text": [
      "INFO:pyeeg.io:Adding feature surprisal\n",
      "INFO:pyeeg.models:Will use lags spanning form tmin to tmax.\n",
      "To use individual lags, use the `times` argument...\n"
     ]
    },
    {
     "name": "stdout",
     "output_type": "stream",
     "text": [
      "\t\t\t\t... AUNP03\n"
     ]
    },
    {
     "name": "stderr",
     "output_type": "stream",
     "text": [
      "INFO:pyeeg.io:Adding feature surprisal\n",
      "INFO:pyeeg.models:Will use lags spanning form tmin to tmax.\n",
      "To use individual lags, use the `times` argument...\n"
     ]
    },
    {
     "name": "stdout",
     "output_type": "stream",
     "text": [
      "\t\t\t\t... AUNP04\n"
     ]
    },
    {
     "name": "stderr",
     "output_type": "stream",
     "text": [
      "INFO:pyeeg.io:Adding feature surprisal\n",
      "INFO:pyeeg.models:Will use lags spanning form tmin to tmax.\n",
      "To use individual lags, use the `times` argument...\n"
     ]
    },
    {
     "name": "stdout",
     "output_type": "stream",
     "text": [
      "\t\t\t\t... AUNP05\n"
     ]
    },
    {
     "name": "stderr",
     "output_type": "stream",
     "text": [
      "INFO:pyeeg.io:Adding feature surprisal\n",
      "INFO:pyeeg.models:Will use lags spanning form tmin to tmax.\n",
      "To use individual lags, use the `times` argument...\n"
     ]
    },
    {
     "name": "stdout",
     "output_type": "stream",
     "text": [
      "\t\t\t\t... AUNP06\n"
     ]
    },
    {
     "name": "stderr",
     "output_type": "stream",
     "text": [
      "INFO:pyeeg.io:Adding feature surprisal\n",
      "INFO:pyeeg.models:Will use lags spanning form tmin to tmax.\n",
      "To use individual lags, use the `times` argument...\n"
     ]
    },
    {
     "name": "stdout",
     "output_type": "stream",
     "text": [
      "\t\t\t\t... AUNP07\n"
     ]
    },
    {
     "name": "stderr",
     "output_type": "stream",
     "text": [
      "INFO:pyeeg.io:Adding feature surprisal\n",
      "INFO:pyeeg.models:Will use lags spanning form tmin to tmax.\n",
      "To use individual lags, use the `times` argument...\n"
     ]
    },
    {
     "name": "stdout",
     "output_type": "stream",
     "text": [
      "\t\t\t\t... AUNP08\n"
     ]
    },
    {
     "name": "stderr",
     "output_type": "stream",
     "text": [
      "INFO:pyeeg.io:Adding feature surprisal\n",
      "INFO:pyeeg.models:Will use lags spanning form tmin to tmax.\n",
      "To use individual lags, use the `times` argument...\n"
     ]
    },
    {
     "name": "stdout",
     "output_type": "stream",
     "text": [
      "\t\t\t\t... BROP01\n"
     ]
    },
    {
     "name": "stderr",
     "output_type": "stream",
     "text": [
      "INFO:pyeeg.io:Adding feature surprisal\n",
      "INFO:pyeeg.models:Will use lags spanning form tmin to tmax.\n",
      "To use individual lags, use the `times` argument...\n"
     ]
    },
    {
     "name": "stdout",
     "output_type": "stream",
     "text": [
      "\t\t\t\t... BROP02\n"
     ]
    },
    {
     "name": "stderr",
     "output_type": "stream",
     "text": [
      "INFO:pyeeg.io:Adding feature surprisal\n",
      "INFO:pyeeg.models:Will use lags spanning form tmin to tmax.\n",
      "To use individual lags, use the `times` argument...\n"
     ]
    },
    {
     "name": "stdout",
     "output_type": "stream",
     "text": [
      "\t\t\t\t... BROP03\n"
     ]
    },
    {
     "name": "stderr",
     "output_type": "stream",
     "text": [
      "INFO:pyeeg.io:Adding feature surprisal\n",
      "INFO:pyeeg.models:Will use lags spanning form tmin to tmax.\n",
      "To use individual lags, use the `times` argument...\n"
     ]
    },
    {
     "name": "stdout",
     "output_type": "stream",
     "text": [
      "\t\t\t\t... FLOP01\n"
     ]
    },
    {
     "name": "stderr",
     "output_type": "stream",
     "text": [
      "INFO:pyeeg.io:Adding feature surprisal\n",
      "INFO:pyeeg.models:Will use lags spanning form tmin to tmax.\n",
      "To use individual lags, use the `times` argument...\n"
     ]
    },
    {
     "name": "stdout",
     "output_type": "stream",
     "text": [
      "\t\t\t\t... FLOP02\n"
     ]
    },
    {
     "name": "stderr",
     "output_type": "stream",
     "text": [
      "INFO:pyeeg.io:Adding feature surprisal\n",
      "INFO:pyeeg.models:Will use lags spanning form tmin to tmax.\n",
      "To use individual lags, use the `times` argument...\n"
     ]
    },
    {
     "name": "stdout",
     "output_type": "stream",
     "text": [
      "\t\t\t\t... FLOP03\n"
     ]
    },
    {
     "name": "stderr",
     "output_type": "stream",
     "text": [
      "INFO:pyeeg.io:Adding feature surprisal\n",
      "INFO:pyeeg.models:Will use lags spanning form tmin to tmax.\n",
      "To use individual lags, use the `times` argument...\n"
     ]
    },
    {
     "name": "stdout",
     "output_type": "stream",
     "text": [
      "\t\t\t\t... FLOP04\n",
      "============================== Processing subject P14_21032017====================\n"
     ]
    },
    {
     "name": "stderr",
     "output_type": "stream",
     "text": [
      "/home/hugo/Work/EEG/pyEEG/pyeeg/io.py:173: DeprecationWarning: stim_channel (default True in 0.17) will change to False in 0.18 and be removed in 0.19, set it to False in 0.17 to avoid this warning\n",
      "  raw = mne.io.read_raw_eeglab(input_fname=fname, montage=montage_mne, event_id=event_id, preload=True)\n"
     ]
    },
    {
     "name": "stdout",
     "output_type": "stream",
     "text": [
      "Used Annotations descriptions: ['boundary', 'S  4', 'story_onset', 'S  8', 'S  3', 'S  1', 'S  2']\n",
      "Setting up band-pass filter from 1 - 15 Hz\n",
      "l_trans_bandwidth chosen to be 1.0 Hz\n",
      "h_trans_bandwidth chosen to be 3.8 Hz\n",
      "Filter length of 413 samples (3.304 sec) selected\n"
     ]
    },
    {
     "name": "stderr",
     "output_type": "stream",
     "text": [
      "[Parallel(n_jobs=2)]: Using backend LokyBackend with 2 concurrent workers.\n",
      "[Parallel(n_jobs=2)]: Done  64 out of  64 | elapsed:    0.9s finished\n",
      "INFO:pyeeg.io:Adding feature surprisal\n",
      "INFO:pyeeg.models:Will use lags spanning form tmin to tmax.\n",
      "To use individual lags, use the `times` argument...\n"
     ]
    },
    {
     "name": "stdout",
     "output_type": "stream",
     "text": [
      "\t\t\t\t... AUNP01\n"
     ]
    },
    {
     "name": "stderr",
     "output_type": "stream",
     "text": [
      "INFO:pyeeg.io:Adding feature surprisal\n",
      "INFO:pyeeg.models:Will use lags spanning form tmin to tmax.\n",
      "To use individual lags, use the `times` argument...\n"
     ]
    },
    {
     "name": "stdout",
     "output_type": "stream",
     "text": [
      "\t\t\t\t... AUNP02\n"
     ]
    },
    {
     "name": "stderr",
     "output_type": "stream",
     "text": [
      "INFO:pyeeg.io:Adding feature surprisal\n",
      "INFO:pyeeg.models:Will use lags spanning form tmin to tmax.\n",
      "To use individual lags, use the `times` argument...\n"
     ]
    },
    {
     "name": "stdout",
     "output_type": "stream",
     "text": [
      "\t\t\t\t... AUNP03\n"
     ]
    },
    {
     "name": "stderr",
     "output_type": "stream",
     "text": [
      "INFO:pyeeg.io:Adding feature surprisal\n",
      "INFO:pyeeg.models:Will use lags spanning form tmin to tmax.\n",
      "To use individual lags, use the `times` argument...\n"
     ]
    },
    {
     "name": "stdout",
     "output_type": "stream",
     "text": [
      "\t\t\t\t... AUNP04\n"
     ]
    },
    {
     "name": "stderr",
     "output_type": "stream",
     "text": [
      "INFO:pyeeg.io:Adding feature surprisal\n",
      "INFO:pyeeg.models:Will use lags spanning form tmin to tmax.\n",
      "To use individual lags, use the `times` argument...\n"
     ]
    },
    {
     "name": "stdout",
     "output_type": "stream",
     "text": [
      "\t\t\t\t... AUNP05\n"
     ]
    },
    {
     "name": "stderr",
     "output_type": "stream",
     "text": [
      "INFO:pyeeg.io:Adding feature surprisal\n",
      "INFO:pyeeg.models:Will use lags spanning form tmin to tmax.\n",
      "To use individual lags, use the `times` argument...\n"
     ]
    },
    {
     "name": "stdout",
     "output_type": "stream",
     "text": [
      "\t\t\t\t... AUNP06\n"
     ]
    },
    {
     "name": "stderr",
     "output_type": "stream",
     "text": [
      "INFO:pyeeg.io:Adding feature surprisal\n",
      "INFO:pyeeg.models:Will use lags spanning form tmin to tmax.\n",
      "To use individual lags, use the `times` argument...\n"
     ]
    },
    {
     "name": "stdout",
     "output_type": "stream",
     "text": [
      "\t\t\t\t... AUNP07\n"
     ]
    },
    {
     "name": "stderr",
     "output_type": "stream",
     "text": [
      "INFO:pyeeg.io:Adding feature surprisal\n",
      "INFO:pyeeg.models:Will use lags spanning form tmin to tmax.\n",
      "To use individual lags, use the `times` argument...\n"
     ]
    },
    {
     "name": "stdout",
     "output_type": "stream",
     "text": [
      "\t\t\t\t... AUNP08\n"
     ]
    },
    {
     "name": "stderr",
     "output_type": "stream",
     "text": [
      "INFO:pyeeg.io:Adding feature surprisal\n",
      "INFO:pyeeg.models:Will use lags spanning form tmin to tmax.\n",
      "To use individual lags, use the `times` argument...\n"
     ]
    },
    {
     "name": "stdout",
     "output_type": "stream",
     "text": [
      "\t\t\t\t... BROP01\n"
     ]
    },
    {
     "name": "stderr",
     "output_type": "stream",
     "text": [
      "INFO:pyeeg.io:Adding feature surprisal\n",
      "INFO:pyeeg.models:Will use lags spanning form tmin to tmax.\n",
      "To use individual lags, use the `times` argument...\n"
     ]
    },
    {
     "name": "stdout",
     "output_type": "stream",
     "text": [
      "\t\t\t\t... BROP02\n"
     ]
    },
    {
     "name": "stderr",
     "output_type": "stream",
     "text": [
      "INFO:pyeeg.io:Adding feature surprisal\n",
      "INFO:pyeeg.models:Will use lags spanning form tmin to tmax.\n",
      "To use individual lags, use the `times` argument...\n"
     ]
    },
    {
     "name": "stdout",
     "output_type": "stream",
     "text": [
      "\t\t\t\t... BROP03\n"
     ]
    },
    {
     "name": "stderr",
     "output_type": "stream",
     "text": [
      "INFO:pyeeg.io:Adding feature surprisal\n",
      "INFO:pyeeg.models:Will use lags spanning form tmin to tmax.\n",
      "To use individual lags, use the `times` argument...\n"
     ]
    },
    {
     "name": "stdout",
     "output_type": "stream",
     "text": [
      "\t\t\t\t... FLOP01\n"
     ]
    },
    {
     "name": "stderr",
     "output_type": "stream",
     "text": [
      "INFO:pyeeg.io:Adding feature surprisal\n",
      "INFO:pyeeg.models:Will use lags spanning form tmin to tmax.\n",
      "To use individual lags, use the `times` argument...\n"
     ]
    },
    {
     "name": "stdout",
     "output_type": "stream",
     "text": [
      "\t\t\t\t... FLOP02\n"
     ]
    },
    {
     "name": "stderr",
     "output_type": "stream",
     "text": [
      "INFO:pyeeg.io:Adding feature surprisal\n",
      "INFO:pyeeg.models:Will use lags spanning form tmin to tmax.\n",
      "To use individual lags, use the `times` argument...\n"
     ]
    },
    {
     "name": "stdout",
     "output_type": "stream",
     "text": [
      "\t\t\t\t... FLOP03\n"
     ]
    },
    {
     "name": "stderr",
     "output_type": "stream",
     "text": [
      "INFO:pyeeg.io:Adding feature surprisal\n",
      "INFO:pyeeg.models:Will use lags spanning form tmin to tmax.\n",
      "To use individual lags, use the `times` argument...\n"
     ]
    },
    {
     "name": "stdout",
     "output_type": "stream",
     "text": [
      "\t\t\t\t... FLOP04\n"
     ]
    }
   ],
   "source": [
    "coefs = []\n",
    "\n",
    "# Loop over subject\n",
    "for subj_id, subj in enumerate(list_subjects):\n",
    "    print(\"=\"*30 + \" Processing subject %s\"%(subj) + \"=\" * 20)\n",
    "    eeg_fname = [f for f in os.listdir(os.path.join(eeg_path, list_subjects[subj_id])) if f.endswith('.set')][0]\n",
    "    \n",
    "    # Import and process EEG:\n",
    "    raw = eeglab2mne(os.path.join(eeg_path, list_subjects[subj_id], eeg_fname), load_ica=False, event_id=event_id)\n",
    "    raw.pick_types(eeg=True)\n",
    "    raw = raw.filter(1, 15, n_jobs=2)\n",
    "    y = raw.get_data()\n",
    "    \n",
    "    # Loop over stories\n",
    "    for story_id, story in enumerate(list_stories):\n",
    "        print(\"\\t\"*4 + \"... %s\"%(story))\n",
    "        wo_path = os.path.join(wordfreq_path, list_wordfreq_files[story_id])\n",
    "        duration_path = os.path.join(env_path, list_env_files[story_id])\n",
    "        surp_path = os.path.join(surprisal_path, list_surprisal_files[story_id])\n",
    "\n",
    "        # Create word-level feature object:\n",
    "        wf = WordLevelFeatures(path_praat_env=duration_path, path_wordonsets=wo_path, path_surprisal=surp_path)\n",
    "        # Creating feature matrix\n",
    "        x = wf.align_word_features(srate=raw.info['sfreq'], features=('surprisal',))\n",
    "        indices = wf.samples_from_onset(onsets[subj_id, story_id], srate=raw.info['sfreq'])\n",
    "        \n",
    "        # Perform the fit:\n",
    "        trf = TRFEstimator(tmin=-0.6, tmax=0.8, srate=raw.info['sfreq'], alpha=reg_param)\n",
    "        trf.fit(x, y[:, indices].T, feat_names=[\"Word Onsets\", \"Surprisal\"])\n",
    "        \n",
    "        coefs.append(trf.coef_)"
   ]
  },
  {
   "cell_type": "code",
   "execution_count": 44,
   "metadata": {},
   "outputs": [
    {
     "data": {
      "image/png": "[encoded data removed]",
      "text/plain": [
       "<Figure size 1008x432 with 2 Axes>"
      ]
     },
     "metadata": {},
     "output_type": "display_data"
    }
   ],
   "source": [
    "# Average and plug the resulting coef in trf instance for easy plotting\n",
    "coef_avg = np.mean(np.asarray(coefs), axis=0)\n",
    "trf.coef_ = coef_avg\n",
    "\n",
    "trf.plot_single_feature(feat_id=[0,1], figsize=(14,6))"
   ]
  },
  {
   "cell_type": "markdown",
   "metadata": {},
   "source": [
    "## Compute one _big_ model\n",
    "\n",
    "Now, instead of computing a model for each story and each participants, we will compute one _grand_ model trained on the concatenation of all data.\n",
    "\n",
    "**But...**\n",
    "This is very greedy in memory. Indeed, storing all the EEG data results in a matrix of roughly 2Gb, then the matrix of features, for two features is approximately 100mb, which then results in a design matrix (i.e. time-lagged version of the features) of 12Gb. The latter is then used in different computation, svd or least-square esitmation, which may involve another copy of the matrix... Hence the memory usage can reach a total of 26Gb!!\n",
    "\n",
    "However it will give a more robust estimate of the TRFs. Fortunately, the implementation of our TRF estimator, allows for a memory-efficient way to compute the coefficient.\n",
    "\n",
    "The trick used is to accumulate the covariance and cross-covariance matrices used to compute the pseudo-inverse to fit the model. Thus we cut the bulk of the computation (SVD computation) in smaller pieces. Also it can be noted that since the target is always the same (word from stories, similar across participants) the concatenated word-level features can be stored only once and reused to compute the other matrices."
   ]
  },
  {
   "cell_type": "code",
   "execution_count": 52,
   "metadata": {},
   "outputs": [
    {
     "name": "stderr",
     "output_type": "stream",
     "text": [
      "INFO:pyeeg.io:Adding feature surprisal\n",
      "INFO:pyeeg.io:Adding feature surprisal\n",
      "INFO:pyeeg.io:Adding feature surprisal\n",
      "INFO:pyeeg.io:Adding feature surprisal\n",
      "INFO:pyeeg.io:Adding feature surprisal\n",
      "INFO:pyeeg.io:Adding feature surprisal\n",
      "INFO:pyeeg.io:Adding feature surprisal\n",
      "INFO:pyeeg.io:Adding feature surprisal\n",
      "INFO:pyeeg.io:Adding feature surprisal\n",
      "INFO:pyeeg.io:Adding feature surprisal\n",
      "INFO:pyeeg.io:Adding feature surprisal\n",
      "INFO:pyeeg.io:Adding feature surprisal\n",
      "INFO:pyeeg.io:Adding feature surprisal\n",
      "INFO:pyeeg.io:Adding feature surprisal\n",
      "INFO:pyeeg.io:Adding feature surprisal\n"
     ]
    },
    {
     "name": "stdout",
     "output_type": "stream",
     "text": [
      "Loading story's word features for ... AUNP01\n",
      "Loading story's word features for ... AUNP02\n",
      "Loading story's word features for ... AUNP03\n",
      "Loading story's word features for ... AUNP04\n",
      "Loading story's word features for ... AUNP05\n",
      "Loading story's word features for ... AUNP06\n",
      "Loading story's word features for ... AUNP07\n",
      "Loading story's word features for ... AUNP08\n",
      "Loading story's word features for ... BROP01\n",
      "Loading story's word features for ... BROP02\n",
      "Loading story's word features for ... BROP03\n",
      "Loading story's word features for ... FLOP01\n",
      "Loading story's word features for ... FLOP02\n",
      "Loading story's word features for ... FLOP03\n",
      "Loading story's word features for ... FLOP04\n"
     ]
    }
   ],
   "source": [
    "# Loop over stories to get a big concatenation of each story's word features\n",
    "X = []\n",
    "wf = {} # make a dictionnary of those, keys are story id\n",
    "for story_id, story in enumerate(list_stories):\n",
    "    print(\"Loading story's word features for ... %s\"%(story))\n",
    "    wo_path = os.path.join(wordfreq_path, list_wordfreq_files[story_id])\n",
    "    duration_path = os.path.join(env_path, list_env_files[story_id])\n",
    "    surp_path = os.path.join(surprisal_path, list_surprisal_files[story_id])\n",
    "\n",
    "    # Create word-level feature object:\n",
    "    wf[story] = WordLevelFeatures(path_praat_env=duration_path, path_wordonsets=wo_path, path_surprisal=surp_path)\n",
    "    X.append(wf[story].align_word_features(srate=raw.info['sfreq'], features=('surprisal',)))    \n",
    "    \n",
    "X = np.concatenate(X)"
   ]
  },
  {
   "cell_type": "code",
   "execution_count": 82,
   "metadata": {},
   "outputs": [
    {
     "name": "stdout",
     "output_type": "stream",
     "text": [
      "Variable               Type                          Data/Info\n",
      "--------------------------------------------------------------\n",
      "NamespaceMagics        MetaHasTraits                 <class 'IPython.core.magi<...>mespace.NamespaceMagics'>\n",
      "QFileDialog            wrappertype                   <class 'PyQt5.QtWidgets.QFileDialog'>\n",
      "TRFEstimator           type                          <class 'pyeeg.models.TRFEstimator'>\n",
      "WordLevelFeatures      type                          <class 'pyeeg.io.WordLevelFeatures'>\n",
      "coef_avg               ndarray                       175x2x64: 22400 elems, type `float64`, 179200 bytes (175.0 kb)\n",
      "coefs                  list                          n=195\n",
      "duration_path          str                           /media/hugo/Storage/data_<...>a/FLOP04/FLOP04_125Hz.Env\n",
      "eeg_fname              str                           Fs-125-AllChannels-interp<...>_pruned-P14_21032017_.set\n",
      "eeg_path               str                           /media/hugo/Storage/data_<...>d/BP-0.3-65/Blink_pruned/\n",
      "eeglab2mne             function                      <function eeglab2mne at 0x7f11d3b25d90>\n",
      "env_path               str                           /media/hugo/Storage/data_<...>ry_parts/alignement_data/\n",
      "event_id               dict                          n=2\n",
      "experiment_path        str                           /media/hugo/Storage/data_<...>/Hugo/Katerina_experiment\n",
      "get_ipython            function                      <function get_ipython at 0x7f1204f4ad08>\n",
      "getsizeof              builtin_function_or_method    <built-in function getsizeof>\n",
      "gui_fname              function                      <function gui_fname at 0x7f11d3ab3378>\n",
      "indices                ndarray                       297786: 297786 elems, type `int64`, 2382288 bytes (2.2719268798828125 Mb)\n",
      "json                   module                        <module 'json' from '/hom<...>hon3.6/json/__init__.py'>\n",
      "l                      list                          n=15\n",
      "list_env_files         list                          n=15\n",
      "list_stories           list                          n=15\n",
      "list_subjects          list                          n=13\n",
      "list_surprisal_files   list                          n=15\n",
      "list_wordfreq_files    list                          n=15\n",
      "loadmat                function                      <function loadmat at 0x7f11d6b1cbf8>\n",
      "np                     module                        <module 'numpy' from '/ho<...>kages/numpy/__init__.py'>\n",
      "onset_path             str                           ./all_katerina_onsets.mat\n",
      "onsets                 ndarray                       13x15: 195 elems, type `float64`, 1560 bytes\n",
      "os                     module                        <module 'os' from '/home/<...>y36/lib/python3.6/os.py'>\n",
      "plt                    module                        <module 'matplotlib.pyplo<...>es/matplotlib/pyplot.py'>\n",
      "raw                    RawEEGLAB                     <RawEEGLAB  |  Fs-125-All<...>, ~173.3 MB, data loaded>\n",
      "reg_param              float                         0.0\n",
      "stim_path              str                           /media/hugo/Storage/data_<...>na_experiment/story_parts\n",
      "story                  str                           FLOP04\n",
      "story_id               int                           14\n",
      "subj                   str                           P14_21032017\n",
      "subj_id                int                           12\n",
      "surp_path              str                           /media/hugo/Storage/data_<...>rprisal/FLOP04_probs3.txt\n",
      "surprisal_path         str                           /media/hugo/Storage/data_<...>nt/story_parts/surprisal/\n",
      "trf                    TRFEstimator                  TRFEstimator(alpha=0.0, f<...>=None,\\n       tmin=None)\n",
      "var_dic_list           function                      <function var_dic_list at 0x7f11f823d0d0>\n",
      "wf                     dict                          n=15\n",
      "wo_path                str                           /media/hugo/Storage/data_<...>LOP04_word_freq_timed.csv\n",
      "wordfreq_path          str                           /media/hugo/Storage/data_<...>y_parts/word_frequencies/\n"
     ]
    }
   ],
   "source": [
    "%whos"
   ]
  },
  {
   "cell_type": "code",
   "execution_count": 74,
   "metadata": {},
   "outputs": [
    {
     "name": "stderr",
     "output_type": "stream",
     "text": [
      "INFO:pyeeg.models:Will use lags spanning form tmin to tmax.\n",
      "To use individual lags, use the `times` argument...\n"
     ]
    },
    {
     "ename": "MemoryError",
     "evalue": "",
     "output_type": "error",
     "traceback": [
      "\u001b[0;31m---------------------------------------------------------------------------\u001b[0m",
      "\u001b[0;31mMemoryError\u001b[0m                               Traceback (most recent call last)",
      "\u001b[0;32m<ipython-input-74-27ca6f83364f>\u001b[0m in \u001b[0;36m<module>\u001b[0;34m()\u001b[0m\n\u001b[1;32m      1\u001b[0m \u001b[0;31m# Perform the fit:\u001b[0m\u001b[0;34m\u001b[0m\u001b[0;34m\u001b[0m\u001b[0;34m\u001b[0m\u001b[0m\n\u001b[1;32m      2\u001b[0m \u001b[0mtrf\u001b[0m \u001b[0;34m=\u001b[0m \u001b[0mTRFEstimator\u001b[0m\u001b[0;34m(\u001b[0m\u001b[0mtmin\u001b[0m\u001b[0;34m=\u001b[0m\u001b[0;34m-\u001b[0m\u001b[0;36m0.6\u001b[0m\u001b[0;34m,\u001b[0m \u001b[0mtmax\u001b[0m\u001b[0;34m=\u001b[0m\u001b[0;36m0.8\u001b[0m\u001b[0;34m,\u001b[0m \u001b[0msrate\u001b[0m\u001b[0;34m=\u001b[0m\u001b[0mraw\u001b[0m\u001b[0;34m.\u001b[0m\u001b[0minfo\u001b[0m\u001b[0;34m[\u001b[0m\u001b[0;34m'sfreq'\u001b[0m\u001b[0;34m]\u001b[0m\u001b[0;34m,\u001b[0m \u001b[0malpha\u001b[0m\u001b[0;34m=\u001b[0m\u001b[0mreg_param\u001b[0m\u001b[0;34m)\u001b[0m\u001b[0;34m\u001b[0m\u001b[0;34m\u001b[0m\u001b[0m\n\u001b[0;32m----> 3\u001b[0;31m \u001b[0mtrf\u001b[0m\u001b[0;34m.\u001b[0m\u001b[0mfit\u001b[0m\u001b[0;34m(\u001b[0m\u001b[0mX\u001b[0m\u001b[0;34m.\u001b[0m\u001b[0mrepeat\u001b[0m\u001b[0;34m(\u001b[0m\u001b[0mlen\u001b[0m\u001b[0;34m(\u001b[0m\u001b[0mlist_subjects\u001b[0m\u001b[0;34m)\u001b[0m\u001b[0;34m,\u001b[0m \u001b[0maxis\u001b[0m\u001b[0;34m=\u001b[0m\u001b[0;36m0\u001b[0m\u001b[0;34m)\u001b[0m\u001b[0;34m,\u001b[0m \u001b[0mY\u001b[0m\u001b[0;34m,\u001b[0m \u001b[0mfeat_names\u001b[0m\u001b[0;34m=\u001b[0m\u001b[0;34m[\u001b[0m\u001b[0;34m\"Word Onsets\"\u001b[0m\u001b[0;34m,\u001b[0m \u001b[0;34m\"Surprisal\"\u001b[0m\u001b[0;34m]\u001b[0m\u001b[0;34m)\u001b[0m\u001b[0;34m\u001b[0m\u001b[0;34m\u001b[0m\u001b[0m\n\u001b[0m",
      "\u001b[0;32m~/Work/EEG/pyEEG/pyeeg/models.py\u001b[0m in \u001b[0;36mfit\u001b[0;34m(self, X, y, drop, feat_names)\u001b[0m\n\u001b[1;32m    157\u001b[0m         \u001b[0;31m# Creating lag-matrix droping NaN values if necessary\u001b[0m\u001b[0;34m\u001b[0m\u001b[0;34m\u001b[0m\u001b[0;34m\u001b[0m\u001b[0m\n\u001b[1;32m    158\u001b[0m         \u001b[0;32mif\u001b[0m \u001b[0mdrop\u001b[0m\u001b[0;34m:\u001b[0m\u001b[0;34m\u001b[0m\u001b[0;34m\u001b[0m\u001b[0m\n\u001b[0;32m--> 159\u001b[0;31m             \u001b[0mX\u001b[0m \u001b[0;34m=\u001b[0m \u001b[0mlag_matrix\u001b[0m\u001b[0;34m(\u001b[0m\u001b[0mX\u001b[0m\u001b[0;34m,\u001b[0m \u001b[0mlag_samples\u001b[0m\u001b[0;34m=\u001b[0m\u001b[0mself\u001b[0m\u001b[0;34m.\u001b[0m\u001b[0mlags\u001b[0m\u001b[0;34m,\u001b[0m \u001b[0mdrop_missing\u001b[0m\u001b[0;34m=\u001b[0m\u001b[0;32mTrue\u001b[0m\u001b[0;34m)\u001b[0m\u001b[0;34m\u001b[0m\u001b[0;34m\u001b[0m\u001b[0m\n\u001b[0m\u001b[1;32m    160\u001b[0m \u001b[0;34m\u001b[0m\u001b[0m\n\u001b[1;32m    161\u001b[0m             \u001b[0;31m# Droping rows of NaN values in y\u001b[0m\u001b[0;34m\u001b[0m\u001b[0;34m\u001b[0m\u001b[0;34m\u001b[0m\u001b[0m\n",
      "\u001b[0;32m~/Work/EEG/pyEEG/pyeeg/utils.py\u001b[0m in \u001b[0;36mlag_matrix\u001b[0;34m(data, lag_samples, filling, drop_missing)\u001b[0m\n\u001b[1;32m     64\u001b[0m \u001b[0;34m\u001b[0m\u001b[0m\n\u001b[1;32m     65\u001b[0m     \u001b[0mdframe\u001b[0m \u001b[0;34m=\u001b[0m \u001b[0mpd\u001b[0m\u001b[0;34m.\u001b[0m\u001b[0mconcat\u001b[0m\u001b[0;34m(\u001b[0m\u001b[0mcols\u001b[0m\u001b[0;34m,\u001b[0m \u001b[0maxis\u001b[0m\u001b[0;34m=\u001b[0m\u001b[0;36m1\u001b[0m\u001b[0;34m)\u001b[0m\u001b[0;34m\u001b[0m\u001b[0;34m\u001b[0m\u001b[0m\n\u001b[0;32m---> 66\u001b[0;31m     \u001b[0mdframe\u001b[0m\u001b[0;34m.\u001b[0m\u001b[0mfillna\u001b[0m\u001b[0;34m(\u001b[0m\u001b[0mfilling\u001b[0m\u001b[0;34m,\u001b[0m \u001b[0minplace\u001b[0m\u001b[0;34m=\u001b[0m\u001b[0;32mTrue\u001b[0m\u001b[0;34m)\u001b[0m\u001b[0;34m\u001b[0m\u001b[0;34m\u001b[0m\u001b[0m\n\u001b[0m\u001b[1;32m     67\u001b[0m     \u001b[0;32mif\u001b[0m \u001b[0mdrop_missing\u001b[0m\u001b[0;34m:\u001b[0m\u001b[0;34m\u001b[0m\u001b[0;34m\u001b[0m\u001b[0m\n\u001b[1;32m     68\u001b[0m         \u001b[0mdframe\u001b[0m\u001b[0;34m.\u001b[0m\u001b[0mdropna\u001b[0m\u001b[0;34m(\u001b[0m\u001b[0minplace\u001b[0m\u001b[0;34m=\u001b[0m\u001b[0;32mTrue\u001b[0m\u001b[0;34m)\u001b[0m\u001b[0;34m\u001b[0m\u001b[0;34m\u001b[0m\u001b[0m\n",
      "\u001b[0;32m~/anaconda2/envs/py36/lib/python3.6/site-packages/pandas/core/frame.py\u001b[0m in \u001b[0;36mfillna\u001b[0;34m(self, value, method, axis, inplace, limit, downcast, **kwargs)\u001b[0m\n\u001b[1;32m   4022\u001b[0m                      \u001b[0mself\u001b[0m\u001b[0;34m)\u001b[0m\u001b[0;34m.\u001b[0m\u001b[0mfillna\u001b[0m\u001b[0;34m(\u001b[0m\u001b[0mvalue\u001b[0m\u001b[0;34m=\u001b[0m\u001b[0mvalue\u001b[0m\u001b[0;34m,\u001b[0m \u001b[0mmethod\u001b[0m\u001b[0;34m=\u001b[0m\u001b[0mmethod\u001b[0m\u001b[0;34m,\u001b[0m \u001b[0maxis\u001b[0m\u001b[0;34m=\u001b[0m\u001b[0maxis\u001b[0m\u001b[0;34m,\u001b[0m\u001b[0;34m\u001b[0m\u001b[0;34m\u001b[0m\u001b[0m\n\u001b[1;32m   4023\u001b[0m                                   \u001b[0minplace\u001b[0m\u001b[0;34m=\u001b[0m\u001b[0minplace\u001b[0m\u001b[0;34m,\u001b[0m \u001b[0mlimit\u001b[0m\u001b[0;34m=\u001b[0m\u001b[0mlimit\u001b[0m\u001b[0;34m,\u001b[0m\u001b[0;34m\u001b[0m\u001b[0;34m\u001b[0m\u001b[0m\n\u001b[0;32m-> 4024\u001b[0;31m                                   downcast=downcast, **kwargs)\n\u001b[0m\u001b[1;32m   4025\u001b[0m \u001b[0;34m\u001b[0m\u001b[0m\n\u001b[1;32m   4026\u001b[0m     \u001b[0;34m@\u001b[0m\u001b[0mAppender\u001b[0m\u001b[0;34m(\u001b[0m\u001b[0m_shared_docs\u001b[0m\u001b[0;34m[\u001b[0m\u001b[0;34m'replace'\u001b[0m\u001b[0;34m]\u001b[0m \u001b[0;34m%\u001b[0m \u001b[0m_shared_doc_kwargs\u001b[0m\u001b[0;34m)\u001b[0m\u001b[0;34m\u001b[0m\u001b[0;34m\u001b[0m\u001b[0m\n",
      "\u001b[0;32m~/anaconda2/envs/py36/lib/python3.6/site-packages/pandas/core/generic.py\u001b[0m in \u001b[0;36mfillna\u001b[0;34m(self, value, method, axis, inplace, limit, downcast)\u001b[0m\n\u001b[1;32m   6034\u001b[0m         \u001b[0mvalue\u001b[0m\u001b[0;34m,\u001b[0m \u001b[0mmethod\u001b[0m \u001b[0;34m=\u001b[0m \u001b[0mvalidate_fillna_kwargs\u001b[0m\u001b[0;34m(\u001b[0m\u001b[0mvalue\u001b[0m\u001b[0;34m,\u001b[0m \u001b[0mmethod\u001b[0m\u001b[0;34m)\u001b[0m\u001b[0;34m\u001b[0m\u001b[0;34m\u001b[0m\u001b[0m\n\u001b[1;32m   6035\u001b[0m \u001b[0;34m\u001b[0m\u001b[0m\n\u001b[0;32m-> 6036\u001b[0;31m         \u001b[0mself\u001b[0m\u001b[0;34m.\u001b[0m\u001b[0m_consolidate_inplace\u001b[0m\u001b[0;34m(\u001b[0m\u001b[0;34m)\u001b[0m\u001b[0;34m\u001b[0m\u001b[0;34m\u001b[0m\u001b[0m\n\u001b[0m\u001b[1;32m   6037\u001b[0m \u001b[0;34m\u001b[0m\u001b[0m\n\u001b[1;32m   6038\u001b[0m         \u001b[0;31m# set the default here, so functions examining the signaure\u001b[0m\u001b[0;34m\u001b[0m\u001b[0;34m\u001b[0m\u001b[0;34m\u001b[0m\u001b[0m\n",
      "\u001b[0;32m~/anaconda2/envs/py36/lib/python3.6/site-packages/pandas/core/generic.py\u001b[0m in \u001b[0;36m_consolidate_inplace\u001b[0;34m(self)\u001b[0m\n\u001b[1;32m   5126\u001b[0m             \u001b[0mself\u001b[0m\u001b[0;34m.\u001b[0m\u001b[0m_data\u001b[0m \u001b[0;34m=\u001b[0m \u001b[0mself\u001b[0m\u001b[0;34m.\u001b[0m\u001b[0m_data\u001b[0m\u001b[0;34m.\u001b[0m\u001b[0mconsolidate\u001b[0m\u001b[0;34m(\u001b[0m\u001b[0;34m)\u001b[0m\u001b[0;34m\u001b[0m\u001b[0;34m\u001b[0m\u001b[0m\n\u001b[1;32m   5127\u001b[0m \u001b[0;34m\u001b[0m\u001b[0m\n\u001b[0;32m-> 5128\u001b[0;31m         \u001b[0mself\u001b[0m\u001b[0;34m.\u001b[0m\u001b[0m_protect_consolidate\u001b[0m\u001b[0;34m(\u001b[0m\u001b[0mf\u001b[0m\u001b[0;34m)\u001b[0m\u001b[0;34m\u001b[0m\u001b[0;34m\u001b[0m\u001b[0m\n\u001b[0m\u001b[1;32m   5129\u001b[0m \u001b[0;34m\u001b[0m\u001b[0m\n\u001b[1;32m   5130\u001b[0m     \u001b[0;32mdef\u001b[0m \u001b[0m_consolidate\u001b[0m\u001b[0;34m(\u001b[0m\u001b[0mself\u001b[0m\u001b[0;34m,\u001b[0m \u001b[0minplace\u001b[0m\u001b[0;34m=\u001b[0m\u001b[0;32mFalse\u001b[0m\u001b[0;34m)\u001b[0m\u001b[0;34m:\u001b[0m\u001b[0;34m\u001b[0m\u001b[0;34m\u001b[0m\u001b[0m\n",
      "\u001b[0;32m~/anaconda2/envs/py36/lib/python3.6/site-packages/pandas/core/generic.py\u001b[0m in \u001b[0;36m_protect_consolidate\u001b[0;34m(self, f)\u001b[0m\n\u001b[1;32m   5115\u001b[0m         \"\"\"\n\u001b[1;32m   5116\u001b[0m         \u001b[0mblocks_before\u001b[0m \u001b[0;34m=\u001b[0m \u001b[0mlen\u001b[0m\u001b[0;34m(\u001b[0m\u001b[0mself\u001b[0m\u001b[0;34m.\u001b[0m\u001b[0m_data\u001b[0m\u001b[0;34m.\u001b[0m\u001b[0mblocks\u001b[0m\u001b[0;34m)\u001b[0m\u001b[0;34m\u001b[0m\u001b[0;34m\u001b[0m\u001b[0m\n\u001b[0;32m-> 5117\u001b[0;31m         \u001b[0mresult\u001b[0m \u001b[0;34m=\u001b[0m \u001b[0mf\u001b[0m\u001b[0;34m(\u001b[0m\u001b[0;34m)\u001b[0m\u001b[0;34m\u001b[0m\u001b[0;34m\u001b[0m\u001b[0m\n\u001b[0m\u001b[1;32m   5118\u001b[0m         \u001b[0;32mif\u001b[0m \u001b[0mlen\u001b[0m\u001b[0;34m(\u001b[0m\u001b[0mself\u001b[0m\u001b[0;34m.\u001b[0m\u001b[0m_data\u001b[0m\u001b[0;34m.\u001b[0m\u001b[0mblocks\u001b[0m\u001b[0;34m)\u001b[0m \u001b[0;34m!=\u001b[0m \u001b[0mblocks_before\u001b[0m\u001b[0;34m:\u001b[0m\u001b[0;34m\u001b[0m\u001b[0;34m\u001b[0m\u001b[0m\n\u001b[1;32m   5119\u001b[0m             \u001b[0mself\u001b[0m\u001b[0;34m.\u001b[0m\u001b[0m_clear_item_cache\u001b[0m\u001b[0;34m(\u001b[0m\u001b[0;34m)\u001b[0m\u001b[0;34m\u001b[0m\u001b[0;34m\u001b[0m\u001b[0m\n",
      "\u001b[0;32m~/anaconda2/envs/py36/lib/python3.6/site-packages/pandas/core/generic.py\u001b[0m in \u001b[0;36mf\u001b[0;34m()\u001b[0m\n\u001b[1;32m   5124\u001b[0m \u001b[0;34m\u001b[0m\u001b[0m\n\u001b[1;32m   5125\u001b[0m         \u001b[0;32mdef\u001b[0m \u001b[0mf\u001b[0m\u001b[0;34m(\u001b[0m\u001b[0;34m)\u001b[0m\u001b[0;34m:\u001b[0m\u001b[0;34m\u001b[0m\u001b[0;34m\u001b[0m\u001b[0m\n\u001b[0;32m-> 5126\u001b[0;31m             \u001b[0mself\u001b[0m\u001b[0;34m.\u001b[0m\u001b[0m_data\u001b[0m \u001b[0;34m=\u001b[0m \u001b[0mself\u001b[0m\u001b[0;34m.\u001b[0m\u001b[0m_data\u001b[0m\u001b[0;34m.\u001b[0m\u001b[0mconsolidate\u001b[0m\u001b[0;34m(\u001b[0m\u001b[0;34m)\u001b[0m\u001b[0;34m\u001b[0m\u001b[0;34m\u001b[0m\u001b[0m\n\u001b[0m\u001b[1;32m   5127\u001b[0m \u001b[0;34m\u001b[0m\u001b[0m\n\u001b[1;32m   5128\u001b[0m         \u001b[0mself\u001b[0m\u001b[0;34m.\u001b[0m\u001b[0m_protect_consolidate\u001b[0m\u001b[0;34m(\u001b[0m\u001b[0mf\u001b[0m\u001b[0;34m)\u001b[0m\u001b[0;34m\u001b[0m\u001b[0;34m\u001b[0m\u001b[0m\n",
      "\u001b[0;32m~/anaconda2/envs/py36/lib/python3.6/site-packages/pandas/core/internals/managers.py\u001b[0m in \u001b[0;36mconsolidate\u001b[0;34m(self)\u001b[0m\n\u001b[1;32m    922\u001b[0m         \u001b[0mbm\u001b[0m \u001b[0;34m=\u001b[0m \u001b[0mself\u001b[0m\u001b[0;34m.\u001b[0m\u001b[0m__class__\u001b[0m\u001b[0;34m(\u001b[0m\u001b[0mself\u001b[0m\u001b[0;34m.\u001b[0m\u001b[0mblocks\u001b[0m\u001b[0;34m,\u001b[0m \u001b[0mself\u001b[0m\u001b[0;34m.\u001b[0m\u001b[0maxes\u001b[0m\u001b[0;34m)\u001b[0m\u001b[0;34m\u001b[0m\u001b[0;34m\u001b[0m\u001b[0m\n\u001b[1;32m    923\u001b[0m         \u001b[0mbm\u001b[0m\u001b[0;34m.\u001b[0m\u001b[0m_is_consolidated\u001b[0m \u001b[0;34m=\u001b[0m \u001b[0;32mFalse\u001b[0m\u001b[0;34m\u001b[0m\u001b[0;34m\u001b[0m\u001b[0m\n\u001b[0;32m--> 924\u001b[0;31m         \u001b[0mbm\u001b[0m\u001b[0;34m.\u001b[0m\u001b[0m_consolidate_inplace\u001b[0m\u001b[0;34m(\u001b[0m\u001b[0;34m)\u001b[0m\u001b[0;34m\u001b[0m\u001b[0;34m\u001b[0m\u001b[0m\n\u001b[0m\u001b[1;32m    925\u001b[0m         \u001b[0;32mreturn\u001b[0m \u001b[0mbm\u001b[0m\u001b[0;34m\u001b[0m\u001b[0;34m\u001b[0m\u001b[0m\n\u001b[1;32m    926\u001b[0m \u001b[0;34m\u001b[0m\u001b[0m\n",
      "\u001b[0;32m~/anaconda2/envs/py36/lib/python3.6/site-packages/pandas/core/internals/managers.py\u001b[0m in \u001b[0;36m_consolidate_inplace\u001b[0;34m(self)\u001b[0m\n\u001b[1;32m    927\u001b[0m     \u001b[0;32mdef\u001b[0m \u001b[0m_consolidate_inplace\u001b[0m\u001b[0;34m(\u001b[0m\u001b[0mself\u001b[0m\u001b[0;34m)\u001b[0m\u001b[0;34m:\u001b[0m\u001b[0;34m\u001b[0m\u001b[0;34m\u001b[0m\u001b[0m\n\u001b[1;32m    928\u001b[0m         \u001b[0;32mif\u001b[0m \u001b[0;32mnot\u001b[0m \u001b[0mself\u001b[0m\u001b[0;34m.\u001b[0m\u001b[0mis_consolidated\u001b[0m\u001b[0;34m(\u001b[0m\u001b[0;34m)\u001b[0m\u001b[0;34m:\u001b[0m\u001b[0;34m\u001b[0m\u001b[0;34m\u001b[0m\u001b[0m\n\u001b[0;32m--> 929\u001b[0;31m             \u001b[0mself\u001b[0m\u001b[0;34m.\u001b[0m\u001b[0mblocks\u001b[0m \u001b[0;34m=\u001b[0m \u001b[0mtuple\u001b[0m\u001b[0;34m(\u001b[0m\u001b[0m_consolidate\u001b[0m\u001b[0;34m(\u001b[0m\u001b[0mself\u001b[0m\u001b[0;34m.\u001b[0m\u001b[0mblocks\u001b[0m\u001b[0;34m)\u001b[0m\u001b[0;34m)\u001b[0m\u001b[0;34m\u001b[0m\u001b[0;34m\u001b[0m\u001b[0m\n\u001b[0m\u001b[1;32m    930\u001b[0m             \u001b[0mself\u001b[0m\u001b[0;34m.\u001b[0m\u001b[0m_is_consolidated\u001b[0m \u001b[0;34m=\u001b[0m \u001b[0;32mTrue\u001b[0m\u001b[0;34m\u001b[0m\u001b[0;34m\u001b[0m\u001b[0m\n\u001b[1;32m    931\u001b[0m             \u001b[0mself\u001b[0m\u001b[0;34m.\u001b[0m\u001b[0m_known_consolidated\u001b[0m \u001b[0;34m=\u001b[0m \u001b[0;32mTrue\u001b[0m\u001b[0;34m\u001b[0m\u001b[0;34m\u001b[0m\u001b[0m\n",
      "\u001b[0;32m~/anaconda2/envs/py36/lib/python3.6/site-packages/pandas/core/internals/managers.py\u001b[0m in \u001b[0;36m_consolidate\u001b[0;34m(blocks)\u001b[0m\n\u001b[1;32m   1897\u001b[0m     \u001b[0;32mfor\u001b[0m \u001b[0;34m(\u001b[0m\u001b[0m_can_consolidate\u001b[0m\u001b[0;34m,\u001b[0m \u001b[0mdtype\u001b[0m\u001b[0;34m)\u001b[0m\u001b[0;34m,\u001b[0m \u001b[0mgroup_blocks\u001b[0m \u001b[0;32min\u001b[0m \u001b[0mgrouper\u001b[0m\u001b[0;34m:\u001b[0m\u001b[0;34m\u001b[0m\u001b[0;34m\u001b[0m\u001b[0m\n\u001b[1;32m   1898\u001b[0m         merged_blocks = _merge_blocks(list(group_blocks), dtype=dtype,\n\u001b[0;32m-> 1899\u001b[0;31m                                       _can_consolidate=_can_consolidate)\n\u001b[0m\u001b[1;32m   1900\u001b[0m         \u001b[0mnew_blocks\u001b[0m \u001b[0;34m=\u001b[0m \u001b[0m_extend_blocks\u001b[0m\u001b[0;34m(\u001b[0m\u001b[0mmerged_blocks\u001b[0m\u001b[0;34m,\u001b[0m \u001b[0mnew_blocks\u001b[0m\u001b[0;34m)\u001b[0m\u001b[0;34m\u001b[0m\u001b[0;34m\u001b[0m\u001b[0m\n\u001b[1;32m   1901\u001b[0m     \u001b[0;32mreturn\u001b[0m \u001b[0mnew_blocks\u001b[0m\u001b[0;34m\u001b[0m\u001b[0;34m\u001b[0m\u001b[0m\n",
      "\u001b[0;32m~/anaconda2/envs/py36/lib/python3.6/site-packages/pandas/core/internals/blocks.py\u001b[0m in \u001b[0;36m_merge_blocks\u001b[0;34m(blocks, dtype, _can_consolidate)\u001b[0m\n\u001b[1;32m   3144\u001b[0m         \u001b[0;31m# combination of those slices is a slice, too.\u001b[0m\u001b[0;34m\u001b[0m\u001b[0;34m\u001b[0m\u001b[0;34m\u001b[0m\u001b[0m\n\u001b[1;32m   3145\u001b[0m         \u001b[0mnew_mgr_locs\u001b[0m \u001b[0;34m=\u001b[0m \u001b[0mnp\u001b[0m\u001b[0;34m.\u001b[0m\u001b[0mconcatenate\u001b[0m\u001b[0;34m(\u001b[0m\u001b[0;34m[\u001b[0m\u001b[0mb\u001b[0m\u001b[0;34m.\u001b[0m\u001b[0mmgr_locs\u001b[0m\u001b[0;34m.\u001b[0m\u001b[0mas_array\u001b[0m \u001b[0;32mfor\u001b[0m \u001b[0mb\u001b[0m \u001b[0;32min\u001b[0m \u001b[0mblocks\u001b[0m\u001b[0;34m]\u001b[0m\u001b[0;34m)\u001b[0m\u001b[0;34m\u001b[0m\u001b[0;34m\u001b[0m\u001b[0m\n\u001b[0;32m-> 3146\u001b[0;31m         \u001b[0mnew_values\u001b[0m \u001b[0;34m=\u001b[0m \u001b[0mnp\u001b[0m\u001b[0;34m.\u001b[0m\u001b[0mvstack\u001b[0m\u001b[0;34m(\u001b[0m\u001b[0;34m[\u001b[0m\u001b[0mb\u001b[0m\u001b[0;34m.\u001b[0m\u001b[0mvalues\u001b[0m \u001b[0;32mfor\u001b[0m \u001b[0mb\u001b[0m \u001b[0;32min\u001b[0m \u001b[0mblocks\u001b[0m\u001b[0;34m]\u001b[0m\u001b[0;34m)\u001b[0m\u001b[0;34m\u001b[0m\u001b[0;34m\u001b[0m\u001b[0m\n\u001b[0m\u001b[1;32m   3147\u001b[0m \u001b[0;34m\u001b[0m\u001b[0m\n\u001b[1;32m   3148\u001b[0m         \u001b[0margsort\u001b[0m \u001b[0;34m=\u001b[0m \u001b[0mnp\u001b[0m\u001b[0;34m.\u001b[0m\u001b[0margsort\u001b[0m\u001b[0;34m(\u001b[0m\u001b[0mnew_mgr_locs\u001b[0m\u001b[0;34m)\u001b[0m\u001b[0;34m\u001b[0m\u001b[0;34m\u001b[0m\u001b[0m\n",
      "\u001b[0;32m~/anaconda2/envs/py36/lib/python3.6/site-packages/numpy/core/shape_base.py\u001b[0m in \u001b[0;36mvstack\u001b[0;34m(tup)\u001b[0m\n\u001b[1;32m    232\u001b[0m \u001b[0;34m\u001b[0m\u001b[0m\n\u001b[1;32m    233\u001b[0m     \"\"\"\n\u001b[0;32m--> 234\u001b[0;31m     \u001b[0;32mreturn\u001b[0m \u001b[0m_nx\u001b[0m\u001b[0;34m.\u001b[0m\u001b[0mconcatenate\u001b[0m\u001b[0;34m(\u001b[0m\u001b[0;34m[\u001b[0m\u001b[0matleast_2d\u001b[0m\u001b[0;34m(\u001b[0m\u001b[0m_m\u001b[0m\u001b[0;34m)\u001b[0m \u001b[0;32mfor\u001b[0m \u001b[0m_m\u001b[0m \u001b[0;32min\u001b[0m \u001b[0mtup\u001b[0m\u001b[0;34m]\u001b[0m\u001b[0;34m,\u001b[0m \u001b[0;36m0\u001b[0m\u001b[0;34m)\u001b[0m\u001b[0;34m\u001b[0m\u001b[0;34m\u001b[0m\u001b[0m\n\u001b[0m\u001b[1;32m    235\u001b[0m \u001b[0;34m\u001b[0m\u001b[0m\n\u001b[1;32m    236\u001b[0m \u001b[0;32mdef\u001b[0m \u001b[0mhstack\u001b[0m\u001b[0;34m(\u001b[0m\u001b[0mtup\u001b[0m\u001b[0;34m)\u001b[0m\u001b[0;34m:\u001b[0m\u001b[0;34m\u001b[0m\u001b[0;34m\u001b[0m\u001b[0m\n",
      "\u001b[0;31mMemoryError\u001b[0m: "
     ]
    }
   ],
   "source": [
    "# Perform the fit:\n",
    "trf = TRFEstimator(tmin=-0.6, tmax=0.8, srate=raw.info['sfreq'], alpha=reg_param)\n",
    "trf.fit(X.repeat(len(list_subjects), axis=0), Y, feat_names=[\"Word Onsets\", \"Surprisal\"])"
   ]
  }
 ],
 "metadata": {
  "file_extension": ".py",
  "hide_input": false,
  "kernelspec": {
   "display_name": "Python 3",
   "language": "python",
   "name": "python3"
  },
  "language_info": {
   "codemirror_mode": {
    "name": "ipython",
    "version": 3
   },
   "file_extension": ".py",
   "mimetype": "text/x-python",
   "name": "python",
   "nbconvert_exporter": "python",
   "pygments_lexer": "ipython3",
   "version": "3.6.8"
  },
  "latex_envs": {
   "LaTeX_envs_menu_present": true,
   "autoclose": false,
   "autocomplete": true,
   "bibliofile": "biblio.bib",
   "cite_by": "apalike",
   "current_citInitial": 1,
   "eqLabelWithNumbers": true,
   "eqNumInitial": 1,
   "hotkeys": {
    "equation": "Ctrl-E",
    "itemize": "Ctrl-I"
   },
   "labels_anchors": false,
   "latex_user_defs": false,
   "report_style_numbering": false,
   "user_envs_cfg": false
  },
  "mimetype": "text/x-python",
  "name": "python",
  "npconvert_exporter": "python",
  "pygments_lexer": "ipython3",
  "toc": {
   "base_numbering": 1,
   "nav_menu": {},
   "number_sections": true,
   "sideBar": true,
   "skip_h1_title": false,
   "title_cell": "Table of Contents",
   "title_sidebar": "Contents",
   "toc_cell": false,
   "toc_position": {
    "height": "calc(100% - 180px)",
    "left": "10px",
    "top": "150px",
    "width": "246px"
   },
   "toc_section_display": true,
   "toc_window_display": true
  },
  "varInspector": {
   "cols": {
    "lenName": 16,
    "lenType": 16,
    "lenVar": 40
   },
   "kernels_config": {
    "python": {
     "delete_cmd_postfix": "",
     "delete_cmd_prefix": "del ",
     "library": "var_list.py",
     "varRefreshCmd": "print(var_dic_list())"
    },
    "r": {
     "delete_cmd_postfix": ") ",
     "delete_cmd_prefix": "rm(",
     "library": "var_list.r",
     "varRefreshCmd": "cat(var_dic_list()) "
    }
   },
   "types_to_exclude": [
    "module",
    "function",
    "builtin_function_or_method",
    "instance",
    "_Feature"
   ],
   "window_display": false
  },
  "version": 3
 },
 "nbformat": 4,
 "nbformat_minor": 2
}
