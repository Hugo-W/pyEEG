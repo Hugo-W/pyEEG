{
 "cells": [
  {
   "cell_type": "markdown",
   "metadata": {},
   "source": [
    "# CCA with WordVectors"
   ]
  },
  {
   "cell_type": "markdown",
   "metadata": {},
   "source": [
    "## Import EEG"
   ]
  },
  {
   "cell_type": "code",
   "execution_count": 1,
   "metadata": {},
   "outputs": [
    {
     "name": "stderr",
     "output_type": "stream",
     "text": [
      "<ipython-input-1-d791ec2c2663>:7: DeprecationWarning: stim_channel (default True in 0.17) will change to False in 0.18 and be removed in 0.19, set it to False in 0.17 to avoid this warning\n",
      "  raw = mne.io.read_raw_eeglab(fname, preload=True, event_id=event_id)\n"
     ]
    },
    {
     "name": "stdout",
     "output_type": "stream",
     "text": [
      "Used Annotations descriptions: ['boundary', 'story_onset']\n",
      "Setting up band-pass filter from 1 - 15 Hz\n",
      "l_trans_bandwidth chosen to be 1.0 Hz\n",
      "Filter length of 413 samples (3.304 sec) selected\n"
     ]
    },
    {
     "name": "stderr",
     "output_type": "stream",
     "text": [
      "C:\\Users\\Karen\\AppData\\Local\\conda\\conda\\envs\\mne\\lib\\site-packages\\mne\\annotations.py:315: RuntimeWarning: invalid value encountered in less\n",
      "  out_of_bounds = (absolute_onset > tmax) | (absolute_offset < tmin)\n",
      "C:\\Users\\Karen\\AppData\\Local\\conda\\conda\\envs\\mne\\lib\\site-packages\\mne\\annotations.py:324: RuntimeWarning: invalid value encountered in greater\n",
      "  clip_right_elem = (absolute_offset > tmax) & ~out_of_bounds\n",
      "<ipython-input-1-d791ec2c2663>:7: RuntimeWarning: 1 events will be dropped because they occur on the same time sample as another event. `mne.io.Raw` objects store events on an event channel, which cannot represent two events on the same sample. Please use `read_annotations_eeglab` and create events using `events_from_annotations` to extract the original event structure. Then, you can e.g. subset the extracted events for constructing epochs.\n",
      "  raw = mne.io.read_raw_eeglab(fname, preload=True, event_id=event_id)\n"
     ]
    }
   ],
   "source": [
    "import numpy as np\n",
    "import mne\n",
    "import os\n",
    "import scipy.io as sio\n",
    "def load_eeg(fname, story_order):\n",
    "    event_id = dict(story_onset=12, boundary=-1)\n",
    "    raw = mne.io.read_raw_eeglab(fname, preload=True, event_id=event_id)\n",
    "    raw_eeg = raw.copy().pick_types(eeg=True)\n",
    "    n_channels = len(raw_eeg.ch_names)\n",
    "    info = raw_eeg.info\n",
    "    story_order_1kHz = mne.event.read_events(story_order)\n",
    "    story_order_125Hz = story_order_1kHz.copy()\n",
    "    for i in range(len(story_order_125Hz)):\n",
    "        story_order_125Hz[i,0] = story_order_125Hz[i,0]/8\n",
    "    return raw_eeg, story_order_125Hz, n_channels, info\n",
    "\n",
    "p = 3       # participant\n",
    "set_path = np.load(os.path.join(os.getcwd(), \"../../../../set_path.npy\"))\n",
    "order_path = np.load(os.path.join(os.getcwd(), \"../../../../story_order_path.npy\"))\n",
    "no_participants = len(set_path)\n",
    "raw_eeg = []\n",
    "story_order_125Hz = []\n",
    "raw_eegs, story_order_125Hzs, n_channels, info = load_eeg((os.path.join(os.getcwd(),\"../../../../\",set_path[p])), (os.path.join(os.getcwd(),\"../../../../\",order_path[p])))\n",
    "raw_eeg.append(raw_eegs.filter(1,15, h_trans_bandwidth=2))\n",
    "story_order_125Hz.append(story_order_125Hzs)\n",
    "sfreq =  info['sfreq']"
   ]
  },
  {
   "cell_type": "markdown",
   "metadata": {},
   "source": [
    "## Load WordVectors"
   ]
  },
  {
   "cell_type": "code",
   "execution_count": 2,
   "metadata": {},
   "outputs": [
    {
     "name": "stderr",
     "output_type": "stream",
     "text": [
      "C:\\Users\\Karen\\AppData\\Local\\conda\\conda\\envs\\mne\\lib\\site-packages\\scipy\\signal\\signaltools.py:2383: FutureWarning: Using a non-tuple sequence for multidimensional indexing is deprecated; use `arr[tuple(seq)]` instead of `arr[seq]`. In the future this will be interpreted as an array index, `arr[np.array(seq)]`, which will result either in an error or a different result.\n",
      "  return y[keep]\n",
      "C:\\Users\\Karen\\AppData\\Local\\conda\\conda\\envs\\mne\\lib\\site-packages\\scipy\\signal\\signaltools.py:3463: FutureWarning: Using a non-tuple sequence for multidimensional indexing is deprecated; use `arr[tuple(seq)]` instead of `arr[seq]`. In the future this will be interpreted as an array index, `arr[np.array(seq)]`, which will result either in an error or a different result.\n",
      "  return y[sl]\n",
      "C:\\Users\\Karen\\AppData\\Local\\conda\\conda\\envs\\mne\\lib\\site-packages\\scipy\\signal\\_arraytools.py:45: FutureWarning: Using a non-tuple sequence for multidimensional indexing is deprecated; use `arr[tuple(seq)]` instead of `arr[seq]`. In the future this will be interpreted as an array index, `arr[np.array(seq)]`, which will result either in an error or a different result.\n",
      "  b = a[a_slice]\n",
      "C:\\Users\\Karen\\AppData\\Local\\conda\\conda\\envs\\mne\\lib\\site-packages\\scipy\\signal\\signaltools.py:2383: FutureWarning: Using a non-tuple sequence for multidimensional indexing is deprecated; use `arr[tuple(seq)]` instead of `arr[seq]`. In the future this will be interpreted as an array index, `arr[np.array(seq)]`, which will result either in an error or a different result.\n",
      "  return y[keep]\n",
      "C:\\Users\\Karen\\AppData\\Local\\conda\\conda\\envs\\mne\\lib\\site-packages\\scipy\\signal\\signaltools.py:3463: FutureWarning: Using a non-tuple sequence for multidimensional indexing is deprecated; use `arr[tuple(seq)]` instead of `arr[seq]`. In the future this will be interpreted as an array index, `arr[np.array(seq)]`, which will result either in an error or a different result.\n",
      "  return y[sl]\n",
      "C:\\Users\\Karen\\AppData\\Local\\conda\\conda\\envs\\mne\\lib\\site-packages\\scipy\\signal\\_arraytools.py:45: FutureWarning: Using a non-tuple sequence for multidimensional indexing is deprecated; use `arr[tuple(seq)]` instead of `arr[seq]`. In the future this will be interpreted as an array index, `arr[np.array(seq)]`, which will result either in an error or a different result.\n",
      "  b = a[a_slice]\n",
      "C:\\Users\\Karen\\AppData\\Local\\conda\\conda\\envs\\mne\\lib\\site-packages\\scipy\\signal\\signaltools.py:2383: FutureWarning: Using a non-tuple sequence for multidimensional indexing is deprecated; use `arr[tuple(seq)]` instead of `arr[seq]`. In the future this will be interpreted as an array index, `arr[np.array(seq)]`, which will result either in an error or a different result.\n",
      "  return y[keep]\n",
      "C:\\Users\\Karen\\AppData\\Local\\conda\\conda\\envs\\mne\\lib\\site-packages\\scipy\\signal\\signaltools.py:3463: FutureWarning: Using a non-tuple sequence for multidimensional indexing is deprecated; use `arr[tuple(seq)]` instead of `arr[seq]`. In the future this will be interpreted as an array index, `arr[np.array(seq)]`, which will result either in an error or a different result.\n",
      "  return y[sl]\n",
      "C:\\Users\\Karen\\AppData\\Local\\conda\\conda\\envs\\mne\\lib\\site-packages\\scipy\\signal\\_arraytools.py:45: FutureWarning: Using a non-tuple sequence for multidimensional indexing is deprecated; use `arr[tuple(seq)]` instead of `arr[seq]`. In the future this will be interpreted as an array index, `arr[np.array(seq)]`, which will result either in an error or a different result.\n",
      "  b = a[a_slice]\n",
      "C:\\Users\\Karen\\AppData\\Local\\conda\\conda\\envs\\mne\\lib\\site-packages\\scipy\\signal\\signaltools.py:2383: FutureWarning: Using a non-tuple sequence for multidimensional indexing is deprecated; use `arr[tuple(seq)]` instead of `arr[seq]`. In the future this will be interpreted as an array index, `arr[np.array(seq)]`, which will result either in an error or a different result.\n",
      "  return y[keep]\n",
      "C:\\Users\\Karen\\AppData\\Local\\conda\\conda\\envs\\mne\\lib\\site-packages\\scipy\\signal\\signaltools.py:3463: FutureWarning: Using a non-tuple sequence for multidimensional indexing is deprecated; use `arr[tuple(seq)]` instead of `arr[seq]`. In the future this will be interpreted as an array index, `arr[np.array(seq)]`, which will result either in an error or a different result.\n",
      "  return y[sl]\n",
      "C:\\Users\\Karen\\AppData\\Local\\conda\\conda\\envs\\mne\\lib\\site-packages\\scipy\\signal\\_arraytools.py:45: FutureWarning: Using a non-tuple sequence for multidimensional indexing is deprecated; use `arr[tuple(seq)]` instead of `arr[seq]`. In the future this will be interpreted as an array index, `arr[np.array(seq)]`, which will result either in an error or a different result.\n",
      "  b = a[a_slice]\n",
      "C:\\Users\\Karen\\AppData\\Local\\conda\\conda\\envs\\mne\\lib\\site-packages\\scipy\\signal\\signaltools.py:2383: FutureWarning: Using a non-tuple sequence for multidimensional indexing is deprecated; use `arr[tuple(seq)]` instead of `arr[seq]`. In the future this will be interpreted as an array index, `arr[np.array(seq)]`, which will result either in an error or a different result.\n",
      "  return y[keep]\n",
      "C:\\Users\\Karen\\AppData\\Local\\conda\\conda\\envs\\mne\\lib\\site-packages\\scipy\\signal\\signaltools.py:3463: FutureWarning: Using a non-tuple sequence for multidimensional indexing is deprecated; use `arr[tuple(seq)]` instead of `arr[seq]`. In the future this will be interpreted as an array index, `arr[np.array(seq)]`, which will result either in an error or a different result.\n",
      "  return y[sl]\n",
      "C:\\Users\\Karen\\AppData\\Local\\conda\\conda\\envs\\mne\\lib\\site-packages\\scipy\\signal\\_arraytools.py:45: FutureWarning: Using a non-tuple sequence for multidimensional indexing is deprecated; use `arr[tuple(seq)]` instead of `arr[seq]`. In the future this will be interpreted as an array index, `arr[np.array(seq)]`, which will result either in an error or a different result.\n",
      "  b = a[a_slice]\n",
      "C:\\Users\\Karen\\AppData\\Local\\conda\\conda\\envs\\mne\\lib\\site-packages\\scipy\\signal\\signaltools.py:2383: FutureWarning: Using a non-tuple sequence for multidimensional indexing is deprecated; use `arr[tuple(seq)]` instead of `arr[seq]`. In the future this will be interpreted as an array index, `arr[np.array(seq)]`, which will result either in an error or a different result.\n",
      "  return y[keep]\n",
      "C:\\Users\\Karen\\AppData\\Local\\conda\\conda\\envs\\mne\\lib\\site-packages\\scipy\\signal\\signaltools.py:3463: FutureWarning: Using a non-tuple sequence for multidimensional indexing is deprecated; use `arr[tuple(seq)]` instead of `arr[seq]`. In the future this will be interpreted as an array index, `arr[np.array(seq)]`, which will result either in an error or a different result.\n",
      "  return y[sl]\n",
      "C:\\Users\\Karen\\AppData\\Local\\conda\\conda\\envs\\mne\\lib\\site-packages\\scipy\\signal\\_arraytools.py:45: FutureWarning: Using a non-tuple sequence for multidimensional indexing is deprecated; use `arr[tuple(seq)]` instead of `arr[seq]`. In the future this will be interpreted as an array index, `arr[np.array(seq)]`, which will result either in an error or a different result.\n",
      "  b = a[a_slice]\n",
      "C:\\Users\\Karen\\AppData\\Local\\conda\\conda\\envs\\mne\\lib\\site-packages\\scipy\\signal\\signaltools.py:2383: FutureWarning: Using a non-tuple sequence for multidimensional indexing is deprecated; use `arr[tuple(seq)]` instead of `arr[seq]`. In the future this will be interpreted as an array index, `arr[np.array(seq)]`, which will result either in an error or a different result.\n",
      "  return y[keep]\n",
      "C:\\Users\\Karen\\AppData\\Local\\conda\\conda\\envs\\mne\\lib\\site-packages\\scipy\\signal\\signaltools.py:3463: FutureWarning: Using a non-tuple sequence for multidimensional indexing is deprecated; use `arr[tuple(seq)]` instead of `arr[seq]`. In the future this will be interpreted as an array index, `arr[np.array(seq)]`, which will result either in an error or a different result.\n",
      "  return y[sl]\n",
      "C:\\Users\\Karen\\AppData\\Local\\conda\\conda\\envs\\mne\\lib\\site-packages\\scipy\\signal\\_arraytools.py:45: FutureWarning: Using a non-tuple sequence for multidimensional indexing is deprecated; use `arr[tuple(seq)]` instead of `arr[seq]`. In the future this will be interpreted as an array index, `arr[np.array(seq)]`, which will result either in an error or a different result.\n",
      "  b = a[a_slice]\n",
      "C:\\Users\\Karen\\AppData\\Local\\conda\\conda\\envs\\mne\\lib\\site-packages\\scipy\\signal\\signaltools.py:2383: FutureWarning: Using a non-tuple sequence for multidimensional indexing is deprecated; use `arr[tuple(seq)]` instead of `arr[seq]`. In the future this will be interpreted as an array index, `arr[np.array(seq)]`, which will result either in an error or a different result.\n",
      "  return y[keep]\n",
      "C:\\Users\\Karen\\AppData\\Local\\conda\\conda\\envs\\mne\\lib\\site-packages\\scipy\\signal\\signaltools.py:3463: FutureWarning: Using a non-tuple sequence for multidimensional indexing is deprecated; use `arr[tuple(seq)]` instead of `arr[seq]`. In the future this will be interpreted as an array index, `arr[np.array(seq)]`, which will result either in an error or a different result.\n",
      "  return y[sl]\n",
      "C:\\Users\\Karen\\AppData\\Local\\conda\\conda\\envs\\mne\\lib\\site-packages\\scipy\\signal\\_arraytools.py:45: FutureWarning: Using a non-tuple sequence for multidimensional indexing is deprecated; use `arr[tuple(seq)]` instead of `arr[seq]`. In the future this will be interpreted as an array index, `arr[np.array(seq)]`, which will result either in an error or a different result.\n",
      "  b = a[a_slice]\n",
      "C:\\Users\\Karen\\AppData\\Local\\conda\\conda\\envs\\mne\\lib\\site-packages\\scipy\\signal\\signaltools.py:2383: FutureWarning: Using a non-tuple sequence for multidimensional indexing is deprecated; use `arr[tuple(seq)]` instead of `arr[seq]`. In the future this will be interpreted as an array index, `arr[np.array(seq)]`, which will result either in an error or a different result.\n",
      "  return y[keep]\n",
      "C:\\Users\\Karen\\AppData\\Local\\conda\\conda\\envs\\mne\\lib\\site-packages\\scipy\\signal\\signaltools.py:3463: FutureWarning: Using a non-tuple sequence for multidimensional indexing is deprecated; use `arr[tuple(seq)]` instead of `arr[seq]`. In the future this will be interpreted as an array index, `arr[np.array(seq)]`, which will result either in an error or a different result.\n",
      "  return y[sl]\n",
      "C:\\Users\\Karen\\AppData\\Local\\conda\\conda\\envs\\mne\\lib\\site-packages\\scipy\\signal\\_arraytools.py:45: FutureWarning: Using a non-tuple sequence for multidimensional indexing is deprecated; use `arr[tuple(seq)]` instead of `arr[seq]`. In the future this will be interpreted as an array index, `arr[np.array(seq)]`, which will result either in an error or a different result.\n",
      "  b = a[a_slice]\n"
     ]
    },
    {
     "name": "stderr",
     "output_type": "stream",
     "text": [
      "C:\\Users\\Karen\\AppData\\Local\\conda\\conda\\envs\\mne\\lib\\site-packages\\scipy\\signal\\signaltools.py:2383: FutureWarning: Using a non-tuple sequence for multidimensional indexing is deprecated; use `arr[tuple(seq)]` instead of `arr[seq]`. In the future this will be interpreted as an array index, `arr[np.array(seq)]`, which will result either in an error or a different result.\n",
      "  return y[keep]\n",
      "C:\\Users\\Karen\\AppData\\Local\\conda\\conda\\envs\\mne\\lib\\site-packages\\scipy\\signal\\signaltools.py:3463: FutureWarning: Using a non-tuple sequence for multidimensional indexing is deprecated; use `arr[tuple(seq)]` instead of `arr[seq]`. In the future this will be interpreted as an array index, `arr[np.array(seq)]`, which will result either in an error or a different result.\n",
      "  return y[sl]\n",
      "C:\\Users\\Karen\\AppData\\Local\\conda\\conda\\envs\\mne\\lib\\site-packages\\scipy\\signal\\_arraytools.py:45: FutureWarning: Using a non-tuple sequence for multidimensional indexing is deprecated; use `arr[tuple(seq)]` instead of `arr[seq]`. In the future this will be interpreted as an array index, `arr[np.array(seq)]`, which will result either in an error or a different result.\n",
      "  b = a[a_slice]\n",
      "C:\\Users\\Karen\\AppData\\Local\\conda\\conda\\envs\\mne\\lib\\site-packages\\scipy\\signal\\signaltools.py:2383: FutureWarning: Using a non-tuple sequence for multidimensional indexing is deprecated; use `arr[tuple(seq)]` instead of `arr[seq]`. In the future this will be interpreted as an array index, `arr[np.array(seq)]`, which will result either in an error or a different result.\n",
      "  return y[keep]\n",
      "C:\\Users\\Karen\\AppData\\Local\\conda\\conda\\envs\\mne\\lib\\site-packages\\scipy\\signal\\signaltools.py:3463: FutureWarning: Using a non-tuple sequence for multidimensional indexing is deprecated; use `arr[tuple(seq)]` instead of `arr[seq]`. In the future this will be interpreted as an array index, `arr[np.array(seq)]`, which will result either in an error or a different result.\n",
      "  return y[sl]\n",
      "C:\\Users\\Karen\\AppData\\Local\\conda\\conda\\envs\\mne\\lib\\site-packages\\scipy\\signal\\_arraytools.py:45: FutureWarning: Using a non-tuple sequence for multidimensional indexing is deprecated; use `arr[tuple(seq)]` instead of `arr[seq]`. In the future this will be interpreted as an array index, `arr[np.array(seq)]`, which will result either in an error or a different result.\n",
      "  b = a[a_slice]\n",
      "C:\\Users\\Karen\\AppData\\Local\\conda\\conda\\envs\\mne\\lib\\site-packages\\scipy\\signal\\signaltools.py:2383: FutureWarning: Using a non-tuple sequence for multidimensional indexing is deprecated; use `arr[tuple(seq)]` instead of `arr[seq]`. In the future this will be interpreted as an array index, `arr[np.array(seq)]`, which will result either in an error or a different result.\n",
      "  return y[keep]\n",
      "C:\\Users\\Karen\\AppData\\Local\\conda\\conda\\envs\\mne\\lib\\site-packages\\scipy\\signal\\signaltools.py:3463: FutureWarning: Using a non-tuple sequence for multidimensional indexing is deprecated; use `arr[tuple(seq)]` instead of `arr[seq]`. In the future this will be interpreted as an array index, `arr[np.array(seq)]`, which will result either in an error or a different result.\n",
      "  return y[sl]\n",
      "C:\\Users\\Karen\\AppData\\Local\\conda\\conda\\envs\\mne\\lib\\site-packages\\scipy\\signal\\_arraytools.py:45: FutureWarning: Using a non-tuple sequence for multidimensional indexing is deprecated; use `arr[tuple(seq)]` instead of `arr[seq]`. In the future this will be interpreted as an array index, `arr[np.array(seq)]`, which will result either in an error or a different result.\n",
      "  b = a[a_slice]\n",
      "C:\\Users\\Karen\\AppData\\Local\\conda\\conda\\envs\\mne\\lib\\site-packages\\scipy\\signal\\signaltools.py:2383: FutureWarning: Using a non-tuple sequence for multidimensional indexing is deprecated; use `arr[tuple(seq)]` instead of `arr[seq]`. In the future this will be interpreted as an array index, `arr[np.array(seq)]`, which will result either in an error or a different result.\n",
      "  return y[keep]\n",
      "C:\\Users\\Karen\\AppData\\Local\\conda\\conda\\envs\\mne\\lib\\site-packages\\scipy\\signal\\signaltools.py:3463: FutureWarning: Using a non-tuple sequence for multidimensional indexing is deprecated; use `arr[tuple(seq)]` instead of `arr[seq]`. In the future this will be interpreted as an array index, `arr[np.array(seq)]`, which will result either in an error or a different result.\n",
      "  return y[sl]\n",
      "C:\\Users\\Karen\\AppData\\Local\\conda\\conda\\envs\\mne\\lib\\site-packages\\scipy\\signal\\_arraytools.py:45: FutureWarning: Using a non-tuple sequence for multidimensional indexing is deprecated; use `arr[tuple(seq)]` instead of `arr[seq]`. In the future this will be interpreted as an array index, `arr[np.array(seq)]`, which will result either in an error or a different result.\n",
      "  b = a[a_slice]\n",
      "C:\\Users\\Karen\\AppData\\Local\\conda\\conda\\envs\\mne\\lib\\site-packages\\scipy\\signal\\signaltools.py:2383: FutureWarning: Using a non-tuple sequence for multidimensional indexing is deprecated; use `arr[tuple(seq)]` instead of `arr[seq]`. In the future this will be interpreted as an array index, `arr[np.array(seq)]`, which will result either in an error or a different result.\n",
      "  return y[keep]\n",
      "C:\\Users\\Karen\\AppData\\Local\\conda\\conda\\envs\\mne\\lib\\site-packages\\scipy\\signal\\signaltools.py:3463: FutureWarning: Using a non-tuple sequence for multidimensional indexing is deprecated; use `arr[tuple(seq)]` instead of `arr[seq]`. In the future this will be interpreted as an array index, `arr[np.array(seq)]`, which will result either in an error or a different result.\n",
      "  return y[sl]\n",
      "C:\\Users\\Karen\\AppData\\Local\\conda\\conda\\envs\\mne\\lib\\site-packages\\scipy\\signal\\_arraytools.py:45: FutureWarning: Using a non-tuple sequence for multidimensional indexing is deprecated; use `arr[tuple(seq)]` instead of `arr[seq]`. In the future this will be interpreted as an array index, `arr[np.array(seq)]`, which will result either in an error or a different result.\n",
      "  b = a[a_slice]\n",
      "C:\\Users\\Karen\\AppData\\Local\\conda\\conda\\envs\\mne\\lib\\site-packages\\scipy\\signal\\signaltools.py:2383: FutureWarning: Using a non-tuple sequence for multidimensional indexing is deprecated; use `arr[tuple(seq)]` instead of `arr[seq]`. In the future this will be interpreted as an array index, `arr[np.array(seq)]`, which will result either in an error or a different result.\n",
      "  return y[keep]\n",
      "C:\\Users\\Karen\\AppData\\Local\\conda\\conda\\envs\\mne\\lib\\site-packages\\scipy\\signal\\signaltools.py:3463: FutureWarning: Using a non-tuple sequence for multidimensional indexing is deprecated; use `arr[tuple(seq)]` instead of `arr[seq]`. In the future this will be interpreted as an array index, `arr[np.array(seq)]`, which will result either in an error or a different result.\n",
      "  return y[sl]\n",
      "C:\\Users\\Karen\\AppData\\Local\\conda\\conda\\envs\\mne\\lib\\site-packages\\scipy\\signal\\_arraytools.py:45: FutureWarning: Using a non-tuple sequence for multidimensional indexing is deprecated; use `arr[tuple(seq)]` instead of `arr[seq]`. In the future this will be interpreted as an array index, `arr[np.array(seq)]`, which will result either in an error or a different result.\n",
      "  b = a[a_slice]\n"
     ]
    }
   ],
   "source": [
    "from scipy.io import wavfile\n",
    "from scipy import signal\n",
    "from sklearn.preprocessing import scale\n",
    "def get_env():\n",
    "    story_name_path = sio.loadmat(os.path.join(os.getcwd(), \"../../../../story_name_path.mat\"))['story_name_loc']            \n",
    "    sfreq = 125\n",
    "    envelopes = [];\n",
    "    for i in range(15):\n",
    "        envelope, time = load_env(story_name_path[i], sfreq)\n",
    "        envelope = np.reshape(scale(envelope.T),(len(envelope),1))\n",
    "        envelopes.append(envelope)        \n",
    "    return envelopes\n",
    "\n",
    "def load_env(fname, sfreq):\n",
    "    fs, data = wavfile.read(os.path.join(os.getcwd(), \"../../../../\",fname))\n",
    "    time = np.linspace(0., len(data)/fs, len(data))\n",
    "    data = abs(data)\n",
    "    speech = signal.decimate(x=data, q=int(fs/sfreq), ftype='fir')\n",
    "    b, a = signal.butter(3, 0.12, 'low')\n",
    "    speech = signal.filtfilt(b, a, speech)\n",
    "    return speech, time\n",
    "\n",
    "envelopes = get_env()"
   ]
  },
  {
   "cell_type": "markdown",
   "metadata": {},
   "source": [
    "## Order EEG according to envelope"
   ]
  },
  {
   "cell_type": "code",
   "execution_count": 3,
   "metadata": {},
   "outputs": [],
   "source": [
    "def all_eeg_ordered(raw_eeg, story_order_125Hz, envelopes, no_participants):\n",
    "    all_raw_stories = []\n",
    "    all_times = []\n",
    "    speech_duration = np.zeros((15,1))\n",
    "    for n in range(1):\n",
    "        raw_stories = []\n",
    "        times = []\n",
    "        for i in range(15):\n",
    "            raw_story, time = get_eeg_ordered(raw_eeg[n],story_order_125Hz[n],envelopes[i],i)\n",
    "            raw_stories.append(raw_story.T)\n",
    "            times.append(time)\n",
    "            speech_duration[i] = len(envelopes[i]) \n",
    "        all_raw_stories.append(raw_stories)\n",
    "        all_times.append(times)\n",
    "    return all_raw_stories, speech_duration\n",
    "\n",
    "def get_eeg_ordered(raw_eeg, story_order_125Hz, envelope, story_no):\n",
    "    raw_story, times = raw_eeg[:,story_order_125Hz[story_order_125Hz[:,2]==story_no][0][0]:(story_order_125Hz[story_order_125Hz[:,2]==story_no][0][0]+len(envelope))]\n",
    "    return raw_story, times\n",
    "\n",
    "stories, speech_duration = all_eeg_ordered(raw_eeg, story_order_125Hz, envelopes, no_participants)"
   ]
  },
  {
   "cell_type": "markdown",
   "metadata": {},
   "source": [
    "## Load WordVectors"
   ]
  },
  {
   "cell_type": "code",
   "execution_count": 13,
   "metadata": {},
   "outputs": [],
   "source": [
    "# from pyeeg.io import WordLevelFeatures\n",
    "# import pandas as pd\n",
    "\n",
    "# def load_onset(sfreq, speech_duration):\n",
    "#     onset_path = np.load(os.path.join(os.getcwd(), \"../../../../word_onsets_path.npy\"))\n",
    "#     word_onsets = []\n",
    "#     for i in range(len(onset_path)):\n",
    "#         my_data = pd.read_csv(os.path.join(os.getcwd(), \"../../../../\",onset_path[i]))['onset'].values\n",
    "#         t_spikes = np.zeros((int(speech_duration[i,0]),))\n",
    "#         onset_samples = np.round(my_data * sfreq).astype(int)\n",
    "#         t_spikes[onset_samples] = 1.\n",
    "#         word_onsets.append(t_spikes)\n",
    "#     return word_onsets\n",
    "\n",
    "# word_onsets = load_onset(sfreq, speech_duration)\n"
   ]
  },
  {
   "cell_type": "code",
   "execution_count": 77,
   "metadata": {},
   "outputs": [
    {
     "name": "stderr",
     "output_type": "stream",
     "text": [
      "INFO:pyeeg.io:Word armchair not in word embedding model; will use rdm instead\n",
      "INFO:pyeeg.io:Word untying not in word embedding model; will use rdm instead\n",
      "INFO:pyeeg.io:Word bonnet-strings not in word embedding model; will use rdm instead\n",
      "INFO:pyeeg.io:Word flushington not in word embedding model; will use rdm instead\n",
      "INFO:pyeeg.io:Word tottered not in word embedding model; will use rdm instead\n",
      "INFO:pyeeg.io:Word don't not in word embedding model; will use rdm instead\n",
      "INFO:pyeeg.io:Word reprovingly not in word embedding model; will use rdm instead\n",
      "INFO:pyeeg.io:Word flushington not in word embedding model; will use rdm instead\n",
      "INFO:pyeeg.io:Word tolerably not in word embedding model; will use rdm instead\n",
      "INFO:pyeeg.io:Word flushington not in word embedding model; will use rdm instead\n",
      "INFO:pyeeg.io:Word stoniness not in word embedding model; will use rdm instead\n",
      "INFO:pyeeg.io:Word flushington not in word embedding model; will use rdm instead\n",
      "INFO:pyeeg.io:Word recollect not in word embedding model; will use rdm instead\n",
      "INFO:pyeeg.io:Word inwardly not in word embedding model; will use rdm instead\n",
      "INFO:pyeeg.io:Word they'd not in word embedding model; will use rdm instead\n",
      "INFO:pyeeg.io:Word here's not in word embedding model; will use rdm instead\n",
      "INFO:pyeeg.io:Word sister's not in word embedding model; will use rdm instead\n",
      "INFO:pyeeg.io:Word doesn't not in word embedding model; will use rdm instead\n",
      "INFO:pyeeg.io:Word cousin's not in word embedding model; will use rdm instead\n",
      "INFO:pyeeg.io:Word we're not in word embedding model; will use rdm instead\n",
      "INFO:pyeeg.io:Word can't not in word embedding model; will use rdm instead\n"
     ]
    }
   ],
   "source": [
    "wo_path = os.path.join(os.getcwd(), \"../../../..\", np.load(os.path.join(os.getcwd(), \"../../../../word_onsets_path.npy\"))[p])\n",
    "wv_path = os.path.join( os.getcwd(), '../../../../../WordVectors/glove.6B.50d-Copy.txt')\n",
    "wf = WordLevelFeatures(path_wordonsets=wo_path, path_wordvectors=wv_path)\n",
    "setattr(wf, 'duration', np.sum(speech_duration)/125)"
   ]
  },
  {
   "cell_type": "code",
   "execution_count": 78,
   "metadata": {},
   "outputs": [],
   "source": [
    "feat_matrix = wf.align_word_features(features=['wordvectors'], srate=125, wordonset_feature=True)"
   ]
  },
  {
   "cell_type": "code",
   "execution_count": 82,
   "metadata": {},
   "outputs": [
    {
     "data": {
      "text/plain": [
       "(297772, 51)"
      ]
     },
     "execution_count": 82,
     "metadata": {},
     "output_type": "execute_result"
    }
   ],
   "source": [
    "feat_matrix.shape"
   ]
  },
  {
   "cell_type": "code",
   "execution_count": 106,
   "metadata": {},
   "outputs": [
    {
     "data": {
      "text/plain": [
       "(297771, 64)"
      ]
     },
     "execution_count": 106,
     "metadata": {},
     "output_type": "execute_result"
    }
   ],
   "source": [
    "y.shape"
   ]
  },
  {
   "cell_type": "markdown",
   "metadata": {},
   "source": [
    "## Run CCA modelling"
   ]
  },
  {
   "cell_type": "code",
   "execution_count": 85,
   "metadata": {},
   "outputs": [],
   "source": [
    "x = feat_matrix[:-1,:]\n",
    "y = np.concatenate(stories[0])"
   ]
  },
  {
   "cell_type": "code",
   "execution_count": 95,
   "metadata": {},
   "outputs": [],
   "source": [
    "from pyeeg.cca import CCA_Estimator\n",
    "cca = CCA_Estimator(times=np.linspace(-.2, 1, 11), srate=info['sfreq'])\n",
    "cca.fit(x, y, thresh_x=0.999, thresh_y=0.999, feat_names=[\"Speech Envelope\"])    # best to use all components but only display first few"
   ]
  },
  {
   "cell_type": "code",
   "execution_count": 108,
   "metadata": {},
   "outputs": [
    {
     "data": {
      "text/plain": [
       "(64, 48)"
      ]
     },
     "execution_count": 108,
     "metadata": {},
     "output_type": "execute_result"
    }
   ],
   "source": [
    "cca.coefResponse_.shape"
   ]
  },
  {
   "cell_type": "code",
   "execution_count": 107,
   "metadata": {},
   "outputs": [
    {
     "data": {
      "text/plain": [
       "(561, 48)"
      ]
     },
     "execution_count": 107,
     "metadata": {},
     "output_type": "execute_result"
    }
   ],
   "source": [
    "# instead of n_lags the output is nlags x n_dim for the first dimension...\n",
    "cca.coefStim_.shape"
   ]
  },
  {
   "cell_type": "code",
   "execution_count": 105,
   "metadata": {},
   "outputs": [
    {
     "data": {
      "text/plain": [
       "array([-0.2 , -0.08,  0.04,  0.16,  0.28,  0.4 ,  0.52,  0.64,  0.76,\n",
       "        0.88,  1.  ])"
      ]
     },
     "execution_count": 105,
     "metadata": {},
     "output_type": "execute_result"
    }
   ],
   "source": [
    "cca.times"
   ]
  },
  {
   "cell_type": "code",
   "execution_count": 117,
   "metadata": {},
   "outputs": [
    {
     "data": {
      "text/plain": [
       "[<matplotlib.lines.Line2D at 0x21110edc2e8>]"
      ]
     },
     "execution_count": 117,
     "metadata": {},
     "output_type": "execute_result"
    },
    {
     "data": {
      "image/png": "[encoded data removed]",
      "text/plain": [
       "<Figure size 432x288 with 1 Axes>"
      ]
     },
     "metadata": {
      "needs_background": "light"
     },
     "output_type": "display_data"
    }
   ],
   "source": [
    "import matplotlib.pyplot as plt\n",
    "plt.plot(cca.times, cca.coefStim_[:11,0])"
   ]
  },
  {
   "cell_type": "code",
   "execution_count": 94,
   "metadata": {},
   "outputs": [
    {
     "data": {
      "text/plain": [
       "array([-0.2 , -0.08,  0.04,  0.16,  0.28,  0.4 ,  0.52,  0.64,  0.76,\n",
       "        0.88,  1.  ])"
      ]
     },
     "execution_count": 94,
     "metadata": {},
     "output_type": "execute_result"
    }
   ],
   "source": [
    "np.linspace(-.2, 1, 11)"
   ]
  },
  {
   "cell_type": "code",
   "execution_count": 116,
   "metadata": {},
   "outputs": [
    {
     "data": {
      "text/plain": [
       "(297621, 561)"
      ]
     },
     "execution_count": 116,
     "metadata": {},
     "output_type": "execute_result"
    }
   ],
   "source": [
    "cca.X.shape"
   ]
  },
  {
   "cell_type": "code",
   "execution_count": 124,
   "metadata": {},
   "outputs": [],
   "source": [
    "a = np.asarray([[1,2,3,4,5,6],[7,8,9,10,11,12],[2,3,4,5,6,0],[8,9,10,11,12,0]]).T"
   ]
  },
  {
   "cell_type": "code",
   "execution_count": 125,
   "metadata": {},
   "outputs": [
    {
     "data": {
      "text/plain": [
       "array([[ 91, 217,  70, 160],\n",
       "       [217, 559, 190, 460],\n",
       "       [ 70, 190,  90, 210],\n",
       "       [160, 460, 210, 510]])"
      ]
     },
     "execution_count": 125,
     "metadata": {},
     "output_type": "execute_result"
    }
   ],
   "source": [
    "a.T @ a"
   ]
  },
  {
   "cell_type": "code",
   "execution_count": 127,
   "metadata": {},
   "outputs": [],
   "source": [
    "Val, Vec = np.linalg.eigh(a.T @ a)"
   ]
  },
  {
   "cell_type": "code",
   "execution_count": 131,
   "metadata": {},
   "outputs": [
    {
     "data": {
      "text/plain": [
       "(4, 4)"
      ]
     },
     "execution_count": 131,
     "metadata": {},
     "output_type": "execute_result"
    }
   ],
   "source": [
    "(Vec @ np.diag(np.sqrt(1/Val))).shape"
   ]
  },
  {
   "cell_type": "code",
   "execution_count": null,
   "metadata": {},
   "outputs": [],
   "source": []
  }
 ],
 "metadata": {
  "kernelspec": {
   "display_name": "Python 3",
   "language": "python",
   "name": "python3"
  },
  "language_info": {
   "codemirror_mode": {
    "name": "ipython",
    "version": 3
   },
   "file_extension": ".py",
   "mimetype": "text/x-python",
   "name": "python",
   "nbconvert_exporter": "python",
   "pygments_lexer": "ipython3",
   "version": "3.6.7"
  }
 },
 "nbformat": 4,
 "nbformat_minor": 2
}
