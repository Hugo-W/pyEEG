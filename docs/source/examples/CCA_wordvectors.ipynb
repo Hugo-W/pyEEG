{
 "cells": [
  {
   "cell_type": "markdown",
   "metadata": {},
   "source": [
    "# CCA with WordVectors"
   ]
  },
  {
   "cell_type": "markdown",
   "metadata": {},
   "source": [
    "## Import EEG"
   ]
  },
  {
   "cell_type": "code",
   "execution_count": 152,
   "metadata": {},
   "outputs": [
    {
     "name": "stderr",
     "output_type": "stream",
     "text": [
      "<ipython-input-152-ad5fa021cffc>:7: DeprecationWarning: stim_channel (default True in 0.17) will change to False in 0.18 and be removed in 0.19, set it to False in 0.17 to avoid this warning\n",
      "  raw = mne.io.read_raw_eeglab(fname, preload=True, event_id=event_id)\n"
     ]
    },
    {
     "name": "stdout",
     "output_type": "stream",
     "text": [
      "Used Annotations descriptions: ['boundary', 'story_onset']\n",
      "Setting up band-pass filter from 1 - 6 Hz\n",
      "l_trans_bandwidth chosen to be 1.0 Hz\n",
      "Filter length of 413 samples (3.304 sec) selected\n"
     ]
    },
    {
     "name": "stderr",
     "output_type": "stream",
     "text": [
      "C:\\Users\\Karen\\AppData\\Local\\conda\\conda\\envs\\mne\\lib\\site-packages\\mne\\annotations.py:315: RuntimeWarning: invalid value encountered in less\n",
      "  out_of_bounds = (absolute_onset > tmax) | (absolute_offset < tmin)\n",
      "C:\\Users\\Karen\\AppData\\Local\\conda\\conda\\envs\\mne\\lib\\site-packages\\mne\\annotations.py:324: RuntimeWarning: invalid value encountered in greater\n",
      "  clip_right_elem = (absolute_offset > tmax) & ~out_of_bounds\n",
      "<ipython-input-152-ad5fa021cffc>:7: RuntimeWarning: 1 events will be dropped because they occur on the same time sample as another event. `mne.io.Raw` objects store events on an event channel, which cannot represent two events on the same sample. Please use `read_annotations_eeglab` and create events using `events_from_annotations` to extract the original event structure. Then, you can e.g. subset the extracted events for constructing epochs.\n",
      "  raw = mne.io.read_raw_eeglab(fname, preload=True, event_id=event_id)\n"
     ]
    }
   ],
   "source": [
    "import numpy as np\n",
    "import mne\n",
    "import os\n",
    "import scipy.io as sio\n",
    "def load_eeg(fname, story_order):\n",
    "    event_id = dict(story_onset=12, boundary=-1)\n",
    "    raw = mne.io.read_raw_eeglab(fname, preload=True, event_id=event_id)\n",
    "    raw_eeg = raw.copy().pick_types(eeg=True)\n",
    "    n_channels = len(raw_eeg.ch_names)\n",
    "    info = raw_eeg.info\n",
    "    story_order_1kHz = mne.event.read_events(story_order)\n",
    "    story_order_125Hz = story_order_1kHz.copy()\n",
    "    for i in range(len(story_order_125Hz)):\n",
    "        story_order_125Hz[i,0] = story_order_125Hz[i,0]/8\n",
    "    return raw_eeg, story_order_125Hz, n_channels, info\n",
    "\n",
    "p = 3       # participant\n",
    "set_path = np.load(os.path.join(os.getcwd(), \"../../../../set_path.npy\"))\n",
    "order_path = np.load(os.path.join(os.getcwd(), \"../../../../story_order_path.npy\"))\n",
    "no_participants = len(set_path)\n",
    "raw_eeg = []\n",
    "story_order_125Hz = []\n",
    "raw_eegs, story_order_125Hzs, n_channels, info = load_eeg((os.path.join(os.getcwd(),\"../../../../\",set_path[p])), (os.path.join(os.getcwd(),\"../../../../\",order_path[p])))\n",
    "raw_eeg.append(raw_eegs.filter(1,6, h_trans_bandwidth=2))\n",
    "story_order_125Hz.append(story_order_125Hzs)\n",
    "sfreq =  info['sfreq']"
   ]
  },
  {
   "cell_type": "markdown",
   "metadata": {},
   "source": [
    "## Load WordVectors"
   ]
  },
  {
   "cell_type": "code",
   "execution_count": 153,
   "metadata": {},
   "outputs": [
    {
     "name": "stderr",
     "output_type": "stream",
     "text": [
      "C:\\Users\\Karen\\AppData\\Local\\conda\\conda\\envs\\mne\\lib\\site-packages\\scipy\\signal\\signaltools.py:2383: FutureWarning: Using a non-tuple sequence for multidimensional indexing is deprecated; use `arr[tuple(seq)]` instead of `arr[seq]`. In the future this will be interpreted as an array index, `arr[np.array(seq)]`, which will result either in an error or a different result.\n",
      "  return y[keep]\n",
      "C:\\Users\\Karen\\AppData\\Local\\conda\\conda\\envs\\mne\\lib\\site-packages\\scipy\\signal\\signaltools.py:3463: FutureWarning: Using a non-tuple sequence for multidimensional indexing is deprecated; use `arr[tuple(seq)]` instead of `arr[seq]`. In the future this will be interpreted as an array index, `arr[np.array(seq)]`, which will result either in an error or a different result.\n",
      "  return y[sl]\n",
      "C:\\Users\\Karen\\AppData\\Local\\conda\\conda\\envs\\mne\\lib\\site-packages\\scipy\\signal\\_arraytools.py:45: FutureWarning: Using a non-tuple sequence for multidimensional indexing is deprecated; use `arr[tuple(seq)]` instead of `arr[seq]`. In the future this will be interpreted as an array index, `arr[np.array(seq)]`, which will result either in an error or a different result.\n",
      "  b = a[a_slice]\n",
      "C:\\Users\\Karen\\AppData\\Local\\conda\\conda\\envs\\mne\\lib\\site-packages\\scipy\\signal\\signaltools.py:2383: FutureWarning: Using a non-tuple sequence for multidimensional indexing is deprecated; use `arr[tuple(seq)]` instead of `arr[seq]`. In the future this will be interpreted as an array index, `arr[np.array(seq)]`, which will result either in an error or a different result.\n",
      "  return y[keep]\n",
      "C:\\Users\\Karen\\AppData\\Local\\conda\\conda\\envs\\mne\\lib\\site-packages\\scipy\\signal\\signaltools.py:3463: FutureWarning: Using a non-tuple sequence for multidimensional indexing is deprecated; use `arr[tuple(seq)]` instead of `arr[seq]`. In the future this will be interpreted as an array index, `arr[np.array(seq)]`, which will result either in an error or a different result.\n",
      "  return y[sl]\n",
      "C:\\Users\\Karen\\AppData\\Local\\conda\\conda\\envs\\mne\\lib\\site-packages\\scipy\\signal\\_arraytools.py:45: FutureWarning: Using a non-tuple sequence for multidimensional indexing is deprecated; use `arr[tuple(seq)]` instead of `arr[seq]`. In the future this will be interpreted as an array index, `arr[np.array(seq)]`, which will result either in an error or a different result.\n",
      "  b = a[a_slice]\n",
      "C:\\Users\\Karen\\AppData\\Local\\conda\\conda\\envs\\mne\\lib\\site-packages\\scipy\\signal\\signaltools.py:2383: FutureWarning: Using a non-tuple sequence for multidimensional indexing is deprecated; use `arr[tuple(seq)]` instead of `arr[seq]`. In the future this will be interpreted as an array index, `arr[np.array(seq)]`, which will result either in an error or a different result.\n",
      "  return y[keep]\n",
      "C:\\Users\\Karen\\AppData\\Local\\conda\\conda\\envs\\mne\\lib\\site-packages\\scipy\\signal\\signaltools.py:3463: FutureWarning: Using a non-tuple sequence for multidimensional indexing is deprecated; use `arr[tuple(seq)]` instead of `arr[seq]`. In the future this will be interpreted as an array index, `arr[np.array(seq)]`, which will result either in an error or a different result.\n",
      "  return y[sl]\n",
      "C:\\Users\\Karen\\AppData\\Local\\conda\\conda\\envs\\mne\\lib\\site-packages\\scipy\\signal\\_arraytools.py:45: FutureWarning: Using a non-tuple sequence for multidimensional indexing is deprecated; use `arr[tuple(seq)]` instead of `arr[seq]`. In the future this will be interpreted as an array index, `arr[np.array(seq)]`, which will result either in an error or a different result.\n",
      "  b = a[a_slice]\n",
      "C:\\Users\\Karen\\AppData\\Local\\conda\\conda\\envs\\mne\\lib\\site-packages\\scipy\\signal\\signaltools.py:2383: FutureWarning: Using a non-tuple sequence for multidimensional indexing is deprecated; use `arr[tuple(seq)]` instead of `arr[seq]`. In the future this will be interpreted as an array index, `arr[np.array(seq)]`, which will result either in an error or a different result.\n",
      "  return y[keep]\n",
      "C:\\Users\\Karen\\AppData\\Local\\conda\\conda\\envs\\mne\\lib\\site-packages\\scipy\\signal\\signaltools.py:3463: FutureWarning: Using a non-tuple sequence for multidimensional indexing is deprecated; use `arr[tuple(seq)]` instead of `arr[seq]`. In the future this will be interpreted as an array index, `arr[np.array(seq)]`, which will result either in an error or a different result.\n",
      "  return y[sl]\n",
      "C:\\Users\\Karen\\AppData\\Local\\conda\\conda\\envs\\mne\\lib\\site-packages\\scipy\\signal\\_arraytools.py:45: FutureWarning: Using a non-tuple sequence for multidimensional indexing is deprecated; use `arr[tuple(seq)]` instead of `arr[seq]`. In the future this will be interpreted as an array index, `arr[np.array(seq)]`, which will result either in an error or a different result.\n",
      "  b = a[a_slice]\n",
      "C:\\Users\\Karen\\AppData\\Local\\conda\\conda\\envs\\mne\\lib\\site-packages\\scipy\\signal\\signaltools.py:2383: FutureWarning: Using a non-tuple sequence for multidimensional indexing is deprecated; use `arr[tuple(seq)]` instead of `arr[seq]`. In the future this will be interpreted as an array index, `arr[np.array(seq)]`, which will result either in an error or a different result.\n",
      "  return y[keep]\n",
      "C:\\Users\\Karen\\AppData\\Local\\conda\\conda\\envs\\mne\\lib\\site-packages\\scipy\\signal\\signaltools.py:3463: FutureWarning: Using a non-tuple sequence for multidimensional indexing is deprecated; use `arr[tuple(seq)]` instead of `arr[seq]`. In the future this will be interpreted as an array index, `arr[np.array(seq)]`, which will result either in an error or a different result.\n",
      "  return y[sl]\n",
      "C:\\Users\\Karen\\AppData\\Local\\conda\\conda\\envs\\mne\\lib\\site-packages\\scipy\\signal\\_arraytools.py:45: FutureWarning: Using a non-tuple sequence for multidimensional indexing is deprecated; use `arr[tuple(seq)]` instead of `arr[seq]`. In the future this will be interpreted as an array index, `arr[np.array(seq)]`, which will result either in an error or a different result.\n",
      "  b = a[a_slice]\n",
      "C:\\Users\\Karen\\AppData\\Local\\conda\\conda\\envs\\mne\\lib\\site-packages\\scipy\\signal\\signaltools.py:2383: FutureWarning: Using a non-tuple sequence for multidimensional indexing is deprecated; use `arr[tuple(seq)]` instead of `arr[seq]`. In the future this will be interpreted as an array index, `arr[np.array(seq)]`, which will result either in an error or a different result.\n",
      "  return y[keep]\n",
      "C:\\Users\\Karen\\AppData\\Local\\conda\\conda\\envs\\mne\\lib\\site-packages\\scipy\\signal\\signaltools.py:3463: FutureWarning: Using a non-tuple sequence for multidimensional indexing is deprecated; use `arr[tuple(seq)]` instead of `arr[seq]`. In the future this will be interpreted as an array index, `arr[np.array(seq)]`, which will result either in an error or a different result.\n",
      "  return y[sl]\n",
      "C:\\Users\\Karen\\AppData\\Local\\conda\\conda\\envs\\mne\\lib\\site-packages\\scipy\\signal\\_arraytools.py:45: FutureWarning: Using a non-tuple sequence for multidimensional indexing is deprecated; use `arr[tuple(seq)]` instead of `arr[seq]`. In the future this will be interpreted as an array index, `arr[np.array(seq)]`, which will result either in an error or a different result.\n",
      "  b = a[a_slice]\n",
      "C:\\Users\\Karen\\AppData\\Local\\conda\\conda\\envs\\mne\\lib\\site-packages\\scipy\\signal\\signaltools.py:2383: FutureWarning: Using a non-tuple sequence for multidimensional indexing is deprecated; use `arr[tuple(seq)]` instead of `arr[seq]`. In the future this will be interpreted as an array index, `arr[np.array(seq)]`, which will result either in an error or a different result.\n",
      "  return y[keep]\n",
      "C:\\Users\\Karen\\AppData\\Local\\conda\\conda\\envs\\mne\\lib\\site-packages\\scipy\\signal\\signaltools.py:3463: FutureWarning: Using a non-tuple sequence for multidimensional indexing is deprecated; use `arr[tuple(seq)]` instead of `arr[seq]`. In the future this will be interpreted as an array index, `arr[np.array(seq)]`, which will result either in an error or a different result.\n",
      "  return y[sl]\n",
      "C:\\Users\\Karen\\AppData\\Local\\conda\\conda\\envs\\mne\\lib\\site-packages\\scipy\\signal\\_arraytools.py:45: FutureWarning: Using a non-tuple sequence for multidimensional indexing is deprecated; use `arr[tuple(seq)]` instead of `arr[seq]`. In the future this will be interpreted as an array index, `arr[np.array(seq)]`, which will result either in an error or a different result.\n",
      "  b = a[a_slice]\n",
      "C:\\Users\\Karen\\AppData\\Local\\conda\\conda\\envs\\mne\\lib\\site-packages\\scipy\\signal\\signaltools.py:2383: FutureWarning: Using a non-tuple sequence for multidimensional indexing is deprecated; use `arr[tuple(seq)]` instead of `arr[seq]`. In the future this will be interpreted as an array index, `arr[np.array(seq)]`, which will result either in an error or a different result.\n",
      "  return y[keep]\n",
      "C:\\Users\\Karen\\AppData\\Local\\conda\\conda\\envs\\mne\\lib\\site-packages\\scipy\\signal\\signaltools.py:3463: FutureWarning: Using a non-tuple sequence for multidimensional indexing is deprecated; use `arr[tuple(seq)]` instead of `arr[seq]`. In the future this will be interpreted as an array index, `arr[np.array(seq)]`, which will result either in an error or a different result.\n",
      "  return y[sl]\n",
      "C:\\Users\\Karen\\AppData\\Local\\conda\\conda\\envs\\mne\\lib\\site-packages\\scipy\\signal\\_arraytools.py:45: FutureWarning: Using a non-tuple sequence for multidimensional indexing is deprecated; use `arr[tuple(seq)]` instead of `arr[seq]`. In the future this will be interpreted as an array index, `arr[np.array(seq)]`, which will result either in an error or a different result.\n",
      "  b = a[a_slice]\n",
      "C:\\Users\\Karen\\AppData\\Local\\conda\\conda\\envs\\mne\\lib\\site-packages\\scipy\\signal\\signaltools.py:2383: FutureWarning: Using a non-tuple sequence for multidimensional indexing is deprecated; use `arr[tuple(seq)]` instead of `arr[seq]`. In the future this will be interpreted as an array index, `arr[np.array(seq)]`, which will result either in an error or a different result.\n",
      "  return y[keep]\n",
      "C:\\Users\\Karen\\AppData\\Local\\conda\\conda\\envs\\mne\\lib\\site-packages\\scipy\\signal\\signaltools.py:3463: FutureWarning: Using a non-tuple sequence for multidimensional indexing is deprecated; use `arr[tuple(seq)]` instead of `arr[seq]`. In the future this will be interpreted as an array index, `arr[np.array(seq)]`, which will result either in an error or a different result.\n",
      "  return y[sl]\n",
      "C:\\Users\\Karen\\AppData\\Local\\conda\\conda\\envs\\mne\\lib\\site-packages\\scipy\\signal\\_arraytools.py:45: FutureWarning: Using a non-tuple sequence for multidimensional indexing is deprecated; use `arr[tuple(seq)]` instead of `arr[seq]`. In the future this will be interpreted as an array index, `arr[np.array(seq)]`, which will result either in an error or a different result.\n",
      "  b = a[a_slice]\n"
     ]
    },
    {
     "name": "stderr",
     "output_type": "stream",
     "text": [
      "C:\\Users\\Karen\\AppData\\Local\\conda\\conda\\envs\\mne\\lib\\site-packages\\scipy\\signal\\signaltools.py:2383: FutureWarning: Using a non-tuple sequence for multidimensional indexing is deprecated; use `arr[tuple(seq)]` instead of `arr[seq]`. In the future this will be interpreted as an array index, `arr[np.array(seq)]`, which will result either in an error or a different result.\n",
      "  return y[keep]\n",
      "C:\\Users\\Karen\\AppData\\Local\\conda\\conda\\envs\\mne\\lib\\site-packages\\scipy\\signal\\signaltools.py:3463: FutureWarning: Using a non-tuple sequence for multidimensional indexing is deprecated; use `arr[tuple(seq)]` instead of `arr[seq]`. In the future this will be interpreted as an array index, `arr[np.array(seq)]`, which will result either in an error or a different result.\n",
      "  return y[sl]\n",
      "C:\\Users\\Karen\\AppData\\Local\\conda\\conda\\envs\\mne\\lib\\site-packages\\scipy\\signal\\_arraytools.py:45: FutureWarning: Using a non-tuple sequence for multidimensional indexing is deprecated; use `arr[tuple(seq)]` instead of `arr[seq]`. In the future this will be interpreted as an array index, `arr[np.array(seq)]`, which will result either in an error or a different result.\n",
      "  b = a[a_slice]\n",
      "C:\\Users\\Karen\\AppData\\Local\\conda\\conda\\envs\\mne\\lib\\site-packages\\scipy\\signal\\signaltools.py:2383: FutureWarning: Using a non-tuple sequence for multidimensional indexing is deprecated; use `arr[tuple(seq)]` instead of `arr[seq]`. In the future this will be interpreted as an array index, `arr[np.array(seq)]`, which will result either in an error or a different result.\n",
      "  return y[keep]\n",
      "C:\\Users\\Karen\\AppData\\Local\\conda\\conda\\envs\\mne\\lib\\site-packages\\scipy\\signal\\signaltools.py:3463: FutureWarning: Using a non-tuple sequence for multidimensional indexing is deprecated; use `arr[tuple(seq)]` instead of `arr[seq]`. In the future this will be interpreted as an array index, `arr[np.array(seq)]`, which will result either in an error or a different result.\n",
      "  return y[sl]\n",
      "C:\\Users\\Karen\\AppData\\Local\\conda\\conda\\envs\\mne\\lib\\site-packages\\scipy\\signal\\_arraytools.py:45: FutureWarning: Using a non-tuple sequence for multidimensional indexing is deprecated; use `arr[tuple(seq)]` instead of `arr[seq]`. In the future this will be interpreted as an array index, `arr[np.array(seq)]`, which will result either in an error or a different result.\n",
      "  b = a[a_slice]\n",
      "C:\\Users\\Karen\\AppData\\Local\\conda\\conda\\envs\\mne\\lib\\site-packages\\scipy\\signal\\signaltools.py:2383: FutureWarning: Using a non-tuple sequence for multidimensional indexing is deprecated; use `arr[tuple(seq)]` instead of `arr[seq]`. In the future this will be interpreted as an array index, `arr[np.array(seq)]`, which will result either in an error or a different result.\n",
      "  return y[keep]\n",
      "C:\\Users\\Karen\\AppData\\Local\\conda\\conda\\envs\\mne\\lib\\site-packages\\scipy\\signal\\signaltools.py:3463: FutureWarning: Using a non-tuple sequence for multidimensional indexing is deprecated; use `arr[tuple(seq)]` instead of `arr[seq]`. In the future this will be interpreted as an array index, `arr[np.array(seq)]`, which will result either in an error or a different result.\n",
      "  return y[sl]\n",
      "C:\\Users\\Karen\\AppData\\Local\\conda\\conda\\envs\\mne\\lib\\site-packages\\scipy\\signal\\_arraytools.py:45: FutureWarning: Using a non-tuple sequence for multidimensional indexing is deprecated; use `arr[tuple(seq)]` instead of `arr[seq]`. In the future this will be interpreted as an array index, `arr[np.array(seq)]`, which will result either in an error or a different result.\n",
      "  b = a[a_slice]\n",
      "C:\\Users\\Karen\\AppData\\Local\\conda\\conda\\envs\\mne\\lib\\site-packages\\scipy\\signal\\signaltools.py:2383: FutureWarning: Using a non-tuple sequence for multidimensional indexing is deprecated; use `arr[tuple(seq)]` instead of `arr[seq]`. In the future this will be interpreted as an array index, `arr[np.array(seq)]`, which will result either in an error or a different result.\n",
      "  return y[keep]\n",
      "C:\\Users\\Karen\\AppData\\Local\\conda\\conda\\envs\\mne\\lib\\site-packages\\scipy\\signal\\signaltools.py:3463: FutureWarning: Using a non-tuple sequence for multidimensional indexing is deprecated; use `arr[tuple(seq)]` instead of `arr[seq]`. In the future this will be interpreted as an array index, `arr[np.array(seq)]`, which will result either in an error or a different result.\n",
      "  return y[sl]\n",
      "C:\\Users\\Karen\\AppData\\Local\\conda\\conda\\envs\\mne\\lib\\site-packages\\scipy\\signal\\_arraytools.py:45: FutureWarning: Using a non-tuple sequence for multidimensional indexing is deprecated; use `arr[tuple(seq)]` instead of `arr[seq]`. In the future this will be interpreted as an array index, `arr[np.array(seq)]`, which will result either in an error or a different result.\n",
      "  b = a[a_slice]\n",
      "C:\\Users\\Karen\\AppData\\Local\\conda\\conda\\envs\\mne\\lib\\site-packages\\scipy\\signal\\signaltools.py:2383: FutureWarning: Using a non-tuple sequence for multidimensional indexing is deprecated; use `arr[tuple(seq)]` instead of `arr[seq]`. In the future this will be interpreted as an array index, `arr[np.array(seq)]`, which will result either in an error or a different result.\n",
      "  return y[keep]\n",
      "C:\\Users\\Karen\\AppData\\Local\\conda\\conda\\envs\\mne\\lib\\site-packages\\scipy\\signal\\signaltools.py:3463: FutureWarning: Using a non-tuple sequence for multidimensional indexing is deprecated; use `arr[tuple(seq)]` instead of `arr[seq]`. In the future this will be interpreted as an array index, `arr[np.array(seq)]`, which will result either in an error or a different result.\n",
      "  return y[sl]\n",
      "C:\\Users\\Karen\\AppData\\Local\\conda\\conda\\envs\\mne\\lib\\site-packages\\scipy\\signal\\_arraytools.py:45: FutureWarning: Using a non-tuple sequence for multidimensional indexing is deprecated; use `arr[tuple(seq)]` instead of `arr[seq]`. In the future this will be interpreted as an array index, `arr[np.array(seq)]`, which will result either in an error or a different result.\n",
      "  b = a[a_slice]\n",
      "C:\\Users\\Karen\\AppData\\Local\\conda\\conda\\envs\\mne\\lib\\site-packages\\scipy\\signal\\signaltools.py:2383: FutureWarning: Using a non-tuple sequence for multidimensional indexing is deprecated; use `arr[tuple(seq)]` instead of `arr[seq]`. In the future this will be interpreted as an array index, `arr[np.array(seq)]`, which will result either in an error or a different result.\n",
      "  return y[keep]\n",
      "C:\\Users\\Karen\\AppData\\Local\\conda\\conda\\envs\\mne\\lib\\site-packages\\scipy\\signal\\signaltools.py:3463: FutureWarning: Using a non-tuple sequence for multidimensional indexing is deprecated; use `arr[tuple(seq)]` instead of `arr[seq]`. In the future this will be interpreted as an array index, `arr[np.array(seq)]`, which will result either in an error or a different result.\n",
      "  return y[sl]\n",
      "C:\\Users\\Karen\\AppData\\Local\\conda\\conda\\envs\\mne\\lib\\site-packages\\scipy\\signal\\_arraytools.py:45: FutureWarning: Using a non-tuple sequence for multidimensional indexing is deprecated; use `arr[tuple(seq)]` instead of `arr[seq]`. In the future this will be interpreted as an array index, `arr[np.array(seq)]`, which will result either in an error or a different result.\n",
      "  b = a[a_slice]\n"
     ]
    }
   ],
   "source": [
    "from scipy.io import wavfile\n",
    "from scipy import signal\n",
    "from sklearn.preprocessing import scale\n",
    "def get_env():\n",
    "    story_name_path = sio.loadmat(os.path.join(os.getcwd(), \"../../../../story_name_path.mat\"))['story_name_loc']            \n",
    "    sfreq = 125\n",
    "    envelopes = [];\n",
    "    for i in range(15):\n",
    "        envelope, time = load_env(story_name_path[i], sfreq)\n",
    "        envelope = np.reshape(scale(envelope.T),(len(envelope),1))\n",
    "        envelopes.append(envelope)        \n",
    "    return envelopes\n",
    "\n",
    "def load_env(fname, sfreq):\n",
    "    fs, data = wavfile.read(os.path.join(os.getcwd(), \"../../../../\",fname))\n",
    "    time = np.linspace(0., len(data)/fs, len(data))\n",
    "    data = abs(data)\n",
    "    speech = signal.decimate(x=data, q=int(fs/sfreq), ftype='fir')\n",
    "    b, a = signal.butter(3, 0.12, 'low')\n",
    "    speech = signal.filtfilt(b, a, speech)\n",
    "    return speech, time\n",
    "\n",
    "envelopes = get_env()"
   ]
  },
  {
   "cell_type": "markdown",
   "metadata": {},
   "source": [
    "## Order EEG according to envelope"
   ]
  },
  {
   "cell_type": "code",
   "execution_count": 154,
   "metadata": {},
   "outputs": [],
   "source": [
    "def all_eeg_ordered(raw_eeg, story_order_125Hz, envelopes, no_participants):\n",
    "    all_raw_stories = []\n",
    "    all_times = []\n",
    "    speech_duration = np.zeros((15,1))\n",
    "    for n in range(1):\n",
    "        raw_stories = []\n",
    "        times = []\n",
    "        for i in range(15):\n",
    "            raw_story, time = get_eeg_ordered(raw_eeg[n],story_order_125Hz[n],envelopes[i],i)\n",
    "            raw_stories.append(raw_story.T)\n",
    "            times.append(time)\n",
    "            speech_duration[i] = len(envelopes[i]) \n",
    "        all_raw_stories.append(raw_stories)\n",
    "        all_times.append(times)\n",
    "    return all_raw_stories, speech_duration\n",
    "\n",
    "def get_eeg_ordered(raw_eeg, story_order_125Hz, envelope, story_no):\n",
    "    raw_story, times = raw_eeg[:,story_order_125Hz[story_order_125Hz[:,2]==story_no][0][0]:(story_order_125Hz[story_order_125Hz[:,2]==story_no][0][0]+len(envelope))]\n",
    "    return raw_story, times\n",
    "\n",
    "stories, speech_duration = all_eeg_ordered(raw_eeg, story_order_125Hz, envelopes, no_participants)"
   ]
  },
  {
   "cell_type": "markdown",
   "metadata": {},
   "source": [
    "## Load WordVectors"
   ]
  },
  {
   "cell_type": "code",
   "execution_count": 155,
   "metadata": {},
   "outputs": [],
   "source": [
    "# from pyeeg.io import WordLevelFeatures\n",
    "# import pandas as pd\n",
    "\n",
    "# def load_onset(sfreq, speech_duration):\n",
    "#     onset_path = np.load(os.path.join(os.getcwd(), \"../../../../word_onsets_path.npy\"))\n",
    "#     word_onsets = []\n",
    "#     for i in range(len(onset_path)):\n",
    "#         my_data = pd.read_csv(os.path.join(os.getcwd(), \"../../../../\",onset_path[i]))['onset'].values\n",
    "#         t_spikes = np.zeros((int(speech_duration[i,0]),))\n",
    "#         onset_samples = np.round(my_data * sfreq).astype(int)\n",
    "#         t_spikes[onset_samples] = 1.\n",
    "#         word_onsets.append(t_spikes)\n",
    "#     return word_onsets\n",
    "\n",
    "# word_onsets = load_onset(sfreq, speech_duration)\n"
   ]
  },
  {
   "cell_type": "code",
   "execution_count": 156,
   "metadata": {},
   "outputs": [
    {
     "name": "stderr",
     "output_type": "stream",
     "text": [
      "INFO:pyeeg.io:Word armchair not in word embedding model; will use rdm instead\n",
      "INFO:pyeeg.io:Word untying not in word embedding model; will use rdm instead\n",
      "INFO:pyeeg.io:Word bonnet-strings not in word embedding model; will use rdm instead\n",
      "INFO:pyeeg.io:Word flushington not in word embedding model; will use rdm instead\n",
      "INFO:pyeeg.io:Word tottered not in word embedding model; will use rdm instead\n",
      "INFO:pyeeg.io:Word don't not in word embedding model; will use rdm instead\n",
      "INFO:pyeeg.io:Word reprovingly not in word embedding model; will use rdm instead\n",
      "INFO:pyeeg.io:Word flushington not in word embedding model; will use rdm instead\n",
      "INFO:pyeeg.io:Word tolerably not in word embedding model; will use rdm instead\n",
      "INFO:pyeeg.io:Word flushington not in word embedding model; will use rdm instead\n",
      "INFO:pyeeg.io:Word stoniness not in word embedding model; will use rdm instead\n",
      "INFO:pyeeg.io:Word flushington not in word embedding model; will use rdm instead\n",
      "INFO:pyeeg.io:Word recollect not in word embedding model; will use rdm instead\n",
      "INFO:pyeeg.io:Word inwardly not in word embedding model; will use rdm instead\n",
      "INFO:pyeeg.io:Word they'd not in word embedding model; will use rdm instead\n",
      "INFO:pyeeg.io:Word here's not in word embedding model; will use rdm instead\n",
      "INFO:pyeeg.io:Word sister's not in word embedding model; will use rdm instead\n",
      "INFO:pyeeg.io:Word doesn't not in word embedding model; will use rdm instead\n",
      "INFO:pyeeg.io:Word cousin's not in word embedding model; will use rdm instead\n",
      "INFO:pyeeg.io:Word we're not in word embedding model; will use rdm instead\n",
      "INFO:pyeeg.io:Word can't not in word embedding model; will use rdm instead\n"
     ]
    }
   ],
   "source": [
    "from pyeeg.io import WordLevelFeatures\n",
    "wo_path = os.path.join(os.getcwd(), \"../../../..\", np.load(os.path.join(os.getcwd(), \"../../../../word_onsets_path.npy\"))[p])\n",
    "wv_path = os.path.join( os.getcwd(), '../../../../../WordVectors/glove.6B.50d-Copy.txt')\n",
    "wf = WordLevelFeatures(path_wordonsets=wo_path, path_wordvectors=wv_path)\n",
    "setattr(wf, 'duration', np.sum(speech_duration)/125)"
   ]
  },
  {
   "cell_type": "code",
   "execution_count": 157,
   "metadata": {},
   "outputs": [],
   "source": [
    "feat_matrix = wf.align_word_features(features=['wordvectors'], srate=125, wordonset_feature=False)"
   ]
  },
  {
   "cell_type": "code",
   "execution_count": 158,
   "metadata": {},
   "outputs": [],
   "source": [
    "#feat_matrix = wf.align_word_features(features=[], srate=125, wordonset_feature=True)"
   ]
  },
  {
   "cell_type": "code",
   "execution_count": 159,
   "metadata": {},
   "outputs": [],
   "source": [
    "feat_matrix = feat_matrix[:, :5]"
   ]
  },
  {
   "cell_type": "code",
   "execution_count": 160,
   "metadata": {},
   "outputs": [
    {
     "data": {
      "text/plain": [
       "(297772, 5)"
      ]
     },
     "execution_count": 160,
     "metadata": {},
     "output_type": "execute_result"
    }
   ],
   "source": [
    "feat_matrix.shape"
   ]
  },
  {
   "cell_type": "markdown",
   "metadata": {},
   "source": [
    "## Run CCA modelling"
   ]
  },
  {
   "cell_type": "code",
   "execution_count": 161,
   "metadata": {},
   "outputs": [],
   "source": [
    "x = feat_matrix[:-1,:]\n",
    "y = np.concatenate(stories[0])"
   ]
  },
  {
   "cell_type": "code",
   "execution_count": 162,
   "metadata": {},
   "outputs": [
    {
     "name": "stderr",
     "output_type": "stream",
     "text": [
      "INFO:pyeeg.cca:Will use lags spanning form tmin to tmax.\n",
      "To use individual lags, use the `times` argument...\n"
     ]
    }
   ],
   "source": [
    "from pyeeg.cca import CCA_Estimator\n",
    "cca = CCA_Estimator(tmin=-0.2, tmax=1., srate=info['sfreq'])\n",
    "cca.fit(x, y, thresh_x=0.999, thresh_y=0.999, feat_names=[\"WordVectors\"])    # best to use all components but only display first few"
   ]
  },
  {
   "cell_type": "code",
   "execution_count": 163,
   "metadata": {},
   "outputs": [
    {
     "data": {
      "text/plain": [
       "(750, 47)"
      ]
     },
     "execution_count": 163,
     "metadata": {},
     "output_type": "execute_result"
    }
   ],
   "source": [
    "cca.coefStim_.shape"
   ]
  },
  {
   "cell_type": "code",
   "execution_count": 164,
   "metadata": {},
   "outputs": [],
   "source": [
    "# instead of n_lags the output is nlags x n_dim for the first dimension...\n",
    "test = cca.coefStim_.copy()\n",
    "test = test.reshape(len(cca.lags), 5, 47)"
   ]
  },
  {
   "cell_type": "code",
   "execution_count": 165,
   "metadata": {},
   "outputs": [
    {
     "data": {
      "image/png": "[encoded data removed]",
      "text/plain": [
       "<Figure size 432x288 with 1 Axes>"
      ]
     },
     "metadata": {
      "needs_background": "light"
     },
     "output_type": "display_data"
    }
   ],
   "source": [
    "%matplotlib inline\n",
    "plt.plot(cca.times, test[ :, 4, :3])\n",
    "plt.ylim([-0.02, 0.02]);"
   ]
  },
  {
   "cell_type": "code",
   "execution_count": 150,
   "metadata": {},
   "outputs": [
    {
     "data": {
      "text/plain": [
       "<matplotlib.colorbar.Colorbar at 0x1cf00003e80>"
      ]
     },
     "execution_count": 150,
     "metadata": {},
     "output_type": "execute_result"
    },
    {
     "data": {
      "image/png": "[encoded data removed]",
      "text/plain": [
       "<Figure size 432x288 with 2 Axes>"
      ]
     },
     "metadata": {
      "needs_background": "light"
     },
     "output_type": "display_data"
    }
   ],
   "source": [
    "plt.imshow(test[:, :, 0].T, aspect='auto', origin='bottom', extent=[cca.times[0], cca.times[-1], 0, 10])\n",
    "plt.colorbar()"
   ]
  },
  {
   "cell_type": "code",
   "execution_count": 151,
   "metadata": {},
   "outputs": [
    {
     "data": {
      "image/png": "[encoded data removed]",
      "text/plain": [
       "<Figure size 432x288 with 1 Axes>"
      ]
     },
     "metadata": {
      "needs_background": "light"
     },
     "output_type": "display_data"
    }
   ],
   "source": [
    "%matplotlib inline\n",
    "plt.plot(cca.times, cca.coefStim_[4::5,:3])\n",
    "plt.ylim([-0.02, 0.02]);"
   ]
  },
  {
   "cell_type": "code",
   "execution_count": null,
   "metadata": {},
   "outputs": [],
   "source": [
    "import matplotlib.pyplot as plt\n",
    "cca.plot_time_filter(n_comp=5)\n",
    "plt.figure()\n",
    "cca.plot_time_filter(n_comp=5, feat_id=1)"
   ]
  },
  {
   "cell_type": "code",
   "execution_count": null,
   "metadata": {},
   "outputs": [],
   "source": [
    "cca.coefResponse_.shape"
   ]
  },
  {
   "cell_type": "code",
   "execution_count": null,
   "metadata": {},
   "outputs": [],
   "source": [
    "cca.plot_activation_map(info, n_comp=5)"
   ]
  },
  {
   "cell_type": "code",
   "execution_count": null,
   "metadata": {},
   "outputs": [],
   "source": [
    "cca.plot_spatial_filter(info, n_comp=5)"
   ]
  },
  {
   "cell_type": "code",
   "execution_count": null,
   "metadata": {},
   "outputs": [],
   "source": [
    "cca.plot_time_filter(n_comp=2)"
   ]
  },
  {
   "cell_type": "code",
   "execution_count": null,
   "metadata": {},
   "outputs": [],
   "source": []
  }
 ],
 "metadata": {
  "kernelspec": {
   "display_name": "Python 3",
   "language": "python",
   "name": "python3"
  },
  "language_info": {
   "codemirror_mode": {
    "name": "ipython",
    "version": 3
   },
   "file_extension": ".py",
   "mimetype": "text/x-python",
   "name": "python",
   "nbconvert_exporter": "python",
   "pygments_lexer": "ipython3",
   "version": "3.6.7"
  }
 },
 "nbformat": 4,
 "nbformat_minor": 2
}
