{
 "cells": [
  {
   "cell_type": "markdown",
   "metadata": {},
   "source": [
    "# CCA Tutorial"
   ]
  },
  {
   "cell_type": "markdown",
   "metadata": {},
   "source": [
    "How to use CCA on sound envelope"
   ]
  },
  {
   "cell_type": "markdown",
   "metadata": {},
   "source": [
    "## Import EEG"
   ]
  },
  {
   "cell_type": "code",
   "execution_count": 1,
   "metadata": {},
   "outputs": [
    {
     "name": "stderr",
     "output_type": "stream",
     "text": [
      "<ipython-input-1-ed29da8bd2c2>:7: DeprecationWarning: stim_channel (default True in 0.17) will change to False in 0.18 and be removed in 0.19, set it to False in 0.17 to avoid this warning\n",
      "  raw = mne.io.read_raw_eeglab(fname, preload=True, event_id=event_id)\n"
     ]
    },
    {
     "name": "stdout",
     "output_type": "stream",
     "text": [
      "Used Annotations descriptions: ['boundary', 'story_onset']\n",
      "Setting up band-pass filter from 1 - 15 Hz\n"
     ]
    },
    {
     "name": "stderr",
     "output_type": "stream",
     "text": [
      "C:\\Users\\Karen\\AppData\\Local\\conda\\conda\\envs\\mne\\lib\\site-packages\\mne\\annotations.py:315: RuntimeWarning: invalid value encountered in less\n",
      "  out_of_bounds = (absolute_onset > tmax) | (absolute_offset < tmin)\n",
      "C:\\Users\\Karen\\AppData\\Local\\conda\\conda\\envs\\mne\\lib\\site-packages\\mne\\annotations.py:324: RuntimeWarning: invalid value encountered in greater\n",
      "  clip_right_elem = (absolute_offset > tmax) & ~out_of_bounds\n"
     ]
    },
    {
     "name": "stdout",
     "output_type": "stream",
     "text": [
      "l_trans_bandwidth chosen to be 1.0 Hz\n",
      "Filter length of 413 samples (3.304 sec) selected\n"
     ]
    },
    {
     "name": "stderr",
     "output_type": "stream",
     "text": [
      "<ipython-input-1-ed29da8bd2c2>:7: DeprecationWarning: stim_channel (default True in 0.17) will change to False in 0.18 and be removed in 0.19, set it to False in 0.17 to avoid this warning\n",
      "  raw = mne.io.read_raw_eeglab(fname, preload=True, event_id=event_id)\n"
     ]
    },
    {
     "name": "stdout",
     "output_type": "stream",
     "text": [
      "Used Annotations descriptions: ['boundary', 'story_onset']\n",
      "Setting up band-pass filter from 1 - 15 Hz\n",
      "l_trans_bandwidth chosen to be 1.0 Hz\n",
      "Filter length of 413 samples (3.304 sec) selected\n"
     ]
    },
    {
     "name": "stderr",
     "output_type": "stream",
     "text": [
      "<ipython-input-1-ed29da8bd2c2>:7: RuntimeWarning: 1 events will be dropped because they occur on the same time sample as another event. `mne.io.Raw` objects store events on an event channel, which cannot represent two events on the same sample. Please use `read_annotations_eeglab` and create events using `events_from_annotations` to extract the original event structure. Then, you can e.g. subset the extracted events for constructing epochs.\n",
      "  raw = mne.io.read_raw_eeglab(fname, preload=True, event_id=event_id)\n",
      "<ipython-input-1-ed29da8bd2c2>:7: DeprecationWarning: stim_channel (default True in 0.17) will change to False in 0.18 and be removed in 0.19, set it to False in 0.17 to avoid this warning\n",
      "  raw = mne.io.read_raw_eeglab(fname, preload=True, event_id=event_id)\n"
     ]
    },
    {
     "name": "stdout",
     "output_type": "stream",
     "text": [
      "Used Annotations descriptions: ['boundary', 'story_onset']\n",
      "Setting up band-pass filter from 1 - 15 Hz\n",
      "l_trans_bandwidth chosen to be 1.0 Hz\n",
      "Filter length of 413 samples (3.304 sec) selected\n"
     ]
    },
    {
     "name": "stderr",
     "output_type": "stream",
     "text": [
      "<ipython-input-1-ed29da8bd2c2>:7: DeprecationWarning: stim_channel (default True in 0.17) will change to False in 0.18 and be removed in 0.19, set it to False in 0.17 to avoid this warning\n",
      "  raw = mne.io.read_raw_eeglab(fname, preload=True, event_id=event_id)\n"
     ]
    },
    {
     "name": "stdout",
     "output_type": "stream",
     "text": [
      "Used Annotations descriptions: ['boundary', 'story_onset']\n",
      "Setting up band-pass filter from 1 - 15 Hz\n",
      "l_trans_bandwidth chosen to be 1.0 Hz\n",
      "Filter length of 413 samples (3.304 sec) selected\n"
     ]
    },
    {
     "name": "stderr",
     "output_type": "stream",
     "text": [
      "<ipython-input-1-ed29da8bd2c2>:7: RuntimeWarning: 1 events will be dropped because they occur on the same time sample as another event. `mne.io.Raw` objects store events on an event channel, which cannot represent two events on the same sample. Please use `read_annotations_eeglab` and create events using `events_from_annotations` to extract the original event structure. Then, you can e.g. subset the extracted events for constructing epochs.\n",
      "  raw = mne.io.read_raw_eeglab(fname, preload=True, event_id=event_id)\n",
      "<ipython-input-1-ed29da8bd2c2>:7: DeprecationWarning: stim_channel (default True in 0.17) will change to False in 0.18 and be removed in 0.19, set it to False in 0.17 to avoid this warning\n",
      "  raw = mne.io.read_raw_eeglab(fname, preload=True, event_id=event_id)\n"
     ]
    },
    {
     "name": "stdout",
     "output_type": "stream",
     "text": [
      "Used Annotations descriptions: ['boundary', 'story_onset']\n",
      "Setting up band-pass filter from 1 - 15 Hz\n",
      "l_trans_bandwidth chosen to be 1.0 Hz\n",
      "Filter length of 413 samples (3.304 sec) selected\n"
     ]
    },
    {
     "name": "stderr",
     "output_type": "stream",
     "text": [
      "<ipython-input-1-ed29da8bd2c2>:7: RuntimeWarning: 1 events will be dropped because they occur on the same time sample as another event. `mne.io.Raw` objects store events on an event channel, which cannot represent two events on the same sample. Please use `read_annotations_eeglab` and create events using `events_from_annotations` to extract the original event structure. Then, you can e.g. subset the extracted events for constructing epochs.\n",
      "  raw = mne.io.read_raw_eeglab(fname, preload=True, event_id=event_id)\n",
      "<ipython-input-1-ed29da8bd2c2>:7: DeprecationWarning: stim_channel (default True in 0.17) will change to False in 0.18 and be removed in 0.19, set it to False in 0.17 to avoid this warning\n",
      "  raw = mne.io.read_raw_eeglab(fname, preload=True, event_id=event_id)\n"
     ]
    },
    {
     "name": "stdout",
     "output_type": "stream",
     "text": [
      "Used Annotations descriptions: ['boundary', 'story_onset']\n",
      "Setting up band-pass filter from 1 - 15 Hz\n",
      "l_trans_bandwidth chosen to be 1.0 Hz\n",
      "Filter length of 413 samples (3.304 sec) selected\n"
     ]
    },
    {
     "name": "stderr",
     "output_type": "stream",
     "text": [
      "<ipython-input-1-ed29da8bd2c2>:7: DeprecationWarning: stim_channel (default True in 0.17) will change to False in 0.18 and be removed in 0.19, set it to False in 0.17 to avoid this warning\n",
      "  raw = mne.io.read_raw_eeglab(fname, preload=True, event_id=event_id)\n"
     ]
    },
    {
     "name": "stdout",
     "output_type": "stream",
     "text": [
      "Used Annotations descriptions: ['boundary', 'story_onset']\n",
      "Setting up band-pass filter from 1 - 15 Hz\n",
      "l_trans_bandwidth chosen to be 1.0 Hz\n",
      "Filter length of 413 samples (3.304 sec) selected\n"
     ]
    },
    {
     "name": "stderr",
     "output_type": "stream",
     "text": [
      "<ipython-input-1-ed29da8bd2c2>:7: DeprecationWarning: stim_channel (default True in 0.17) will change to False in 0.18 and be removed in 0.19, set it to False in 0.17 to avoid this warning\n",
      "  raw = mne.io.read_raw_eeglab(fname, preload=True, event_id=event_id)\n"
     ]
    },
    {
     "name": "stdout",
     "output_type": "stream",
     "text": [
      "Used Annotations descriptions: ['boundary', 'story_onset']\n"
     ]
    },
    {
     "name": "stderr",
     "output_type": "stream",
     "text": [
      "<ipython-input-1-ed29da8bd2c2>:7: RuntimeWarning: 1 events will be dropped because they occur on the same time sample as another event. `mne.io.Raw` objects store events on an event channel, which cannot represent two events on the same sample. Please use `read_annotations_eeglab` and create events using `events_from_annotations` to extract the original event structure. Then, you can e.g. subset the extracted events for constructing epochs.\n",
      "  raw = mne.io.read_raw_eeglab(fname, preload=True, event_id=event_id)\n"
     ]
    },
    {
     "name": "stdout",
     "output_type": "stream",
     "text": [
      "Setting up band-pass filter from 1 - 15 Hz\n",
      "l_trans_bandwidth chosen to be 1.0 Hz\n",
      "Filter length of 413 samples (3.304 sec) selected\n"
     ]
    },
    {
     "name": "stderr",
     "output_type": "stream",
     "text": [
      "<ipython-input-1-ed29da8bd2c2>:7: DeprecationWarning: stim_channel (default True in 0.17) will change to False in 0.18 and be removed in 0.19, set it to False in 0.17 to avoid this warning\n",
      "  raw = mne.io.read_raw_eeglab(fname, preload=True, event_id=event_id)\n"
     ]
    },
    {
     "name": "stdout",
     "output_type": "stream",
     "text": [
      "Used Annotations descriptions: ['boundary', 'story_onset', 'S  4', 'S  8', 'S  3', 'S  2', 'S  1']\n",
      "Setting up band-pass filter from 1 - 15 Hz\n"
     ]
    },
    {
     "name": "stderr",
     "output_type": "stream",
     "text": [
      "<ipython-input-1-ed29da8bd2c2>:7: RuntimeWarning: 1 events will be dropped because they occur on the same time sample as another event. `mne.io.Raw` objects store events on an event channel, which cannot represent two events on the same sample. Please use `read_annotations_eeglab` and create events using `events_from_annotations` to extract the original event structure. Then, you can e.g. subset the extracted events for constructing epochs.\n",
      "  raw = mne.io.read_raw_eeglab(fname, preload=True, event_id=event_id)\n"
     ]
    },
    {
     "name": "stdout",
     "output_type": "stream",
     "text": [
      "l_trans_bandwidth chosen to be 1.0 Hz\n",
      "Filter length of 413 samples (3.304 sec) selected\n"
     ]
    },
    {
     "name": "stderr",
     "output_type": "stream",
     "text": [
      "<ipython-input-1-ed29da8bd2c2>:7: DeprecationWarning: stim_channel (default True in 0.17) will change to False in 0.18 and be removed in 0.19, set it to False in 0.17 to avoid this warning\n",
      "  raw = mne.io.read_raw_eeglab(fname, preload=True, event_id=event_id)\n"
     ]
    },
    {
     "name": "stdout",
     "output_type": "stream",
     "text": [
      "Used Annotations descriptions: ['boundary', 'S  4', 'story_onset', 'S  8', 'S  3', 'S  2', 'S  1']\n",
      "Setting up band-pass filter from 1 - 15 Hz\n",
      "l_trans_bandwidth chosen to be 1.0 Hz\n",
      "Filter length of 413 samples (3.304 sec) selected\n"
     ]
    },
    {
     "name": "stderr",
     "output_type": "stream",
     "text": [
      "<ipython-input-1-ed29da8bd2c2>:7: DeprecationWarning: stim_channel (default True in 0.17) will change to False in 0.18 and be removed in 0.19, set it to False in 0.17 to avoid this warning\n",
      "  raw = mne.io.read_raw_eeglab(fname, preload=True, event_id=event_id)\n"
     ]
    },
    {
     "name": "stdout",
     "output_type": "stream",
     "text": [
      "Used Annotations descriptions: ['boundary', 'S  4', 'S  8', 'S  3', 'story_onset', 'S  1', 'S  2']\n",
      "Setting up band-pass filter from 1 - 15 Hz\n",
      "l_trans_bandwidth chosen to be 1.0 Hz\n",
      "Filter length of 413 samples (3.304 sec) selected\n"
     ]
    },
    {
     "name": "stderr",
     "output_type": "stream",
     "text": [
      "<ipython-input-1-ed29da8bd2c2>:7: DeprecationWarning: stim_channel (default True in 0.17) will change to False in 0.18 and be removed in 0.19, set it to False in 0.17 to avoid this warning\n",
      "  raw = mne.io.read_raw_eeglab(fname, preload=True, event_id=event_id)\n"
     ]
    },
    {
     "name": "stdout",
     "output_type": "stream",
     "text": [
      "Used Annotations descriptions: ['boundary', 'S  4', 'story_onset', 'S  8', 'S  3', 'S  2', 'S  1']\n",
      "Setting up band-pass filter from 1 - 15 Hz\n",
      "l_trans_bandwidth chosen to be 1.0 Hz\n",
      "Filter length of 413 samples (3.304 sec) selected\n"
     ]
    },
    {
     "name": "stderr",
     "output_type": "stream",
     "text": [
      "<ipython-input-1-ed29da8bd2c2>:7: DeprecationWarning: stim_channel (default True in 0.17) will change to False in 0.18 and be removed in 0.19, set it to False in 0.17 to avoid this warning\n",
      "  raw = mne.io.read_raw_eeglab(fname, preload=True, event_id=event_id)\n"
     ]
    },
    {
     "name": "stdout",
     "output_type": "stream",
     "text": [
      "Used Annotations descriptions: ['boundary', 'S  4', 'story_onset', 'S  8', 'S  3', 'S  1', 'S  2']\n",
      "Setting up band-pass filter from 1 - 15 Hz\n",
      "l_trans_bandwidth chosen to be 1.0 Hz\n",
      "Filter length of 413 samples (3.304 sec) selected\n"
     ]
    }
   ],
   "source": [
    "import numpy as np\n",
    "import mne\n",
    "import os\n",
    "import scipy.io as sio\n",
    "def load_eeg(fname, story_order):\n",
    "    event_id = dict(story_onset=12, boundary=-1)\n",
    "    raw = mne.io.read_raw_eeglab(fname, preload=True, event_id=event_id)\n",
    "    raw_eeg = raw.copy().pick_types(eeg=True)\n",
    "    n_channels = len(raw_eeg.ch_names)\n",
    "    info = raw_eeg.info\n",
    "    story_order_1kHz = mne.event.read_events(story_order)\n",
    "    story_order_125Hz = story_order_1kHz.copy()\n",
    "    for i in range(len(story_order_125Hz)):\n",
    "        story_order_125Hz[i,0] = story_order_125Hz[i,0]/8\n",
    "    return raw_eeg, story_order_125Hz, n_channels, info\n",
    "\n",
    "set_path = np.load(os.path.join(os.getcwd(), \"../../set_path.npy\"))\n",
    "order_path = np.load(os.path.join(os.getcwd(), \"../../story_order_path.npy\"))\n",
    "no_participants = len(set_path)\n",
    "raw_eeg = []\n",
    "story_order_125Hz = []\n",
    "for i in range(no_participants):\n",
    "    raw_eegs, story_order_125Hzs, n_channels, info = load_eeg((os.path.join(os.getcwd(),\"../../\",set_path[i])), (os.path.join(os.getcwd(),\"../../\",order_path[i])))\n",
    "    raw_eeg.append(raw_eegs.filter(1,15, h_trans_bandwidth=2))\n",
    "    story_order_125Hz.append(story_order_125Hzs)\n",
    "sfreq =  info['sfreq']"
   ]
  },
  {
   "cell_type": "markdown",
   "metadata": {},
   "source": [
    "## Load Envelope"
   ]
  },
  {
   "cell_type": "code",
   "execution_count": 2,
   "metadata": {},
   "outputs": [
    {
     "name": "stderr",
     "output_type": "stream",
     "text": [
      "C:\\Users\\Karen\\AppData\\Local\\conda\\conda\\envs\\mne\\lib\\site-packages\\scipy\\signal\\signaltools.py:2383: FutureWarning: Using a non-tuple sequence for multidimensional indexing is deprecated; use `arr[tuple(seq)]` instead of `arr[seq]`. In the future this will be interpreted as an array index, `arr[np.array(seq)]`, which will result either in an error or a different result.\n",
      "  return y[keep]\n",
      "C:\\Users\\Karen\\AppData\\Local\\conda\\conda\\envs\\mne\\lib\\site-packages\\scipy\\signal\\signaltools.py:3463: FutureWarning: Using a non-tuple sequence for multidimensional indexing is deprecated; use `arr[tuple(seq)]` instead of `arr[seq]`. In the future this will be interpreted as an array index, `arr[np.array(seq)]`, which will result either in an error or a different result.\n",
      "  return y[sl]\n",
      "C:\\Users\\Karen\\AppData\\Local\\conda\\conda\\envs\\mne\\lib\\site-packages\\scipy\\signal\\_arraytools.py:45: FutureWarning: Using a non-tuple sequence for multidimensional indexing is deprecated; use `arr[tuple(seq)]` instead of `arr[seq]`. In the future this will be interpreted as an array index, `arr[np.array(seq)]`, which will result either in an error or a different result.\n",
      "  b = a[a_slice]\n",
      "C:\\Users\\Karen\\AppData\\Local\\conda\\conda\\envs\\mne\\lib\\site-packages\\scipy\\signal\\signaltools.py:2383: FutureWarning: Using a non-tuple sequence for multidimensional indexing is deprecated; use `arr[tuple(seq)]` instead of `arr[seq]`. In the future this will be interpreted as an array index, `arr[np.array(seq)]`, which will result either in an error or a different result.\n",
      "  return y[keep]\n",
      "C:\\Users\\Karen\\AppData\\Local\\conda\\conda\\envs\\mne\\lib\\site-packages\\scipy\\signal\\signaltools.py:3463: FutureWarning: Using a non-tuple sequence for multidimensional indexing is deprecated; use `arr[tuple(seq)]` instead of `arr[seq]`. In the future this will be interpreted as an array index, `arr[np.array(seq)]`, which will result either in an error or a different result.\n",
      "  return y[sl]\n",
      "C:\\Users\\Karen\\AppData\\Local\\conda\\conda\\envs\\mne\\lib\\site-packages\\scipy\\signal\\_arraytools.py:45: FutureWarning: Using a non-tuple sequence for multidimensional indexing is deprecated; use `arr[tuple(seq)]` instead of `arr[seq]`. In the future this will be interpreted as an array index, `arr[np.array(seq)]`, which will result either in an error or a different result.\n",
      "  b = a[a_slice]\n",
      "C:\\Users\\Karen\\AppData\\Local\\conda\\conda\\envs\\mne\\lib\\site-packages\\scipy\\signal\\signaltools.py:2383: FutureWarning: Using a non-tuple sequence for multidimensional indexing is deprecated; use `arr[tuple(seq)]` instead of `arr[seq]`. In the future this will be interpreted as an array index, `arr[np.array(seq)]`, which will result either in an error or a different result.\n",
      "  return y[keep]\n",
      "C:\\Users\\Karen\\AppData\\Local\\conda\\conda\\envs\\mne\\lib\\site-packages\\scipy\\signal\\signaltools.py:3463: FutureWarning: Using a non-tuple sequence for multidimensional indexing is deprecated; use `arr[tuple(seq)]` instead of `arr[seq]`. In the future this will be interpreted as an array index, `arr[np.array(seq)]`, which will result either in an error or a different result.\n",
      "  return y[sl]\n",
      "C:\\Users\\Karen\\AppData\\Local\\conda\\conda\\envs\\mne\\lib\\site-packages\\scipy\\signal\\_arraytools.py:45: FutureWarning: Using a non-tuple sequence for multidimensional indexing is deprecated; use `arr[tuple(seq)]` instead of `arr[seq]`. In the future this will be interpreted as an array index, `arr[np.array(seq)]`, which will result either in an error or a different result.\n",
      "  b = a[a_slice]\n",
      "C:\\Users\\Karen\\AppData\\Local\\conda\\conda\\envs\\mne\\lib\\site-packages\\scipy\\signal\\signaltools.py:2383: FutureWarning: Using a non-tuple sequence for multidimensional indexing is deprecated; use `arr[tuple(seq)]` instead of `arr[seq]`. In the future this will be interpreted as an array index, `arr[np.array(seq)]`, which will result either in an error or a different result.\n",
      "  return y[keep]\n",
      "C:\\Users\\Karen\\AppData\\Local\\conda\\conda\\envs\\mne\\lib\\site-packages\\scipy\\signal\\signaltools.py:3463: FutureWarning: Using a non-tuple sequence for multidimensional indexing is deprecated; use `arr[tuple(seq)]` instead of `arr[seq]`. In the future this will be interpreted as an array index, `arr[np.array(seq)]`, which will result either in an error or a different result.\n",
      "  return y[sl]\n",
      "C:\\Users\\Karen\\AppData\\Local\\conda\\conda\\envs\\mne\\lib\\site-packages\\scipy\\signal\\_arraytools.py:45: FutureWarning: Using a non-tuple sequence for multidimensional indexing is deprecated; use `arr[tuple(seq)]` instead of `arr[seq]`. In the future this will be interpreted as an array index, `arr[np.array(seq)]`, which will result either in an error or a different result.\n",
      "  b = a[a_slice]\n",
      "C:\\Users\\Karen\\AppData\\Local\\conda\\conda\\envs\\mne\\lib\\site-packages\\scipy\\signal\\signaltools.py:2383: FutureWarning: Using a non-tuple sequence for multidimensional indexing is deprecated; use `arr[tuple(seq)]` instead of `arr[seq]`. In the future this will be interpreted as an array index, `arr[np.array(seq)]`, which will result either in an error or a different result.\n",
      "  return y[keep]\n",
      "C:\\Users\\Karen\\AppData\\Local\\conda\\conda\\envs\\mne\\lib\\site-packages\\scipy\\signal\\signaltools.py:3463: FutureWarning: Using a non-tuple sequence for multidimensional indexing is deprecated; use `arr[tuple(seq)]` instead of `arr[seq]`. In the future this will be interpreted as an array index, `arr[np.array(seq)]`, which will result either in an error or a different result.\n",
      "  return y[sl]\n",
      "C:\\Users\\Karen\\AppData\\Local\\conda\\conda\\envs\\mne\\lib\\site-packages\\scipy\\signal\\_arraytools.py:45: FutureWarning: Using a non-tuple sequence for multidimensional indexing is deprecated; use `arr[tuple(seq)]` instead of `arr[seq]`. In the future this will be interpreted as an array index, `arr[np.array(seq)]`, which will result either in an error or a different result.\n",
      "  b = a[a_slice]\n",
      "C:\\Users\\Karen\\AppData\\Local\\conda\\conda\\envs\\mne\\lib\\site-packages\\scipy\\signal\\signaltools.py:2383: FutureWarning: Using a non-tuple sequence for multidimensional indexing is deprecated; use `arr[tuple(seq)]` instead of `arr[seq]`. In the future this will be interpreted as an array index, `arr[np.array(seq)]`, which will result either in an error or a different result.\n",
      "  return y[keep]\n",
      "C:\\Users\\Karen\\AppData\\Local\\conda\\conda\\envs\\mne\\lib\\site-packages\\scipy\\signal\\signaltools.py:3463: FutureWarning: Using a non-tuple sequence for multidimensional indexing is deprecated; use `arr[tuple(seq)]` instead of `arr[seq]`. In the future this will be interpreted as an array index, `arr[np.array(seq)]`, which will result either in an error or a different result.\n",
      "  return y[sl]\n",
      "C:\\Users\\Karen\\AppData\\Local\\conda\\conda\\envs\\mne\\lib\\site-packages\\scipy\\signal\\_arraytools.py:45: FutureWarning: Using a non-tuple sequence for multidimensional indexing is deprecated; use `arr[tuple(seq)]` instead of `arr[seq]`. In the future this will be interpreted as an array index, `arr[np.array(seq)]`, which will result either in an error or a different result.\n",
      "  b = a[a_slice]\n",
      "C:\\Users\\Karen\\AppData\\Local\\conda\\conda\\envs\\mne\\lib\\site-packages\\scipy\\signal\\signaltools.py:2383: FutureWarning: Using a non-tuple sequence for multidimensional indexing is deprecated; use `arr[tuple(seq)]` instead of `arr[seq]`. In the future this will be interpreted as an array index, `arr[np.array(seq)]`, which will result either in an error or a different result.\n",
      "  return y[keep]\n",
      "C:\\Users\\Karen\\AppData\\Local\\conda\\conda\\envs\\mne\\lib\\site-packages\\scipy\\signal\\signaltools.py:3463: FutureWarning: Using a non-tuple sequence for multidimensional indexing is deprecated; use `arr[tuple(seq)]` instead of `arr[seq]`. In the future this will be interpreted as an array index, `arr[np.array(seq)]`, which will result either in an error or a different result.\n",
      "  return y[sl]\n",
      "C:\\Users\\Karen\\AppData\\Local\\conda\\conda\\envs\\mne\\lib\\site-packages\\scipy\\signal\\_arraytools.py:45: FutureWarning: Using a non-tuple sequence for multidimensional indexing is deprecated; use `arr[tuple(seq)]` instead of `arr[seq]`. In the future this will be interpreted as an array index, `arr[np.array(seq)]`, which will result either in an error or a different result.\n",
      "  b = a[a_slice]\n",
      "C:\\Users\\Karen\\AppData\\Local\\conda\\conda\\envs\\mne\\lib\\site-packages\\scipy\\signal\\signaltools.py:2383: FutureWarning: Using a non-tuple sequence for multidimensional indexing is deprecated; use `arr[tuple(seq)]` instead of `arr[seq]`. In the future this will be interpreted as an array index, `arr[np.array(seq)]`, which will result either in an error or a different result.\n",
      "  return y[keep]\n",
      "C:\\Users\\Karen\\AppData\\Local\\conda\\conda\\envs\\mne\\lib\\site-packages\\scipy\\signal\\signaltools.py:3463: FutureWarning: Using a non-tuple sequence for multidimensional indexing is deprecated; use `arr[tuple(seq)]` instead of `arr[seq]`. In the future this will be interpreted as an array index, `arr[np.array(seq)]`, which will result either in an error or a different result.\n",
      "  return y[sl]\n",
      "C:\\Users\\Karen\\AppData\\Local\\conda\\conda\\envs\\mne\\lib\\site-packages\\scipy\\signal\\_arraytools.py:45: FutureWarning: Using a non-tuple sequence for multidimensional indexing is deprecated; use `arr[tuple(seq)]` instead of `arr[seq]`. In the future this will be interpreted as an array index, `arr[np.array(seq)]`, which will result either in an error or a different result.\n",
      "  b = a[a_slice]\n",
      "C:\\Users\\Karen\\AppData\\Local\\conda\\conda\\envs\\mne\\lib\\site-packages\\scipy\\signal\\signaltools.py:2383: FutureWarning: Using a non-tuple sequence for multidimensional indexing is deprecated; use `arr[tuple(seq)]` instead of `arr[seq]`. In the future this will be interpreted as an array index, `arr[np.array(seq)]`, which will result either in an error or a different result.\n",
      "  return y[keep]\n",
      "C:\\Users\\Karen\\AppData\\Local\\conda\\conda\\envs\\mne\\lib\\site-packages\\scipy\\signal\\signaltools.py:3463: FutureWarning: Using a non-tuple sequence for multidimensional indexing is deprecated; use `arr[tuple(seq)]` instead of `arr[seq]`. In the future this will be interpreted as an array index, `arr[np.array(seq)]`, which will result either in an error or a different result.\n",
      "  return y[sl]\n",
      "C:\\Users\\Karen\\AppData\\Local\\conda\\conda\\envs\\mne\\lib\\site-packages\\scipy\\signal\\_arraytools.py:45: FutureWarning: Using a non-tuple sequence for multidimensional indexing is deprecated; use `arr[tuple(seq)]` instead of `arr[seq]`. In the future this will be interpreted as an array index, `arr[np.array(seq)]`, which will result either in an error or a different result.\n",
      "  b = a[a_slice]\n"
     ]
    },
    {
     "name": "stderr",
     "output_type": "stream",
     "text": [
      "C:\\Users\\Karen\\AppData\\Local\\conda\\conda\\envs\\mne\\lib\\site-packages\\scipy\\signal\\signaltools.py:2383: FutureWarning: Using a non-tuple sequence for multidimensional indexing is deprecated; use `arr[tuple(seq)]` instead of `arr[seq]`. In the future this will be interpreted as an array index, `arr[np.array(seq)]`, which will result either in an error or a different result.\n",
      "  return y[keep]\n",
      "C:\\Users\\Karen\\AppData\\Local\\conda\\conda\\envs\\mne\\lib\\site-packages\\scipy\\signal\\signaltools.py:3463: FutureWarning: Using a non-tuple sequence for multidimensional indexing is deprecated; use `arr[tuple(seq)]` instead of `arr[seq]`. In the future this will be interpreted as an array index, `arr[np.array(seq)]`, which will result either in an error or a different result.\n",
      "  return y[sl]\n",
      "C:\\Users\\Karen\\AppData\\Local\\conda\\conda\\envs\\mne\\lib\\site-packages\\scipy\\signal\\_arraytools.py:45: FutureWarning: Using a non-tuple sequence for multidimensional indexing is deprecated; use `arr[tuple(seq)]` instead of `arr[seq]`. In the future this will be interpreted as an array index, `arr[np.array(seq)]`, which will result either in an error or a different result.\n",
      "  b = a[a_slice]\n",
      "C:\\Users\\Karen\\AppData\\Local\\conda\\conda\\envs\\mne\\lib\\site-packages\\scipy\\signal\\signaltools.py:2383: FutureWarning: Using a non-tuple sequence for multidimensional indexing is deprecated; use `arr[tuple(seq)]` instead of `arr[seq]`. In the future this will be interpreted as an array index, `arr[np.array(seq)]`, which will result either in an error or a different result.\n",
      "  return y[keep]\n",
      "C:\\Users\\Karen\\AppData\\Local\\conda\\conda\\envs\\mne\\lib\\site-packages\\scipy\\signal\\signaltools.py:3463: FutureWarning: Using a non-tuple sequence for multidimensional indexing is deprecated; use `arr[tuple(seq)]` instead of `arr[seq]`. In the future this will be interpreted as an array index, `arr[np.array(seq)]`, which will result either in an error or a different result.\n",
      "  return y[sl]\n",
      "C:\\Users\\Karen\\AppData\\Local\\conda\\conda\\envs\\mne\\lib\\site-packages\\scipy\\signal\\_arraytools.py:45: FutureWarning: Using a non-tuple sequence for multidimensional indexing is deprecated; use `arr[tuple(seq)]` instead of `arr[seq]`. In the future this will be interpreted as an array index, `arr[np.array(seq)]`, which will result either in an error or a different result.\n",
      "  b = a[a_slice]\n",
      "C:\\Users\\Karen\\AppData\\Local\\conda\\conda\\envs\\mne\\lib\\site-packages\\scipy\\signal\\signaltools.py:2383: FutureWarning: Using a non-tuple sequence for multidimensional indexing is deprecated; use `arr[tuple(seq)]` instead of `arr[seq]`. In the future this will be interpreted as an array index, `arr[np.array(seq)]`, which will result either in an error or a different result.\n",
      "  return y[keep]\n",
      "C:\\Users\\Karen\\AppData\\Local\\conda\\conda\\envs\\mne\\lib\\site-packages\\scipy\\signal\\signaltools.py:3463: FutureWarning: Using a non-tuple sequence for multidimensional indexing is deprecated; use `arr[tuple(seq)]` instead of `arr[seq]`. In the future this will be interpreted as an array index, `arr[np.array(seq)]`, which will result either in an error or a different result.\n",
      "  return y[sl]\n",
      "C:\\Users\\Karen\\AppData\\Local\\conda\\conda\\envs\\mne\\lib\\site-packages\\scipy\\signal\\_arraytools.py:45: FutureWarning: Using a non-tuple sequence for multidimensional indexing is deprecated; use `arr[tuple(seq)]` instead of `arr[seq]`. In the future this will be interpreted as an array index, `arr[np.array(seq)]`, which will result either in an error or a different result.\n",
      "  b = a[a_slice]\n",
      "C:\\Users\\Karen\\AppData\\Local\\conda\\conda\\envs\\mne\\lib\\site-packages\\scipy\\signal\\signaltools.py:2383: FutureWarning: Using a non-tuple sequence for multidimensional indexing is deprecated; use `arr[tuple(seq)]` instead of `arr[seq]`. In the future this will be interpreted as an array index, `arr[np.array(seq)]`, which will result either in an error or a different result.\n",
      "  return y[keep]\n",
      "C:\\Users\\Karen\\AppData\\Local\\conda\\conda\\envs\\mne\\lib\\site-packages\\scipy\\signal\\signaltools.py:3463: FutureWarning: Using a non-tuple sequence for multidimensional indexing is deprecated; use `arr[tuple(seq)]` instead of `arr[seq]`. In the future this will be interpreted as an array index, `arr[np.array(seq)]`, which will result either in an error or a different result.\n",
      "  return y[sl]\n",
      "C:\\Users\\Karen\\AppData\\Local\\conda\\conda\\envs\\mne\\lib\\site-packages\\scipy\\signal\\_arraytools.py:45: FutureWarning: Using a non-tuple sequence for multidimensional indexing is deprecated; use `arr[tuple(seq)]` instead of `arr[seq]`. In the future this will be interpreted as an array index, `arr[np.array(seq)]`, which will result either in an error or a different result.\n",
      "  b = a[a_slice]\n",
      "C:\\Users\\Karen\\AppData\\Local\\conda\\conda\\envs\\mne\\lib\\site-packages\\scipy\\signal\\signaltools.py:2383: FutureWarning: Using a non-tuple sequence for multidimensional indexing is deprecated; use `arr[tuple(seq)]` instead of `arr[seq]`. In the future this will be interpreted as an array index, `arr[np.array(seq)]`, which will result either in an error or a different result.\n",
      "  return y[keep]\n",
      "C:\\Users\\Karen\\AppData\\Local\\conda\\conda\\envs\\mne\\lib\\site-packages\\scipy\\signal\\signaltools.py:3463: FutureWarning: Using a non-tuple sequence for multidimensional indexing is deprecated; use `arr[tuple(seq)]` instead of `arr[seq]`. In the future this will be interpreted as an array index, `arr[np.array(seq)]`, which will result either in an error or a different result.\n",
      "  return y[sl]\n",
      "C:\\Users\\Karen\\AppData\\Local\\conda\\conda\\envs\\mne\\lib\\site-packages\\scipy\\signal\\_arraytools.py:45: FutureWarning: Using a non-tuple sequence for multidimensional indexing is deprecated; use `arr[tuple(seq)]` instead of `arr[seq]`. In the future this will be interpreted as an array index, `arr[np.array(seq)]`, which will result either in an error or a different result.\n",
      "  b = a[a_slice]\n",
      "C:\\Users\\Karen\\AppData\\Local\\conda\\conda\\envs\\mne\\lib\\site-packages\\scipy\\signal\\signaltools.py:2383: FutureWarning: Using a non-tuple sequence for multidimensional indexing is deprecated; use `arr[tuple(seq)]` instead of `arr[seq]`. In the future this will be interpreted as an array index, `arr[np.array(seq)]`, which will result either in an error or a different result.\n",
      "  return y[keep]\n",
      "C:\\Users\\Karen\\AppData\\Local\\conda\\conda\\envs\\mne\\lib\\site-packages\\scipy\\signal\\signaltools.py:3463: FutureWarning: Using a non-tuple sequence for multidimensional indexing is deprecated; use `arr[tuple(seq)]` instead of `arr[seq]`. In the future this will be interpreted as an array index, `arr[np.array(seq)]`, which will result either in an error or a different result.\n",
      "  return y[sl]\n",
      "C:\\Users\\Karen\\AppData\\Local\\conda\\conda\\envs\\mne\\lib\\site-packages\\scipy\\signal\\_arraytools.py:45: FutureWarning: Using a non-tuple sequence for multidimensional indexing is deprecated; use `arr[tuple(seq)]` instead of `arr[seq]`. In the future this will be interpreted as an array index, `arr[np.array(seq)]`, which will result either in an error or a different result.\n",
      "  b = a[a_slice]\n"
     ]
    }
   ],
   "source": [
    "from scipy.io import wavfile\n",
    "from scipy import signal\n",
    "from sklearn.preprocessing import scale\n",
    "def get_env():\n",
    "    story_name_path = sio.loadmat(os.path.join(os.getcwd(), \"../../story_name_path.mat\"))['story_name_loc']            \n",
    "    sfreq = 125\n",
    "    envelopes = [];\n",
    "    for i in range(15):\n",
    "        envelope, time = load_env(story_name_path[i], sfreq)\n",
    "        envelope = np.reshape(scale(envelope.T),(len(envelope),1))\n",
    "        envelopes.append(envelope)        \n",
    "    return envelopes\n",
    "\n",
    "def load_env(fname, sfreq):\n",
    "    fs, data = wavfile.read(os.path.join(os.getcwd(), \"../../\",fname))\n",
    "    time = np.linspace(0., len(data)/fs, len(data))\n",
    "    data = abs(data)\n",
    "    speech = signal.decimate(x=data, q=int(fs/sfreq), ftype='fir')\n",
    "    b, a = signal.butter(3, 0.12, 'low')\n",
    "    speech = signal.filtfilt(b, a, speech)\n",
    "    return speech, time\n",
    "\n",
    "envelopes = get_env()"
   ]
  },
  {
   "cell_type": "markdown",
   "metadata": {},
   "source": [
    "## Order EEG according to envelope"
   ]
  },
  {
   "cell_type": "code",
   "execution_count": 3,
   "metadata": {},
   "outputs": [
    {
     "data": {
      "text/plain": [
       "13"
      ]
     },
     "execution_count": 3,
     "metadata": {},
     "output_type": "execute_result"
    }
   ],
   "source": [
    "len(raw_eeg)"
   ]
  },
  {
   "cell_type": "code",
   "execution_count": 4,
   "metadata": {},
   "outputs": [],
   "source": [
    "def all_eeg_ordered(raw_eeg, story_order_125Hz, envelopes, no_participants):\n",
    "    all_raw_stories = []\n",
    "    all_times = []\n",
    "    speech_duration = np.zeros((15,1))\n",
    "    for n in range(no_participants):\n",
    "        raw_stories = []\n",
    "        times = []\n",
    "        for i in range(15):\n",
    "            raw_story, time = get_eeg_ordered(raw_eeg[n],story_order_125Hz[n],envelopes[i],i)\n",
    "            raw_stories.append(raw_story.T)\n",
    "            times.append(time)\n",
    "            speech_duration[i] = len(envelopes[i]) \n",
    "        all_raw_stories.append(raw_stories)\n",
    "        all_times.append(times)\n",
    "    return all_raw_stories, speech_duration\n",
    "\n",
    "def get_eeg_ordered(raw_eeg, story_order_125Hz, envelope, story_no):\n",
    "    raw_story, times = raw_eeg[:,story_order_125Hz[story_order_125Hz[:,2]==story_no][0][0]:(story_order_125Hz[story_order_125Hz[:,2]==story_no][0][0]+len(envelope))]\n",
    "    return raw_story, times\n",
    "\n",
    "stories, speech_duration = all_eeg_ordered(raw_eeg, story_order_125Hz, envelopes, no_participants)"
   ]
  },
  {
   "cell_type": "code",
   "execution_count": 5,
   "metadata": {},
   "outputs": [],
   "source": [
    "x = np.concatenate(envelopes)\n",
    "y = np.concatenate(stories[3])    # for participant 4"
   ]
  },
  {
   "cell_type": "markdown",
   "metadata": {},
   "source": [
    "## Run CCA modelling"
   ]
  },
  {
   "cell_type": "code",
   "execution_count": 6,
   "metadata": {},
   "outputs": [
    {
     "name": "stderr",
     "output_type": "stream",
     "text": [
      "INFO:pyeeg.cca:Will use lags spanning form tmin to tmax.\n",
      "To use individual lags, use the `times` argument...\n"
     ]
    }
   ],
   "source": [
    "from pyeeg.cca import CCA_Estimator\n",
    "cca = CCA_Estimator(tmin=-0.6, tmax=0.8, srate=info['sfreq'])\n",
    "cca.fit(x, y, 0.7, feat_names=[\"Speech Envelope\"])"
   ]
  },
  {
   "cell_type": "markdown",
   "metadata": {},
   "source": [
    "## Plot coefficients\n"
   ]
  },
  {
   "cell_type": "code",
   "execution_count": 7,
   "metadata": {},
   "outputs": [
    {
     "data": {
      "image/png": "[encoded data removed]",
      "text/plain": [
       "<Figure size 432x288 with 1 Axes>"
      ]
     },
     "metadata": {
      "needs_background": "light"
     },
     "output_type": "display_data"
    }
   ],
   "source": [
    "import matplotlib.pyplot as plt\n",
    "cca.plot_time_filter(n_comp=2)"
   ]
  },
  {
   "cell_type": "code",
   "execution_count": 8,
   "metadata": {},
   "outputs": [
    {
     "data": {
      "text/plain": [
       "(64, 2)"
      ]
     },
     "execution_count": 8,
     "metadata": {},
     "output_type": "execute_result"
    }
   ],
   "source": [
    "cca.coefB_.shape"
   ]
  },
  {
   "cell_type": "code",
   "execution_count": 9,
   "metadata": {},
   "outputs": [
    {
     "data": {
      "image/png": "[encoded data removed]",
      "text/plain": [
       "<Figure size 432x288 with 1 Axes>"
      ]
     },
     "metadata": {},
     "output_type": "display_data"
    }
   ],
   "source": [
    "cca.plot_spatial_filter(info, 1, 0)"
   ]
  },
  {
   "cell_type": "code",
   "execution_count": 10,
   "metadata": {},
   "outputs": [
    {
     "data": {
      "text/plain": [
       "(297771, 64)"
      ]
     },
     "execution_count": 10,
     "metadata": {},
     "output_type": "execute_result"
    }
   ],
   "source": [
    "y.shape"
   ]
  },
  {
   "cell_type": "code",
   "execution_count": null,
   "metadata": {},
   "outputs": [],
   "source": []
  }
 ],
 "metadata": {
  "kernelspec": {
   "display_name": "Python 3",
   "language": "python",
   "name": "python3"
  },
  "language_info": {
   "codemirror_mode": {
    "name": "ipython",
    "version": 3
   },
   "file_extension": ".py",
   "mimetype": "text/x-python",
   "name": "python",
   "nbconvert_exporter": "python",
   "pygments_lexer": "ipython3",
   "version": "3.6.7"
  }
 },
 "nbformat": 4,
 "nbformat_minor": 2
}
